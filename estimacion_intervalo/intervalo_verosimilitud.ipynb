{
 "cells": [
  {
   "cell_type": "markdown",
   "id": "65edcd02",
   "metadata": {
    "slideshow": {
     "slide_type": "slide"
    }
   },
   "source": [
    "<br>\n",
    "<br>\n",
    "<br>\n",
    "<br>\n",
    "<br>\n",
    "<h1 style='text-align: center; \n",
    "          font-family:courier;\n",
    "          font-size:2em;'> \n",
    "    Estimación por intervalos en el enfoque de verosimilitud\n",
    "</h1>\n",
    "<br>\n",
    "<br>\n",
    "<h4 style='text-align:left; \n",
    "          font-family:courier;\n",
    "          font-size:1.5em;'>\n",
    "    Inferencia estadística<br>\n",
    "    Por: Jorge Iván Reyes Hernández\n",
    "</h4>\n",
    "<br>\n",
    "<br>\n",
    "<br>\n",
    "<br>"
   ]
  },
  {
   "cell_type": "markdown",
   "id": "893f020c",
   "metadata": {
    "slideshow": {
     "slide_type": "slide"
    }
   },
   "source": [
    "Para diferenciar el método de verosimilitud con el método frecuentista, resumiremos lo que encontramos usando este último."
   ]
  },
  {
   "cell_type": "markdown",
   "id": "bd9194ef",
   "metadata": {
    "slideshow": {
     "slide_type": "fragment"
    }
   },
   "source": [
    "Sea $X_1, \\dots , X_n$ una muestra aleatoria de una población $\\mathcal{N}(\\mu, \\sigma ^{2})$ con $\\sigma ^{2} \\in \\mathbb{R}^{+}$ conocida, y $\\mu \\in \\Theta = \\mathbb{R}$.\n",
    "\n",
    "El intervalo del $(1-\\alpha)\\%$ de confianza para $\\mu$ (en el enfoque frecuentista) es,\n",
    "$$\n",
    "    \\bigg( \\bar{x} + z_{\\alpha /2}\\frac{\\sigma}{\\sqrt{n}}, \\bar{x} + z_{1- \\alpha /2}\\frac{\\sigma}{\\sqrt{n}} \\bigg)\n",
    "$$"
   ]
  },
  {
   "cell_type": "markdown",
   "id": "88121ddf",
   "metadata": {
    "slideshow": {
     "slide_type": "slide"
    }
   },
   "source": [
    "Para encontrar un intervalo para $\\mu$ en el enfoque de verosimilitud debemos partir de la función de verosimilitud $\\mathcal{L}$\n",
    "\n",
    "$$\n",
    "    \\mathcal{L}(\\mu ; \\underline{X}) = \\frac{L(\\mu;\\underline{X})}{\\max_{\\mu \\in \\Theta} L(\\mu; \\underline{X})}\n",
    "$$"
   ]
  },
  {
   "cell_type": "markdown",
   "id": "cf838866",
   "metadata": {
    "slideshow": {
     "slide_type": "fragment"
    }
   },
   "source": [
    "$$\n",
    "\\hspace{4 cm} = \\frac{\\prod _{i=1} ^{n} f_{X_i}(x_i;\\mu)}{\\max_{\\mu \\in \\Theta} \\prod _{i=1} ^{n} f_{X_i}(x_i;\\mu)}\n",
    "$$"
   ]
  },
  {
   "cell_type": "markdown",
   "id": "805f94b2",
   "metadata": {
    "slideshow": {
     "slide_type": "fragment"
    }
   },
   "source": [
    "$$\n",
    "\\hspace{5 cm} = \\frac{\\prod _{i=1} ^{n} \\frac{1}{\\sqrt{2\\pi \\sigma ^{2}}}e^{-\\frac{(x_i - \\mu)^{2}}{2\\sigma^{2}}} }{\\max_{\\mu \\in \\Theta} \\prod _{i=1} ^{n} \\frac{1}{\\sqrt{2\\pi \\sigma ^{2}}}e^{-\\frac{(x_i - \\mu)^{2}}{2\\sigma^{2}}}}\n",
    "$$"
   ]
  },
  {
   "cell_type": "markdown",
   "id": "cbfa4692",
   "metadata": {
    "slideshow": {
     "slide_type": "fragment"
    }
   },
   "source": [
    "$$\n",
    "\\hspace{4 cm} = \\frac{e^{-\\sum_{i=1}^{n}(x_i - \\mu)^{2} / 2\\sigma^{2}} }{\\max_{\\mu \\in \\Theta} e^{-\\sum_{i=1}^{n}(x_i - \\mu)^{2} / 2\\sigma^{2}}}\n",
    "$$"
   ]
  },
  {
   "cell_type": "markdown",
   "id": "42db92ea",
   "metadata": {
    "slideshow": {
     "slide_type": "subslide"
    }
   },
   "source": [
    "Pero la media/esperanza minimiza la distancia cuadrática/MSE, por lo que\n",
    "\n",
    "$$\n",
    "    \\max_{\\mu \\in \\Theta} e^{-\\sum_{i=1}^{n}(x_i - \\mu)^{2} / 2\\sigma^{2}} = e^{-\\sum_{i=1}^{n}(x_i - \\bar{x})^{2} / 2\\sigma^{2}}\n",
    "$$"
   ]
  },
  {
   "cell_type": "markdown",
   "id": "1efc272b",
   "metadata": {
    "slideshow": {
     "slide_type": "fragment"
    }
   },
   "source": [
    "Entonces,\n",
    "\n",
    "\n",
    "$$\n",
    "    \\mathcal{L}(\\mu ; \\underline{X}) = \\frac{e^{-\\sum_{i=1}^{n}(x_i - \\mu)^{2} / 2\\sigma^{2}} }{e^{-\\sum_{i=1}^{n}(x_i - \\bar{x})^{2} / 2\\sigma^{2}}}\n",
    "$$"
   ]
  },
  {
   "cell_type": "markdown",
   "id": "2784d1c1",
   "metadata": {
    "slideshow": {
     "slide_type": "fragment"
    }
   },
   "source": [
    "$$\n",
    "\\hspace{4 cm} = \\exp{\\bigg(-\\frac{n}{2\\sigma^{2}}(\\mu - \\bar{x}) \\bigg)}\n",
    "$$"
   ]
  },
  {
   "cell_type": "markdown",
   "id": "ca38640c",
   "metadata": {
    "slideshow": {
     "slide_type": "subslide"
    }
   },
   "source": [
    "Es decir,\n",
    "\n",
    "$$\n",
    "    \\mathcal{L}(\\mu ; \\underline{X}) = \\exp{\\bigg(-\\frac{n}{2\\sigma^{2}}(\\mu - \\bar{x}) \\bigg)}\n",
    "$$"
   ]
  },
  {
   "cell_type": "markdown",
   "id": "d9c5322b",
   "metadata": {
    "slideshow": {
     "slide_type": "fragment"
    }
   },
   "source": [
    "El $\\frac{1}{k}$-intervalo de soporte para $\\mu$ se encuentra proponiendo:\n",
    "\n",
    "$$\n",
    "    \\mathcal{L}(\\mu ; \\underline{X}) \\geq \\frac{1}{k}\n",
    "$$"
   ]
  },
  {
   "cell_type": "markdown",
   "id": "9727b3fa",
   "metadata": {
    "slideshow": {
     "slide_type": "fragment"
    }
   },
   "source": [
    "En otras palabras, el intervalo para $\\mu$ debe contener aquellos valores que hacen que la probabilidad de haber observado la muestra (i.e la verosimilitud) sea mayor o igual que $\\frac{1}{k}$."
   ]
  },
  {
   "cell_type": "markdown",
   "id": "fc0d02e5",
   "metadata": {
    "slideshow": {
     "slide_type": "fragment"
    }
   },
   "source": [
    "Observaciones:\n",
    "\n",
    "- $k \\in [1, \\infty)$\n",
    "- Son de interés valores de $k$ cercanos a uno (por la derecha).\n",
    "- En la práctica, para generar intervalos funcionan mejor valores grande de k."
   ]
  },
  {
   "cell_type": "markdown",
   "id": "385c302b",
   "metadata": {
    "slideshow": {
     "slide_type": "subslide"
    }
   },
   "source": [
    "En nuestro problema,\n",
    "\n",
    "$$\n",
    "    \\mathcal{L}(\\mu ; \\underline{X}) \\geq \\frac{1}{k}\n",
    "$$\n",
    "\n",
    "si y solo si,\n",
    "\n",
    "$$\n",
    "    \\exp{\\bigg(-\\frac{n}{2\\sigma^{2}}(\\mu - \\bar{x}) \\bigg)} \\geq \\frac{1}{k}\n",
    "$$\n",
    "\n",
    "si y solo si,\n",
    "\n",
    "$$\n",
    "    -\\frac{n}{2\\sigma^{2}}(\\mu - \\bar{x}) \\geq \\ln{\\frac{1}{k}} = -\\ln{k}\n",
    "$$\n",
    "\n",
    "si y solo si,\n",
    "\n",
    "$$\n",
    "    (\\mu - \\bar{x})^{2} \\leq \\frac{2 \\ln{k} \\sigma^{2}}{n}\n",
    "$$"
   ]
  },
  {
   "cell_type": "markdown",
   "id": "57083912",
   "metadata": {
    "slideshow": {
     "slide_type": "subslide"
    }
   },
   "source": [
    "Si y solo si,\n",
    "\n",
    "$$\n",
    "    |\\mu - \\bar{x}| \\leq \\sqrt{\\frac{2 \\ln{(k)} \\sigma^{2}}{n}}\n",
    "$$\n",
    "\n",
    "si y solo si,\n",
    "\n",
    "$$\n",
    "    -\\sqrt{\\frac{2 \\ln{(k)} \\sigma^{2}}{n}} \\leq \\mu - \\bar{x} \\leq \\sqrt{\\frac{2 \\ln{(k)} \\sigma^{2}}{n}}\n",
    "$$\n",
    "\n",
    "si y solo si,\n",
    "\n",
    "$$\n",
    "    \\bar{x} -\\sqrt{\\frac{2 \\ln{(k)} \\sigma^{2}}{n}} \\leq \\mu  \\leq \\bar{x} + \\sqrt{\\frac{2 \\ln{(k)} \\sigma^{2}}{n}}\n",
    "$$"
   ]
  },
  {
   "cell_type": "markdown",
   "id": "c4d117a1",
   "metadata": {
    "slideshow": {
     "slide_type": "subslide"
    }
   },
   "source": [
    "Por lo que el $\\frac{1}{k}$-intervalo para la media de una población normal con varianza conocida (en el enfoque de verosimilitud) es,\n",
    "\n",
    "$$\n",
    "    \\bigg[\\bar{x} -\\sqrt{\\frac{2 \\ln{(k)} \\sigma^{2}}{n}}, \\bar{x} + \\sqrt{\\frac{2 \\ln{(k)} \\sigma^{2}}{n}} \\bigg]\n",
    "$$"
   ]
  },
  {
   "cell_type": "markdown",
   "id": "c4bd7b6f",
   "metadata": {
    "slideshow": {
     "slide_type": "slide"
    }
   },
   "source": [
    "Simulación.\n",
    "\n",
    "Sea $X_1, \\dots, X_n$ una m.a de una población $\\mathcal{N}(\\mu, 100)$. \n",
    "Construir intervalos frecuentistas al $90 \\%$ de confianza, e intervalos de verosimilitud para $k=4$."
   ]
  },
  {
   "cell_type": "code",
   "execution_count": null,
   "id": "5cca9601",
   "metadata": {
    "slideshow": {
     "slide_type": "slide"
    }
   },
   "outputs": [],
   "source": [
    "import scipy.stats as stats\n",
    "import numpy as np"
   ]
  },
  {
   "cell_type": "code",
   "execution_count": null,
   "id": "60655bb7",
   "metadata": {
    "slideshow": {
     "slide_type": "subslide"
    }
   },
   "outputs": [],
   "source": [
    "# Valor verdadero \\mu = 3\n",
    "mu = 3\n",
    "\n",
    "sigma2 = 10\n",
    "sigma = np.sqrt(sigma2)\n",
    "n = 10\n",
    "\n",
    "alpha = 0.1\n",
    "k = 4\n",
    "\n",
    "q_1 = stats.norm.ppf(q=(alpha/2), loc=0, scale=1)\n",
    "q_2 = stats.norm.ppf(q=1-(alpha/2), loc=0, scale=1)\n",
    "\n",
    "print(q_1, q_2)\n",
    "print(1-alpha)"
   ]
  },
  {
   "cell_type": "code",
   "execution_count": null,
   "id": "f6f0952f",
   "metadata": {
    "slideshow": {
     "slide_type": "subslide"
    }
   },
   "outputs": [],
   "source": [
    "def freq_interval(sample):\n",
    "    x_mean = sample.mean()\n",
    "    aux = (sigma / np.sqrt(sample.size))\n",
    "    \n",
    "    L = x_mean + q_1 * aux\n",
    "    U = x_mean + q_2 * aux\n",
    "    \n",
    "    return L, U"
   ]
  },
  {
   "cell_type": "code",
   "execution_count": null,
   "id": "2def4301",
   "metadata": {
    "slideshow": {
     "slide_type": "fragment"
    }
   },
   "outputs": [],
   "source": [
    "def like_interval(sample):\n",
    "    x_mean = sample.mean()\n",
    "    aux = np.sqrt((2 * np.log(k)) / n) * sigma\n",
    "    \n",
    "    L = x_mean - aux\n",
    "    U = x_mean + aux\n",
    "    \n",
    "    return L, U"
   ]
  },
  {
   "cell_type": "code",
   "execution_count": null,
   "id": "dff4e41e",
   "metadata": {
    "slideshow": {
     "slide_type": "subslide"
    }
   },
   "outputs": [],
   "source": [
    "# Valor verdadero \\mu = 0\n",
    "\n",
    "random_sample = stats.norm.rvs(loc=0, scale=sigma, size=n)"
   ]
  },
  {
   "cell_type": "code",
   "execution_count": null,
   "id": "8220178f",
   "metadata": {
    "slideshow": {
     "slide_type": "fragment"
    }
   },
   "outputs": [],
   "source": [
    "freq_interval(random_sample)"
   ]
  },
  {
   "cell_type": "code",
   "execution_count": null,
   "id": "7151de79",
   "metadata": {
    "slideshow": {
     "slide_type": "fragment"
    }
   },
   "outputs": [],
   "source": [
    "like_interval(random_sample)"
   ]
  },
  {
   "cell_type": "code",
   "execution_count": null,
   "id": "1c9206d3",
   "metadata": {
    "slideshow": {
     "slide_type": "slide"
    }
   },
   "outputs": [],
   "source": [
    "def experiment(N):\n",
    "    succ_f = 0\n",
    "    succ_l = 0\n",
    "    \n",
    "    g_f = 0\n",
    "    g_l = 0\n",
    "    \n",
    "    for i in range(N):\n",
    "        random_sample = stats.norm.rvs(loc=mu, scale=sigma, size=n)\n",
    "        L_f, U_f = freq_interval(random_sample)\n",
    "        L_l, U_l = like_interval(random_sample)\n",
    "        \n",
    "        if L_f <= mu <= U_f:\n",
    "            succ_f += 1\n",
    "\n",
    "\n",
    "        if L_l <= mu <= U_l:\n",
    "            succ_l += 1\n",
    "            \n",
    "        long_f = U_f - L_f\n",
    "        long_l = U_l - L_l\n",
    "        \n",
    "        if long_f >= long_l:\n",
    "            g_l += 1\n",
    "        else:\n",
    "            g_f += 1    \n",
    "            \n",
    "    print(\"Intervalos que contienen al parámetro (frecuentista): \",succ_f, \" de \", N, f\"{succ_f/N:.2f}\")\n",
    "    print(\"Intervalos que contienen al parámetro (frecuentista): \",succ_l, \" de \", N, f\"{succ_l/N:.2f}\")\n",
    "    print(g_f, g_l)\n",
    "    print(f\"{L_f:.2f}, {U_f:.2f}\")\n",
    "    print(f\"{L_l:.2f}, {U_l:.2f}\")"
   ]
  },
  {
   "cell_type": "code",
   "execution_count": null,
   "id": "ca611a6a",
   "metadata": {
    "slideshow": {
     "slide_type": "subslide"
    }
   },
   "outputs": [],
   "source": [
    "experiment(1000)"
   ]
  }
 ],
 "metadata": {
  "celltoolbar": "Slideshow",
  "kernelspec": {
   "display_name": "Python 3 (ipykernel)",
   "language": "python",
   "name": "python3"
  },
  "language_info": {
   "codemirror_mode": {
    "name": "ipython",
    "version": 3
   },
   "file_extension": ".py",
   "mimetype": "text/x-python",
   "name": "python",
   "nbconvert_exporter": "python",
   "pygments_lexer": "ipython3",
   "version": "3.10.6"
  }
 },
 "nbformat": 4,
 "nbformat_minor": 5
}
