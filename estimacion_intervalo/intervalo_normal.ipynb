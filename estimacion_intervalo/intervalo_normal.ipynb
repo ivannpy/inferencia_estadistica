{
 "cells": [
  {
   "cell_type": "markdown",
   "id": "39443dfc",
   "metadata": {},
   "source": [
    "## Intervalos de confianza"
   ]
  },
  {
   "cell_type": "code",
   "execution_count": 1,
   "id": "de4a602b",
   "metadata": {},
   "outputs": [],
   "source": [
    "import scipy.stats as stats\n",
    "import numpy as np"
   ]
  },
  {
   "cell_type": "code",
   "execution_count": 2,
   "id": "4388bb28",
   "metadata": {},
   "outputs": [],
   "source": [
    "n = 100  # tamaño de la muestra\n",
    "theta = 3  # Valor real del parámetro. Lo necesitamos para saber si el intervalo lo cubre\n",
    "sigma2 = 4  # Varianza\n",
    "sigma = np.sqrt(sigma2)  # Desviación estándar\n",
    "\n",
    "# Muestra aleatoria de una distribución normal con media=theta, desviacion_estándar=sigma\n",
    "# Tamaño de muestra size=n\n",
    "random_sample = stats.norm.rvs(loc= theta, scale=sigma, size=n)"
   ]
  },
  {
   "cell_type": "code",
   "execution_count": 3,
   "id": "f9d1ac2a",
   "metadata": {},
   "outputs": [
    {
     "data": {
      "text/plain": [
       "numpy.ndarray"
      ]
     },
     "execution_count": 3,
     "metadata": {},
     "output_type": "execute_result"
    }
   ],
   "source": [
    "type(random_sample)"
   ]
  },
  {
   "cell_type": "code",
   "execution_count": 4,
   "id": "bf30657d",
   "metadata": {},
   "outputs": [],
   "source": [
    "def L_U(X):\n",
    "    \"\"\" Función que, dada la muestra aleatoria {@param:X}, calcula los extremos del intervalo\n",
    "    :param X: Muestra aleatoria.\n",
    "    :return: (L, U) con L el extremo inferior y U el extremo superior del intervalo.\n",
    "    \"\"\"\n",
    "    \n",
    "    x_mean = X.mean()  # Media de la muestra aleatoria\n",
    "    \n",
    "    # Coeficiente. Este depende tanto del tamaño de la muestra como del nivel de confianza.\n",
    "    aux = (1.96) * (sigma / np.sqrt(n))\n",
    "    \n",
    "    # Extremos\n",
    "    L = x_mean - aux\n",
    "    U = x_mean + aux\n",
    "    \n",
    "    return L, U\n"
   ]
  },
  {
   "cell_type": "code",
   "execution_count": 5,
   "id": "8525423e",
   "metadata": {},
   "outputs": [
    {
     "data": {
      "text/plain": [
       "(2.547800930417474, 3.3318009304174736)"
      ]
     },
     "execution_count": 5,
     "metadata": {},
     "output_type": "execute_result"
    }
   ],
   "source": [
    "L_U(random_sample)"
   ]
  },
  {
   "cell_type": "code",
   "execution_count": 6,
   "id": "dcb6f633",
   "metadata": {},
   "outputs": [],
   "source": [
    "def experiment(N = 10000):\n",
    "    \"\"\" Función para simular {@param:N} veces la construcción del intervalo de confianza.\n",
    "    Imprime el nivel de confianza dado por:\n",
    "        Veces que el intervalo construido cubre al valor real / veces totales que se corrió el experimento\n",
    "    \n",
    "    :param N: La cantidad de veces que se repetirá el experimento.\n",
    "    :return: None.\n",
    "    \"\"\"\n",
    "    \n",
    "    # Variable para contar cuántas veces el intervalo cubre al valor real.\n",
    "    succ = 0\n",
    "    \n",
    "    \n",
    "    for _ in range(N):\n",
    "        # Muestra aleatoria de tamaño n\n",
    "        random_sample = stats.norm.rvs(loc=theta, scale=sigma, size=n)\n",
    "        # Construimos el intervalo\n",
    "        L, U = L_U(random_sample)\n",
    "        # Verificamos si el valor real está en el intervalo.\n",
    "        if L < theta < U:\n",
    "            # Si el valor real está en el intervalo, incrementamos nuestra variable\n",
    "            succ += 1\n",
    "            \n",
    "    # Imprimos la frecuencia con la que el intervalo cubre al valor real.\n",
    "    # Este valor coincide (véase probabilidad frecuentista), para {@param:N} suficientemente\n",
    "    # grande, con la probabilidad de que el parámetro caiga en el intervalo.\n",
    "    print(succ/N)\n",
    "    "
   ]
  },
  {
   "cell_type": "code",
   "execution_count": 7,
   "id": "187b1b2a",
   "metadata": {},
   "outputs": [
    {
     "name": "stdout",
     "output_type": "stream",
     "text": [
      "0.95071\n"
     ]
    }
   ],
   "source": [
    "experiment(100000)\n"
   ]
  },
  {
   "cell_type": "code",
   "execution_count": null,
   "id": "e992376f",
   "metadata": {},
   "outputs": [],
   "source": []
  }
 ],
 "metadata": {
  "kernelspec": {
   "display_name": "Python 3 (ipykernel)",
   "language": "python",
   "name": "python3"
  },
  "language_info": {
   "codemirror_mode": {
    "name": "ipython",
    "version": 3
   },
   "file_extension": ".py",
   "mimetype": "text/x-python",
   "name": "python",
   "nbconvert_exporter": "python",
   "pygments_lexer": "ipython3",
   "version": "3.10.6"
  }
 },
 "nbformat": 4,
 "nbformat_minor": 5
}
