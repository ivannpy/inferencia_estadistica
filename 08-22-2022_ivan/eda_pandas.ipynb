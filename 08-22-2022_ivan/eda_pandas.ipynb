{
 "cells": [
  {
   "cell_type": "markdown",
   "id": "629c160d-6e33-4968-b81d-878889b95508",
   "metadata": {},
   "source": [
    "<br>\n",
    "<br>\n",
    "<br>\n",
    "<br>\n",
    "<br>\n",
    "<h1 style='text-align: center; \n",
    "          font-family:courier;\n",
    "          font-size:3em;'> \n",
    "    Limpieza y preprocesamiento de datos con Pandas\n",
    "</h1>\n",
    "<br>\n",
    "<br>\n",
    "<h4 style='text-align:left; \n",
    "          font-family:courier;\n",
    "          font-size:1.5em;'>\n",
    "    Inferencia estadística<br>\n",
    "    Por: Jorge Iván Reyes Hernández\n",
    "</h4>\n",
    "<br>\n",
    "<br>\n",
    "<br>\n",
    "<br>"
   ]
  },
  {
   "cell_type": "markdown",
   "id": "6fd4fd3a-0835-4928-99e3-fa00748ba2a2",
   "metadata": {},
   "source": [
    "# Introducción\n",
    "- Pandas es la libreria por default para trabajar con conjuntos de datos grandes (cuyo peso sea menor o igual a 1 GB) usando Python.\n",
    "\n",
    "- Su nombre viene de \"PANel DAta\", que hace referencia a datos tabulares (que son los que generalmente se trabajan usando esta libreria).\n",
    "\n",
    "- Pandas es ampliamente usado, por ejemplo, fue usado durante la construcción de la primera imagen de un agujero negro. [click aquí](https://solarsystem.nasa.gov/resources/2319/first-image-of-a-black-hole/)\n"
   ]
  },
  {
   "cell_type": "markdown",
   "id": "708f3e4c-9944-43af-82ef-2bd43a829b48",
   "metadata": {},
   "source": [
    "# Instalación\n",
    "\n",
    "Si cuentas con una instalación de Python desde Anaconda es probable que ya tengas instalado Pandas. Por otro lado, si descargaste Python desde su sitio oficial, desde brew o apt, puedes instalar la última versión estable de esta libreria usando el comando\n",
    "    \n",
    "    pip install pandas\n",
    "    \n",
    "desde la línea de comandos (y una vez activado un ambiente virtual). Si no tienes instalado un intérprete de Python o no tienes algún ambiente virtual da click [aquí](https://www.notion.so/ivanpy/Python-1e57d3105f3d4989835e363b5e19d63a) para más información."
   ]
  },
  {
   "cell_type": "markdown",
   "id": "0e2709ee-fb85-4504-84cd-af7177a546d4",
   "metadata": {},
   "source": [
    "# El ciclo de vida de los datos\n",
    "<img title=\"a title\" alt=\"Alt text\" src=\"./data_life_cycle.png\">\n",
    "Fuente: Badia, Antonio. SQL for Data Science, Springer."
   ]
  },
  {
   "cell_type": "markdown",
   "id": "4aa95e48-60be-424c-8e33-f8400a3ea1fb",
   "metadata": {
    "toc-hr-collapsed": true
   },
   "source": [
    "# Creación o lectura de datos\n",
    "\n",
    "Existen diversas formas de cargar datos a Pandas. Por ejemplo, podemos definir en el código los datos en un diccionario o podemos cargar datos preexisten desde un archivo .csv, .xlsl, etc.\n",
    "\n",
    "## Creación de un dataframe desde un diccionario\n"
   ]
  },
  {
   "cell_type": "code",
   "execution_count": null,
   "id": "bc73988d-769d-4354-93a4-f197743519de",
   "metadata": {},
   "outputs": [],
   "source": [
    "# Importamos la libreria\n",
    "\n",
    "import pandas as pd\n"
   ]
  },
  {
   "cell_type": "code",
   "execution_count": null,
   "id": "721730bc-85a1-49cc-a927-fb83b85b4e94",
   "metadata": {},
   "outputs": [],
   "source": [
    "# Creamos un diccionario con los datos\n",
    "\n",
    "dict_to_df: dict = {\"name\": [\"Bob\", \"Mary\", \"Mita\"],\n",
    "                    \"account\": [123846, 123972, 347209],\n",
    "                    \"balance\": [123, 3972, 7209]}\n"
   ]
  },
  {
   "cell_type": "code",
   "execution_count": null,
   "id": "82dabcd6-00b1-4bec-96e3-c02b78810fdb",
   "metadata": {},
   "outputs": [],
   "source": [
    "# Lo convertimos a un dataframe/tabla\n",
    "\n",
    "df_1 = pd.DataFrame(dict_to_df)\n",
    "df_1\n"
   ]
  },
  {
   "cell_type": "markdown",
   "id": "b6f1534f-d991-483e-974b-06adb7516b31",
   "metadata": {},
   "source": [
    "En el ejemplo anterior, el constructor **DataFrame** acepta un diccionario de datos y lo convierte en un objeto *frame.DataFrame*, esto es, una tabla. Las llaves (keys) del diccionario (en este caso \"name\", \"account\" y \"balance\") son tomadas como columnas de la tabla, mientras que los valores correspondientes a dichas llaves son tomados como las respectivas observaciones de cada columna."
   ]
  },
  {
   "cell_type": "markdown",
   "id": "7a488146-f324-4b6b-8a80-cb2a288fe075",
   "metadata": {},
   "source": [
    "## Creación de un dataframe desde un archivo\n",
    "\n",
    "Para crear un DataFrame desde un archivo persistente (local) necesitamos la ruta absoluta (o relativa a nuestro script/notebook) de dicho archivo. El directorio que contiene este notebook viene acompañado de dos archivos (además del propio notebook): \"top_movies.csv\" y \"top_movies.xlsx\", scrapeados (usando PowerBI, cosa que veremos más adelante) de [Top 250 Movies](https://www.imdb.com/chart/top)."
   ]
  },
  {
   "cell_type": "code",
   "execution_count": null,
   "id": "9c6ebd30-a9eb-4484-9754-b939d9674944",
   "metadata": {},
   "outputs": [],
   "source": [
    "from os.path import join\n",
    "\n",
    "# Ruta relativa de los archivos\n",
    "\n",
    "filename_1: str = join(\".\", \"top_movies.csv\") \n",
    "filename_2: str = join(\".\", \"top_movies.xlsx\")\n"
   ]
  },
  {
   "cell_type": "markdown",
   "id": "ab09c804-ba7c-467a-adf1-eda8b67d503a",
   "metadata": {},
   "source": [
    "Obs: Recuérdese que el puntito \".\" hace referencia al directorio actual. Entonces \"join(\".\", \"top_movies.csv\")\" crea \"./top_movies.csv\" o \".\\top_movies.csv\", dependiendo del OS que tengamos, esto es, la ruta (path) del archivo que queremos cargar.\n",
    "\n",
    "Para cargar/leer el archivo separado por comas (csv) usando Pandas, usamos la siguiente función."
   ]
  },
  {
   "cell_type": "code",
   "execution_count": null,
   "id": "abd12f86-e85e-4926-9c61-172fee708f1c",
   "metadata": {},
   "outputs": [],
   "source": [
    "df = pd.read_csv(filename_1, sep=\",\", encoding_errors=\"ignore\")\n",
    "df\n"
   ]
  },
  {
   "cell_type": "markdown",
   "id": "dfcf52cd-bd82-42db-90b2-554e73e710f9",
   "metadata": {},
   "source": [
    "Para cargarlo usando un archivo de Excel primero debemos instalar la libreria *openpyxl*."
   ]
  },
  {
   "cell_type": "code",
   "execution_count": null,
   "id": "365819b6-7fa4-4dd8-8aa6-a7ea97a3b79a",
   "metadata": {},
   "outputs": [],
   "source": [
    "df_2 = pd.read_excel(filename_2)\n",
    "df_2\n"
   ]
  },
  {
   "cell_type": "markdown",
   "id": "01ba29f1-4301-4a9e-9f81-0e4403edb233",
   "metadata": {},
   "source": [
    "Como puede verse, los datos están sucios, en el sentido de que hay información no relevante o incluso errores provenientes de la fuente (cosa usual al momento de hacer [web scraping](https://es.wikipedia.org/wiki/Web_scraping)).\n",
    "\n",
    "Lo primero que hacemos será limpiar y preprocesar los datos para aumentar su usabilidad. En lo sucesivo usaremos el dataframe \"df\", pues para los demás el tratamiento es análogo."
   ]
  },
  {
   "cell_type": "markdown",
   "id": "4c4e8982-4b01-4cd0-be42-8730d5e7450b",
   "metadata": {},
   "source": [
    "# Limpieza y preprocesamiento de datos\n",
    "\n",
    "Una vez que tenemos nuestros datos en una tabla (dataframe) es usual explorar algunos de ellos (pues podrían ser cientos, miles o millones de datos) usando el método *.head(n)*, donde $n$ hace referencia a cuántos datos queremos mostrar."
   ]
  },
  {
   "cell_type": "code",
   "execution_count": null,
   "id": "653d1613-5bbe-459f-a183-8f06bc6770bd",
   "metadata": {},
   "outputs": [],
   "source": [
    "df.head(15)"
   ]
  },
  {
   "cell_type": "code",
   "execution_count": null,
   "id": "bfb810d6-155a-48f5-ad1c-ae3c3aef373c",
   "metadata": {},
   "outputs": [],
   "source": [
    "# Adicionalmente observamos el tipo de datos que contiene nuestra tabla\n",
    "\n",
    "df.dtypes\n"
   ]
  },
  {
   "cell_type": "markdown",
   "id": "71aa0b65-840d-4018-982e-b3d6259a0738",
   "metadata": {},
   "source": [
    "Con esto podemos observar varios problemas. El primero está en la columna llamada \"Rank & Title\", pues contiene símbolos no deseados, probablemente de errores de codificación al momento de la obtención de los datos. Para este caso particular observamos la ocurrencia de los símbolos \"\\r\\n\", que procederemos a quitar.\n",
    "\n",
    "A continuación se define una función que toma una cadena y la devuelve sin los símbolos no deseados."
   ]
  },
  {
   "cell_type": "code",
   "execution_count": null,
   "id": "63ffe0ff-c25d-43fd-93ec-6ff5219ad441",
   "metadata": {},
   "outputs": [],
   "source": [
    "def remove_symbols(string):\n",
    "    return string.replace(\"\\r\\n\", \"\")\n"
   ]
  },
  {
   "cell_type": "code",
   "execution_count": null,
   "id": "6d3b692b-2196-4931-9295-d197e9c380e9",
   "metadata": {},
   "outputs": [],
   "source": [
    "print(remove_symbols(\"\\r\\n test \\r\\n string\"))\n"
   ]
  },
  {
   "cell_type": "markdown",
   "id": "2d89391e-a197-483a-b4f6-5bf8217add3a",
   "metadata": {},
   "source": [
    "Ahora se la aplicamos a toda la columna \"Rank & Title\" usando el método *.apply(fn)*, donde *fn* es la función que le vamos a aplicar a cada elemento de la colunma deseada."
   ]
  },
  {
   "cell_type": "code",
   "execution_count": null,
   "id": "b27be7e0-2120-4e7f-9b1a-430f95186f33",
   "metadata": {},
   "outputs": [],
   "source": [
    "rank_title = df[\"Rank & Title\"].apply(remove_symbols)\n",
    "rank_title\n"
   ]
  },
  {
   "cell_type": "markdown",
   "id": "bf165c43-e370-4750-b96a-a998d14b5285",
   "metadata": {},
   "source": [
    "Podemos notar que aunque ya no están esos símbolos, ahora tenemos demasidos espacios. Los quitaremos usando expresiones regulares."
   ]
  },
  {
   "cell_type": "code",
   "execution_count": null,
   "id": "c699761c-ad16-4e64-8a75-bf2dbccfd019",
   "metadata": {},
   "outputs": [],
   "source": [
    "import re\n",
    "\n",
    "\n",
    "def remove_spaces(string):\n",
    "    # Quitamos espacios internos\n",
    "    string = re.sub(' +', ' ', string)\n",
    "    \n",
    "    # Quitamos espacios a los extremos\n",
    "    string = string.lstrip().strip()\n",
    "    \n",
    "    return string\n"
   ]
  },
  {
   "cell_type": "code",
   "execution_count": null,
   "id": "0b0006cc-1d1f-4d28-9d31-1315d68712fa",
   "metadata": {},
   "outputs": [],
   "source": [
    "print(remove_spaces(\" test     string  \"))\n"
   ]
  },
  {
   "cell_type": "code",
   "execution_count": null,
   "id": "50a0a006-85e2-4d7c-a769-b1415238b1c8",
   "metadata": {},
   "outputs": [],
   "source": [
    "rank_title = rank_title.apply(remove_spaces)\n",
    "rank_title\n"
   ]
  },
  {
   "cell_type": "code",
   "execution_count": null,
   "id": "25bfa3e6-68f4-4a4d-b50c-35808fae4ac8",
   "metadata": {},
   "outputs": [],
   "source": [
    "# Reemplazamos la columna inicial por la que está limpia\n",
    "df[\"Rank & Title\"] = rank_title\n"
   ]
  },
  {
   "cell_type": "code",
   "execution_count": null,
   "id": "12447b6d-0f9f-4cc0-b7c4-e25288f75645",
   "metadata": {},
   "outputs": [],
   "source": [
    "df.head(15)\n"
   ]
  },
  {
   "cell_type": "code",
   "execution_count": null,
   "id": "51b1d166-165b-401e-97d5-089743c1709a",
   "metadata": {},
   "outputs": [],
   "source": [
    "# Eliminamos las dos columnas que no deseamos\n",
    "df.drop(['Your Rating', '_1'], axis=1, inplace=True)\n"
   ]
  },
  {
   "cell_type": "code",
   "execution_count": null,
   "id": "755f65d4-d202-4bd5-b4a1-85b8563ff6ac",
   "metadata": {},
   "outputs": [],
   "source": [
    "df.head(15)\n"
   ]
  },
  {
   "cell_type": "code",
   "execution_count": null,
   "id": "a578a46e-f4e9-4832-b5de-e3e934962e13",
   "metadata": {},
   "outputs": [],
   "source": [
    "# Separamos las columnas\n",
    "df[['Rank', 'Title_Year']] = df['Rank & Title'].str.split('.', 1, expand=True)\n",
    "\n",
    "# Retiramos la columna no deseada\n",
    "df.drop('Rank & Title', axis=1, inplace=True)\n"
   ]
  },
  {
   "cell_type": "code",
   "execution_count": null,
   "id": "a07181c6-f88c-4902-8f46-2659de68c9fc",
   "metadata": {},
   "outputs": [],
   "source": [
    "df.head(15)\n"
   ]
  },
  {
   "cell_type": "code",
   "execution_count": null,
   "id": "765cfe10-8b9f-4806-91f2-8e2e35dd8637",
   "metadata": {},
   "outputs": [],
   "source": [
    "# Separamos las columnas\n",
    "df[['Title', 'Year']] = df['Title_Year'].str.split('(', 1, expand=True)\n",
    "\n",
    "# Retiramos la columna no deseada\n",
    "df.drop('Title_Year', axis=1, inplace=True)\n"
   ]
  },
  {
   "cell_type": "code",
   "execution_count": null,
   "id": "2a977d32-e730-4715-b648-7eb3723d2bd9",
   "metadata": {},
   "outputs": [],
   "source": [
    "df.head(15)"
   ]
  },
  {
   "cell_type": "code",
   "execution_count": null,
   "id": "26468a5e-bacd-4a93-8fb1-90506dc6b92c",
   "metadata": {},
   "outputs": [],
   "source": [
    "# Removemos el parentesis que sobra y convertimos a número\n",
    "def remove_parenthesis(string):\n",
    "    return int(string.replace(\")\", \"\"))\n"
   ]
  },
  {
   "cell_type": "code",
   "execution_count": null,
   "id": "6f514ce5-087d-48e8-a592-c487d6412a92",
   "metadata": {},
   "outputs": [],
   "source": [
    "df['Year']= df[\"Year\"].apply(remove_parenthesis)\n"
   ]
  },
  {
   "cell_type": "code",
   "execution_count": null,
   "id": "92e896a1-fc62-4229-b618-b20ce95b2717",
   "metadata": {},
   "outputs": [],
   "source": [
    "df.head(15)"
   ]
  },
  {
   "cell_type": "code",
   "execution_count": null,
   "id": "d953e824-f7e7-4169-8b01-5577462e99b4",
   "metadata": {},
   "outputs": [],
   "source": [
    "# Reordenamos para una mejor visualización\n",
    "df = df[[\"Rank\", \"Title\", \"Year\", \"IMDb Rating\"]]\n",
    "\n",
    "df.head(15)"
   ]
  },
  {
   "cell_type": "code",
   "execution_count": null,
   "id": "933768bb-d683-4342-9fbc-35d058499dc1",
   "metadata": {},
   "outputs": [],
   "source": [
    "df.dtypes"
   ]
  },
  {
   "cell_type": "code",
   "execution_count": null,
   "id": "a6e6f7d9-a5f7-4090-8406-328208a5df82",
   "metadata": {},
   "outputs": [],
   "source": [
    "# Convertimos en el tipo adecuado de dato\n",
    "df['Rank'] = pd.to_numeric(df['Rank'])\n"
   ]
  },
  {
   "cell_type": "code",
   "execution_count": null,
   "id": "c9d7038f-f228-4f5f-a4f7-994907c71391",
   "metadata": {},
   "outputs": [],
   "source": [
    "df.dtypes"
   ]
  },
  {
   "cell_type": "markdown",
   "id": "392ad486-25c2-44ae-8f14-c5979b5ddfd7",
   "metadata": {},
   "source": [
    "Para saber más sobre los tipos de datos en Pandas da click [aquí](https://pbpython.com/pandas_dtypes.html)."
   ]
  },
  {
   "cell_type": "code",
   "execution_count": null,
   "id": "eaad9d3d-6abe-4a18-8ce5-456a02d0c357",
   "metadata": {},
   "outputs": [],
   "source": [
    "df.head(15)"
   ]
  },
  {
   "cell_type": "markdown",
   "id": "f486d976-1eaf-4a95-9c08-41f1b8ad6ea6",
   "metadata": {},
   "source": [
    "# Hacemos persistentes nuestros datos\n",
    "Para persistir nuestros datos ya limpios y preprocesados, podemos almacenarlo en algún formato deseado, por ejemplo .csv.\n",
    "En Pandas esto se hace con el método \n",
    "    \n",
    "    .to_csv()"
   ]
  },
  {
   "cell_type": "code",
   "execution_count": null,
   "id": "b6d0449e-a8e1-4ba6-8d17-19630f20aa18",
   "metadata": {},
   "outputs": [],
   "source": [
    "filename_to_save = \"top_movies_cleaned.csv\"\n",
    "\n",
    "df.to_csv(filename_to_save, index=False)"
   ]
  },
  {
   "cell_type": "markdown",
   "id": "f7de732b-9b2a-4e90-92ea-ddb95bb1c9d1",
   "metadata": {},
   "source": [
    "**Referencias**\n",
    "- https://pandas.pydata.org/pandas-docs/stable/reference/io.html\n",
    "- Badia, Antonio. SQL for Data Science, Springer.\n",
    "- Stepanek, Hannah. Thinking in Pandas, Apress."
   ]
  }
 ],
 "metadata": {
  "kernelspec": {
   "display_name": "Python 3 (ipykernel)",
   "language": "python",
   "name": "python3"
  },
  "language_info": {
   "codemirror_mode": {
    "name": "ipython",
    "version": 3
   },
   "file_extension": ".py",
   "mimetype": "text/x-python",
   "name": "python",
   "nbconvert_exporter": "python",
   "pygments_lexer": "ipython3",
   "version": "3.10.4"
  }
 },
 "nbformat": 4,
 "nbformat_minor": 5
}
