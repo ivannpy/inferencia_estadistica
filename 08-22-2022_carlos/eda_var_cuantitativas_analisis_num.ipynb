{
 "cells": [
  {
   "cell_type": "markdown",
   "metadata": {
    "id": "bmewNTv8xrny"
   },
   "source": [
    "# Análisis Exploratorio de Datos.\n",
    "Inferencia estadística\n",
    "\n",
    "Por: Carlos Alberto Arriaga Solorzano"
   ]
  },
  {
   "cell_type": "markdown",
   "metadata": {
    "id": "Iv81IVujx5TS"
   },
   "source": [
    "El análisis exploratorio de datos (EDA), es una técnica inicial de minería de datos, que permite resumir información, así como identificar las variables de mayor importancia, las relaciones sistemáticas entre las mismas, anomalías y patrones subyacentes en amplios conjuntos de datos.\n",
    "Funciona como un primer paso para la elección de modelos, y la formulación de hipótesis."
   ]
  },
  {
   "cell_type": "code",
   "execution_count": 2,
   "metadata": {
    "id": "cFeOZ9LstePQ"
   },
   "outputs": [],
   "source": [
    "import numpy as np\n",
    "import matplotlib.pyplot as plt\n",
    "from scipy.stats import skew, kurtosis"
   ]
  },
  {
   "cell_type": "markdown",
   "metadata": {
    "id": "2XZOEed2Uzi-"
   },
   "source": [
    "## Variables y sus tipos.\n"
   ]
  },
  {
   "cell_type": "markdown",
   "metadata": {
    "id": "3VFKTU41U88-"
   },
   "source": [
    "Recordemos que, una variable, es una característica que se desea estudiar, de los individuos de una muestra."
   ]
  },
  {
   "cell_type": "markdown",
   "metadata": {
    "id": "k6EjRQbAVpgX"
   },
   "source": [
    "Se clasifican en dos tipos:\n",
    "\n",
    "\n",
    "*   Cuantitativas: Se miden en escala numérica. (Edad, ingreso económico, altura, peso).\n",
    "*   Cualitativas: Se clasifican en categorías no numéricas. (Mes de nacimiento, género, tipo de sangre).\n",
    "\n"
   ]
  },
  {
   "cell_type": "markdown",
   "metadata": {
    "id": "7jKAlu88XU_U"
   },
   "source": [
    "### Análisis de variables cuantitativas."
   ]
  },
  {
   "cell_type": "markdown",
   "metadata": {
    "id": "OqVSGPNnXeuj"
   },
   "source": [
    "#### Frecuencias."
   ]
  },
  {
   "cell_type": "markdown",
   "metadata": {
    "id": "-vE7So5oXxk4"
   },
   "source": [
    "Supongamos que vamos a analizar una variable cuantitativa de una muestra de tamaño $n$.\n",
    "Es decir, contamos con $n$ observaciones de dicha variable. Digamos que los valores observados de la variable, son $\\lbrace x_1, x_2, ..., x_k\\rbrace$, donde $x_i$ fue observado $g_i$ veces. Al haber efectuado $n$ observaciones, debe ocurrir que $\\sum_{i=1}^k g_i=n$\n",
    "\n"
   ]
  },
  {
   "cell_type": "markdown",
   "metadata": {
    "id": "wpzLWOnMaMCN"
   },
   "source": [
    "Para cada $x\\in\\mathbb{R}$, sea $f_x$ el número de observaciones recolectadas, que son estrictamente menores que $x$."
   ]
  },
  {
   "cell_type": "markdown",
   "metadata": {
    "id": "8tdDzvMLYaRu"
   },
   "source": [
    "Podemos definir una función, que corresponda a la frecuencia relativa acumulada de la muestra observada: $F:\\mathbb{R}\\rightarrow [0,1]$, $F(x):=\\frac{f_x}{n}$\n"
   ]
  },
  {
   "cell_type": "code",
   "execution_count": 3,
   "metadata": {
    "colab": {
     "base_uri": "https://localhost:8080/"
    },
    "id": "6tXOWBuRCjd9",
    "outputId": "68821606-d3d2-4818-d83b-81a8a46374c3"
   },
   "outputs": [
    {
     "name": "stdout",
     "output_type": "stream",
     "text": [
      "Tamaño de la muestra: 20\n"
     ]
    }
   ],
   "source": [
    "n = int(input(\"Tamaño de la muestra: \"))"
   ]
  },
  {
   "cell_type": "markdown",
   "metadata": {
    "id": "IH3EncxWmFe6"
   },
   "source": [
    "Creamos una muestra aleatoria de enteros."
   ]
  },
  {
   "cell_type": "code",
   "execution_count": 4,
   "metadata": {
    "colab": {
     "base_uri": "https://localhost:8080/"
    },
    "id": "Lc0gHWIZuNjl",
    "outputId": "fd984ffb-f8a9-4cd3-fb6c-29a8b76cc042"
   },
   "outputs": [
    {
     "name": "stdout",
     "output_type": "stream",
     "text": [
      "[13  1  3  2 10 11  1  7  8  3 11  5  8  6 13 12  9 11  6  5]\n"
     ]
    }
   ],
   "source": [
    "randomlist = np.random.choice(range(1,15), size = n)\n",
    "print(randomlist)"
   ]
  },
  {
   "cell_type": "code",
   "execution_count": 5,
   "metadata": {
    "colab": {
     "base_uri": "https://localhost:8080/"
    },
    "id": "rkOTg7w4vf1F",
    "outputId": "7a95df44-ee3c-4470-ff6c-c939419d096c"
   },
   "outputs": [
    {
     "name": "stdout",
     "output_type": "stream",
     "text": [
      "[1, 2, 3, 5, 6, 7, 8, 9, 10, 11, 12, 13]\n"
     ]
    }
   ],
   "source": [
    "values = sorted(set(randomlist))\n",
    "print(sorted(values))"
   ]
  },
  {
   "cell_type": "code",
   "execution_count": 6,
   "metadata": {
    "colab": {
     "base_uri": "https://localhost:8080/"
    },
    "id": "PK-yI7iHwvkA",
    "outputId": "34b1c234-e573-4d9c-dc3a-00bcd0313fd5"
   },
   "outputs": [
    {
     "name": "stdout",
     "output_type": "stream",
     "text": [
      "{'x_1': 1, 'x_2': 2, 'x_3': 3, 'x_4': 5, 'x_5': 6, 'x_6': 7, 'x_7': 8, 'x_8': 9, 'x_9': 10, 'x_10': 11, 'x_11': 12, 'x_12': 13}\n"
     ]
    }
   ],
   "source": [
    "values_dict = {\"x_\"+str(i + 1):values[i] for i in range(0,len(values))}\n",
    "print(values_dict)"
   ]
  },
  {
   "cell_type": "code",
   "execution_count": 7,
   "metadata": {
    "colab": {
     "base_uri": "https://localhost:8080/"
    },
    "id": "B7yukG_xCyt0",
    "outputId": "04e18c9b-40ff-4efa-c40e-dd899a8fbe3c"
   },
   "outputs": [
    {
     "name": "stdout",
     "output_type": "stream",
     "text": [
      "{'g_1': 2, 'g_2': 1, 'g_3': 2, 'g_4': 2, 'g_5': 2, 'g_6': 1, 'g_7': 2, 'g_8': 1, 'g_9': 1, 'g_10': 3, 'g_11': 1, 'g_12': 2}\n"
     ]
    }
   ],
   "source": [
    "frecuencies = {\"g_\"+str(i + 1):np.count_nonzero(randomlist == values[i]) for i in range(0,len(values))}\n",
    "print(frecuencies)"
   ]
  },
  {
   "cell_type": "code",
   "execution_count": 8,
   "metadata": {
    "colab": {
     "base_uri": "https://localhost:8080/"
    },
    "id": "Qimnh9gnFuSr",
    "outputId": "6044666b-c238-457e-bf55-a11ea8f68874"
   },
   "outputs": [
    {
     "data": {
      "text/plain": [
       "20"
      ]
     },
     "execution_count": 8,
     "metadata": {},
     "output_type": "execute_result"
    }
   ],
   "source": [
    "sum(frecuencies.values())"
   ]
  },
  {
   "cell_type": "code",
   "execution_count": 9,
   "metadata": {
    "id": "qYXgRT65G7ll"
   },
   "outputs": [],
   "source": [
    "def f(x):\n",
    "  return len([u for u in randomlist if u<=x])"
   ]
  },
  {
   "cell_type": "code",
   "execution_count": 11,
   "metadata": {
    "colab": {
     "base_uri": "https://localhost:8080/"
    },
    "id": "_uXloa_OJKo5",
    "outputId": "1a2438f4-b161-4cf9-cfa9-6056ef7d2105"
   },
   "outputs": [
    {
     "name": "stdout",
     "output_type": "stream",
     "text": [
      "20\n"
     ]
    },
    {
     "data": {
      "text/plain": [
       "20"
      ]
     },
     "execution_count": 11,
     "metadata": {},
     "output_type": "execute_result"
    }
   ],
   "source": [
    "f(int(input()))"
   ]
  },
  {
   "cell_type": "code",
   "execution_count": 12,
   "metadata": {
    "id": "tA20iMZoJdFc"
   },
   "outputs": [],
   "source": [
    "def F(x):\n",
    "  return f(x)/n"
   ]
  },
  {
   "cell_type": "code",
   "execution_count": 13,
   "metadata": {
    "colab": {
     "base_uri": "https://localhost:8080/",
     "height": 269
    },
    "id": "8pdC3ZKoJmml",
    "outputId": "90e642e7-6a8a-4e8a-85d6-d67323372826"
   },
   "outputs": [
    {
     "data": {
      "image/png": "[encoded data removed]",
      "text/plain": [
       "<Figure size 432x288 with 1 Axes>"
      ]
     },
     "metadata": {
      "needs_background": "light"
     },
     "output_type": "display_data"
    }
   ],
   "source": [
    "x = [0+0.01*n for n in range(0,2000)]\n",
    "plt.plot(x, [F(i) for i in x])\n",
    "plt.xlim(0,16)\n",
    "plt.ylim(0,1)\n",
    "plt.show()"
   ]
  },
  {
   "cell_type": "markdown",
   "metadata": {
    "id": "97AMMfW9n1xP"
   },
   "source": [
    "#### Medidas de tendencia central."
   ]
  },
  {
   "cell_type": "markdown",
   "metadata": {
    "id": "8y06fJWMP-qL"
   },
   "source": [
    "Las medidas de tendencia central, indican la localización de la muestra, encontrando valores significativos, que reflejan la \"centralidad\" de los datos desde diversos puntos de vista: Centro de masa, máximos globales, o el valor que divide la muestra a la mitad."
   ]
  },
  {
   "cell_type": "markdown",
   "metadata": {
    "id": "qldA_C6xc_Yw"
   },
   "source": [
    "##### Cuantiles."
   ]
  },
  {
   "cell_type": "markdown",
   "metadata": {
    "id": "9FGB1U3XdCmS"
   },
   "source": [
    "Supongamos que tenemos $n$ observaciones de una variable, ordenadas de menor a mayor, digamos $(x_1,x_2,...,x_n)$. Dado $p\\in (0,1)$, el $100p$-percentil es el valor $u_i$ de la muestra, tal que, al menos una porción del $100p$% de las observaciones son menores o iguales que ese valor."
   ]
  },
  {
   "cell_type": "markdown",
   "metadata": {
    "id": "crPvzwGq30Ph"
   },
   "source": [
    "Notemos que dicho valor $u_i$ coincide con el valor $inf(\\lbrace x\\in\\mathbb{R}|F(x)\\geq p \\rbrace)$, donde $F$ es la frecuencia relativa antes presentada."
   ]
  },
  {
   "cell_type": "markdown",
   "metadata": {
    "id": "KE8z2qmS4lXC"
   },
   "source": [
    "La forma de calcular los cuantiles, se realiza como sigue:\n",
    "\n",
    "\n",
    "*   Si $np$ no es entero, entonces el $100p$-percentil será $x_{⌈np⌉}$.\n",
    "*   Si $np$ es entero, entonces el $100p$-percentil será $\\frac{x_{⌈np⌉}+x_{⌈np⌉+1}}{2}$.\n"
   ]
  },
  {
   "cell_type": "code",
   "execution_count": 14,
   "metadata": {
    "id": "j1CEeBDUNPNg"
   },
   "outputs": [],
   "source": [
    "def percentil(data, p):\n",
    "  return np.quantile(sorted(data), float(p))"
   ]
  },
  {
   "cell_type": "code",
   "execution_count": 15,
   "metadata": {
    "colab": {
     "base_uri": "https://localhost:8080/"
    },
    "id": "ifPgkAoUh45J",
    "outputId": "76476d28-1886-40be-f5d9-0a7d961c8ada"
   },
   "outputs": [
    {
     "name": "stdout",
     "output_type": "stream",
     "text": [
      "7.5\n"
     ]
    }
   ],
   "source": [
    "print(percentil(randomlist, 0.5))"
   ]
  },
  {
   "cell_type": "markdown",
   "metadata": {
    "id": "JB7SCnHLmzPG"
   },
   "source": [
    "El primero, segundo y tercer cuartil, son $Q_1$, $Q_2$,$Q_3$, el $25$, $50$ y $75$-percentiles, respectivamente."
   ]
  },
  {
   "cell_type": "markdown",
   "metadata": {
    "id": "AKZNvns-eLif"
   },
   "source": [
    "Se llama Rango intercuartil $(IQR)$ al número $Q_3-Q_1$."
   ]
  },
  {
   "cell_type": "code",
   "execution_count": 16,
   "metadata": {
    "id": "ibQ8vW3PlK33"
   },
   "outputs": [],
   "source": [
    "def Q_1(data):\n",
    "  return percentil(data, 0.25)\n",
    "\n",
    "def Q_2(data):\n",
    "  return percentil(data, 0.5)\n",
    "\n",
    "def Q_3(data):\n",
    "  return percentil(data, 0.75)\n",
    "\n",
    "def IQR(data):\n",
    "  return Q_3(data)-Q_1(data)"
   ]
  },
  {
   "cell_type": "code",
   "execution_count": 17,
   "metadata": {
    "colab": {
     "base_uri": "https://localhost:8080/"
    },
    "id": "A1t4YhRtkC3F",
    "outputId": "a1916401-4dd2-404d-9f67-ccbb8a352b77"
   },
   "outputs": [
    {
     "data": {
      "text/plain": [
       "6.5"
      ]
     },
     "execution_count": 17,
     "metadata": {},
     "output_type": "execute_result"
    }
   ],
   "source": [
    "IQR(randomlist)"
   ]
  },
  {
   "cell_type": "markdown",
   "metadata": {
    "id": "vFVwhEGzmmRo"
   },
   "source": [
    "Dado que el primer cuarto de muestras están antes de $Q_1$, y el último cuarto de muestras se encuentran después de $Q_3$, se sigue que la mitad de las muestras caen dentro de $[Q_1,Q_3]$. En este sentido, $[Q_1,Q_3]$ es el intervalo \"central\" de la muestra, y el $IQR$ es un indicador de la dispersión de la muestra, ya que refleja qué tan esparcida está la porción central de la muestra."
   ]
  },
  {
   "cell_type": "markdown",
   "metadata": {
    "id": "TG2uugmVoug9"
   },
   "source": [
    "##### Valores atípicos. (Outliers)."
   ]
  },
  {
   "cell_type": "markdown",
   "metadata": {
    "id": "mGwoYEsdoz3o"
   },
   "source": [
    "Los valores atípicos, son los elementos de $(x_1,x_2,...,x_n)$ que no pertenecen al intervalo $[Q_1-\\frac{3}{2}IQR,$ $Q_3+\\frac{3}{2}IQR]$. Éstos valores, se encuentran distantes del área de mayor concentración de la muestra, y pueden desviar las interpretaciones."
   ]
  },
  {
   "cell_type": "code",
   "execution_count": 18,
   "metadata": {
    "id": "A3WufRwjkQn4"
   },
   "outputs": [],
   "source": [
    "def outliers(data):\n",
    "  return [x for x in sorted(data) if x<Q_1(data)-3*IQR(data)/2 or x>Q_3(data)+3*IQR(data)/2]"
   ]
  },
  {
   "cell_type": "code",
   "execution_count": 19,
   "metadata": {
    "colab": {
     "base_uri": "https://localhost:8080/"
    },
    "id": "Pw2ny6WULTVT",
    "outputId": "9aecd1d2-c24b-461b-e743-d33991f9e447"
   },
   "outputs": [
    {
     "data": {
      "text/plain": [
       "[]"
      ]
     },
     "execution_count": 19,
     "metadata": {},
     "output_type": "execute_result"
    }
   ],
   "source": [
    "outliers(randomlist)"
   ]
  },
  {
   "cell_type": "markdown",
   "metadata": {
    "id": "W-RDJqhhl56p"
   },
   "source": [
    "Si randomlist no tiene valores atípicos, creamos una nueva muestra aleatoria de una distribución normal estándar:"
   ]
  },
  {
   "cell_type": "code",
   "execution_count": 20,
   "metadata": {
    "colab": {
     "base_uri": "https://localhost:8080/"
    },
    "id": "j8puOTC2km0Q",
    "outputId": "42607be7-60c9-4d63-9f42-497132f6df08"
   },
   "outputs": [
    {
     "name": "stdout",
     "output_type": "stream",
     "text": [
      "Tamaño de la muestra: 50\n",
      "[ 1.12076524  0.5032238  -0.66852353]\n"
     ]
    }
   ],
   "source": [
    "m = input(\"Tamaño de la muestra: \")\n",
    "data_0 = np.random.normal(0,1,int(m))\n",
    "data_1 = np.append(data_0,10**10)\n",
    "print(data_1[0:3])"
   ]
  },
  {
   "cell_type": "code",
   "execution_count": 22,
   "metadata": {
    "colab": {
     "base_uri": "https://localhost:8080/"
    },
    "id": "rMZXFyrrljwv",
    "outputId": "2244c215-e0cd-46a7-9f43-f55bf57da37d"
   },
   "outputs": [
    {
     "data": {
      "text/plain": [
       "[10000000000.0]"
      ]
     },
     "execution_count": 22,
     "metadata": {},
     "output_type": "execute_result"
    }
   ],
   "source": [
    "outliers(data_1)"
   ]
  },
  {
   "cell_type": "markdown",
   "metadata": {
    "id": "f7ITjgH8M_sz"
   },
   "source": [
    "##### Media muestral."
   ]
  },
  {
   "cell_type": "markdown",
   "metadata": {
    "id": "bteFfc3zNVRQ"
   },
   "source": [
    "La media muestral, es el número $\\overline{x}:=\\frac{1}{n}\\sum_{i=1}^n x_i$."
   ]
  },
  {
   "cell_type": "markdown",
   "metadata": {
    "id": "a0IpdHjBOz0f"
   },
   "source": [
    "La media muestral, representa el lugar en que se encuentra el centro de masa de la muestra (punto en que se equilibraría el segmento $x_n-x_1$, si los puntos $x_1,...,x_n$ tuvieran pesos iguales). También, $\\overline{x}=min\\lbrace \\sum_{i=1}^n (a-x_i)^2| a\\in\\mathbb{R}\\rbrace$."
   ]
  },
  {
   "cell_type": "markdown",
   "metadata": {
    "id": "g3JoCCT-dGhf"
   },
   "source": [
    "Una desventaja de la media muestral, es que es sensible ante valores atípicos, es decir, la presencia de éstos puede modificar significativamente el valor de la media."
   ]
  },
  {
   "cell_type": "code",
   "execution_count": 23,
   "metadata": {
    "colab": {
     "base_uri": "https://localhost:8080/"
    },
    "id": "CH73T7qJmSIS",
    "outputId": "16e89768-452b-41da-fd08-eed9849d5ad5"
   },
   "outputs": [
    {
     "data": {
      "text/plain": [
       "196078431.5433884"
      ]
     },
     "execution_count": 23,
     "metadata": {},
     "output_type": "execute_result"
    }
   ],
   "source": [
    "np.mean(data_1)"
   ]
  },
  {
   "cell_type": "markdown",
   "metadata": {
    "id": "86da1JuymtGR"
   },
   "source": [
    "Si omitimos los valores atípicos:"
   ]
  },
  {
   "cell_type": "code",
   "execution_count": 24,
   "metadata": {
    "id": "USkabS-cmw95"
   },
   "outputs": [],
   "source": [
    "def no_outliers(data):\n",
    "  return [x for x in data if x not in outliers(data)]"
   ]
  },
  {
   "cell_type": "code",
   "execution_count": 25,
   "metadata": {
    "colab": {
     "base_uri": "https://localhost:8080/"
    },
    "id": "tAjQZsMZncBr",
    "outputId": "c20f663b-691f-4c04-bfcc-d2e6c6011edf"
   },
   "outputs": [
    {
     "data": {
      "text/plain": [
       "0.17425618317258984"
      ]
     },
     "execution_count": 25,
     "metadata": {},
     "output_type": "execute_result"
    }
   ],
   "source": [
    "data_1_modif = no_outliers(data_1)\n",
    "np.mean(data_1_modif)"
   ]
  },
  {
   "cell_type": "markdown",
   "metadata": {
    "id": "ALVvqcGSpUfs"
   },
   "source": [
    "##### Mediana muestral."
   ]
  },
  {
   "cell_type": "markdown",
   "metadata": {
    "id": "Dtv74Je1phlN"
   },
   "source": [
    "La mediana muestral, es el $50$-percentil de la muestra, es decir, el valor que divide la muestra a la mitad."
   ]
  },
  {
   "cell_type": "markdown",
   "metadata": {
    "id": "IXlb2qv2qJYx"
   },
   "source": [
    "La mediana atiende únicamente al orden de los datos, perdiendo de vista el valor de los números, pero tiene la ventaja de que es menos sensible a la presencia de valores atípicos."
   ]
  },
  {
   "cell_type": "code",
   "execution_count": 26,
   "metadata": {
    "colab": {
     "base_uri": "https://localhost:8080/"
    },
    "id": "Tb7BpmDNqjuu",
    "outputId": "9bfe7e46-43c6-4d32-99b6-9d673d666475"
   },
   "outputs": [
    {
     "data": {
      "text/plain": [
       "0.04378138671912932"
      ]
     },
     "execution_count": 26,
     "metadata": {},
     "output_type": "execute_result"
    }
   ],
   "source": [
    "np.median(data_1)"
   ]
  },
  {
   "cell_type": "code",
   "execution_count": 27,
   "metadata": {
    "colab": {
     "base_uri": "https://localhost:8080/"
    },
    "id": "x_iwF6I9qzLF",
    "outputId": "6a0f4226-1ec2-4d65-c08a-c05a4dda4af0"
   },
   "outputs": [
    {
     "data": {
      "text/plain": [
       "0.01740446711619941"
      ]
     },
     "execution_count": 27,
     "metadata": {},
     "output_type": "execute_result"
    }
   ],
   "source": [
    "np.median(data_1_modif)"
   ]
  },
  {
   "cell_type": "markdown",
   "metadata": {
    "id": "Dlydg46KrZLN"
   },
   "source": [
    "### Medidas de dispersión."
   ]
  },
  {
   "cell_type": "markdown",
   "metadata": {
    "id": "pCXsieKurcKM"
   },
   "source": [
    "##### Varianza muestral."
   ]
  },
  {
   "cell_type": "markdown",
   "metadata": {
    "id": "534hDJVAr8yk"
   },
   "source": [
    "La varianza muestra, se define como el número $\\hat{\\sigma}^2:=\\frac{1}{n-1}\\sum_{i=i}^n (x_i-x)^2$."
   ]
  },
  {
   "cell_type": "markdown",
   "metadata": {
    "id": "Mbb3FqaZs19r"
   },
   "source": [
    "Recordemos que $\\overline{x}$ minimizaba la suma de las desviaciones al cuadrado de un valor típico de la muestra $\\sum_{i=1}^n (a-x_i)^2$. (Se toman cuadrados, porque el mínimo de la suma de las desviaciones es siempre cero). Así, dicho mínimo, que coincide con $\\hat{\\sigma}^2$, expresa qué tan concentradas o dispersas se encuentran las observaciones respecto a la media muestral. "
   ]
  },
  {
   "cell_type": "markdown",
   "metadata": {
    "id": "jJmU4-KauBRA"
   },
   "source": [
    "Como en el caso de la media muestral, la varianza puede ser significativamente afectada por la presencia de valores atípicos, creando la impresión de una falsa dispersión."
   ]
  },
  {
   "cell_type": "code",
   "execution_count": 28,
   "metadata": {
    "colab": {
     "base_uri": "https://localhost:8080/"
    },
    "id": "FcU-xpaVuhMP",
    "outputId": "3ddd50ed-dab7-4b7a-a0f9-2b99630d1d5a"
   },
   "outputs": [
    {
     "data": {
      "text/plain": [
       "1.922337562408975e+18"
      ]
     },
     "execution_count": 28,
     "metadata": {},
     "output_type": "execute_result"
    }
   ],
   "source": [
    "np.var(data_1)"
   ]
  },
  {
   "cell_type": "code",
   "execution_count": 29,
   "metadata": {
    "colab": {
     "base_uri": "https://localhost:8080/"
    },
    "id": "A-dV4n8uuoYM",
    "outputId": "81a1cf42-2c9d-4b13-eb16-987d112c5214"
   },
   "outputs": [
    {
     "data": {
      "text/plain": [
       "0.7290640652541228"
      ]
     },
     "execution_count": 29,
     "metadata": {},
     "output_type": "execute_result"
    }
   ],
   "source": [
    "np.var(data_1_modif)"
   ]
  },
  {
   "cell_type": "markdown",
   "metadata": {
    "id": "rQB1lJaguugZ"
   },
   "source": [
    "##### Desviación estándar muestral. (STD)."
   ]
  },
  {
   "cell_type": "markdown",
   "metadata": {
    "id": "3p3H6470vEXn"
   },
   "source": [
    "La desviación estándar muestral, se define como $\\hat{\\sigma}=\\sqrt{\\hat{\\sigma}^2}$, es decir, la raíz cuadrada de la varianza."
   ]
  },
  {
   "cell_type": "markdown",
   "metadata": {
    "id": "XdpTV2avv8BA"
   },
   "source": [
    "La desviación estándar, se emplea como una solución a una malinterpretación de la varianza, debida a que los cuadrados pueden inflar desproporcionadamente la contribución de un valor atípico a la suma, de forma que mide la dispersión de los datos respecto a la media en las mismas unidades que los datos."
   ]
  },
  {
   "cell_type": "code",
   "execution_count": 30,
   "metadata": {
    "colab": {
     "base_uri": "https://localhost:8080/"
    },
    "id": "BjLYyeEsvnti",
    "outputId": "6197df5d-f8f2-40ba-8b0f-b9daf9fcedf5"
   },
   "outputs": [
    {
     "data": {
      "text/plain": [
       "1386483884.6553447"
      ]
     },
     "execution_count": 30,
     "metadata": {},
     "output_type": "execute_result"
    }
   ],
   "source": [
    "np.std(data_1)"
   ]
  },
  {
   "cell_type": "code",
   "execution_count": 31,
   "metadata": {
    "colab": {
     "base_uri": "https://localhost:8080/"
    },
    "id": "pAwb_14Zw98R",
    "outputId": "d2bde84a-8824-432f-eeea-1d72c055ee84"
   },
   "outputs": [
    {
     "data": {
      "text/plain": [
       "0.8538524844808515"
      ]
     },
     "execution_count": 31,
     "metadata": {},
     "output_type": "execute_result"
    }
   ],
   "source": [
    "np.std(data_1_modif)"
   ]
  },
  {
   "cell_type": "markdown",
   "metadata": {
    "id": "K_1kCFQxx5kt"
   },
   "source": [
    "##### Rango muestral."
   ]
  },
  {
   "cell_type": "markdown",
   "metadata": {
    "id": "Vb-xqPqVx_6A"
   },
   "source": [
    "El rango muestral, se define como $Rango :=max\\lbrace x_1,...x_n\\rbrace-min\\lbrace x_1,...,x_n\\rbrace$."
   ]
  },
  {
   "cell_type": "markdown",
   "metadata": {
    "id": "MPvakSubyUZI"
   },
   "source": [
    "El rango muestral es la longitud del intervalo más pequeño que contiene a toda la muestra, y permite obtener una idea de la dispersión de los datos. Sin embargo, es igualmente sensible a valores atípicos."
   ]
  },
  {
   "cell_type": "code",
   "execution_count": 32,
   "metadata": {
    "colab": {
     "base_uri": "https://localhost:8080/"
    },
    "id": "iq6oL9Ibyhjg",
    "outputId": "b17145fa-dfc3-44d1-fa0d-c1158216413f"
   },
   "outputs": [
    {
     "name": "stdout",
     "output_type": "stream",
     "text": [
      "10000000001.348587\n",
      "3.4097138367040496\n"
     ]
    }
   ],
   "source": [
    "rango_1 = np.amax(data_1)-np.amin(data_1)\n",
    "rango_2 = np.amax(data_1_modif)-np.amin(data_1_modif)\n",
    "print(rango_1)\n",
    "print(rango_2)"
   ]
  },
  {
   "cell_type": "markdown",
   "metadata": {
    "id": "M8JD76vK5n8F"
   },
   "source": [
    "*Nota: Los cuartiles, así como el $IQR$, pueden utilizarse también como medidas de dispersión, y son menos sensibles a valores atípicos, al igual que la mediana; no obstante, pierden de vista el valor numérico de las observaciones.*"
   ]
  },
  {
   "cell_type": "markdown",
   "metadata": {
    "id": "NTY30JN-zQ6Q"
   },
   "source": [
    "#### Medidas de simetría."
   ]
  },
  {
   "cell_type": "markdown",
   "metadata": {
    "id": "U18XMNRNzYqh"
   },
   "source": [
    "##### Sesgo muestral."
   ]
  },
  {
   "cell_type": "markdown",
   "metadata": {
    "id": "jZhwDjgezvVZ"
   },
   "source": [
    "El sesgo muestral, se define como $SK:=\\frac{\\frac{1}{n}\\sum_{i=1}^n(x_i-\\overline{x})^3}{(\\frac{1}{n}\\sum_{i=1}^n(x_i-\\overline{x}))^{3/2}}$"
   ]
  },
  {
   "cell_type": "markdown",
   "metadata": {
    "id": "Z-b30xT60jxm"
   },
   "source": [
    "Si el sesgo es negativo, tendremos una distribución sesgada a la izquierda, es decir que la cola será más larga de ese lado, y la muestra estará cargada a la derecha."
   ]
  },
  {
   "cell_type": "markdown",
   "metadata": {
    "id": "V5ezUrxc1E7O"
   },
   "source": [
    "Si el sesgo es cero, tendremos una distribución no sesgada, y por lo tanto, simétrica."
   ]
  },
  {
   "cell_type": "markdown",
   "metadata": {
    "id": "kRhaq7se1CL2"
   },
   "source": [
    "Si el sesgo es positivo, tendremos una distribución sesgada a la derech, es decir que la cola será más larga de ese lado, y la muestra estará cargada a la izquierda."
   ]
  },
  {
   "cell_type": "markdown",
   "metadata": {
    "id": "O7UK6qWx2D8O"
   },
   "source": [
    "Una desventaja de esta medida, es, como en anteriores veces, la alta sensibilidad a valores atípicos."
   ]
  },
  {
   "cell_type": "code",
   "execution_count": 33,
   "metadata": {
    "colab": {
     "base_uri": "https://localhost:8080/"
    },
    "id": "Xy3ZqBMM12SX",
    "outputId": "ee848314-b5c9-41a0-f019-da0a9a8e5fc7"
   },
   "outputs": [
    {
     "data": {
      "text/plain": [
       "6.9296464556281645"
      ]
     },
     "execution_count": 33,
     "metadata": {},
     "output_type": "execute_result"
    }
   ],
   "source": [
    "skew(data_1)"
   ]
  },
  {
   "cell_type": "code",
   "execution_count": 34,
   "metadata": {
    "colab": {
     "base_uri": "https://localhost:8080/"
    },
    "id": "GuyJ4KqO1_k5",
    "outputId": "9854429c-6515-407c-e6ef-aa5d8139752b"
   },
   "outputs": [
    {
     "data": {
      "text/plain": [
       "0.21323070164412605"
      ]
     },
     "execution_count": 34,
     "metadata": {},
     "output_type": "execute_result"
    }
   ],
   "source": [
    "skew(data_1_modif)"
   ]
  },
  {
   "cell_type": "markdown",
   "metadata": {
    "id": "BF__Y1Zp2fFy"
   },
   "source": [
    "##### Curtosis."
   ]
  },
  {
   "cell_type": "markdown",
   "metadata": {
    "id": "IP8eGjr-2g6x"
   },
   "source": [
    "La curtosis (del griego kurtos: \"curvado, arqueado\"), se define como $K := \\frac{\\frac{1}{n}\\sum_{i=1}^n(x_i-\\overline{x})^4}{(\\frac{1}{n}\\sum_{i=1}^n(x_i-\\overline{x})^2)^2}-3$."
   ]
  },
  {
   "cell_type": "markdown",
   "metadata": {
    "id": "VkD02ZMu3LeS"
   },
   "source": [
    "El número 3, aparece debido a que se mide con respecto a la distribución normal, la cual tiene una curtosis igual a 3. La curtosis mide lo \"picuda\" que es la distribución, así como el peso de sus colas."
   ]
  },
  {
   "cell_type": "markdown",
   "metadata": {
    "id": "EkPS1whr3pUs"
   },
   "source": [
    "Si la curtosis es negativa (distribución platicúrtica), entonces la distribución será aplanada, sin picos pronunciados, y con colas más ligeras."
   ]
  },
  {
   "cell_type": "markdown",
   "metadata": {
    "id": "d4Wis30j38oP"
   },
   "source": [
    "Si la curtosis es cero (distribución mesocúrtica), entonces la distribución tendrá la curvatura de una distribución normal."
   ]
  },
  {
   "cell_type": "markdown",
   "metadata": {
    "id": "P2KBHRVg4Hde"
   },
   "source": [
    "Si la curtosis es positiva (distribución leptocúrtica), entonces la distribución tendrá picos pronunciados, y colas pesadas."
   ]
  },
  {
   "cell_type": "markdown",
   "metadata": {
    "id": "YHjzu-7r4yoA"
   },
   "source": [
    "La curtosis también presenta sensibilidad a los valores atípicos."
   ]
  },
  {
   "cell_type": "code",
   "execution_count": 35,
   "metadata": {
    "colab": {
     "base_uri": "https://localhost:8080/"
    },
    "id": "qHnOuUpE4c8a",
    "outputId": "a0105665-369a-4ace-ed26-ba8c79464c3e"
   },
   "outputs": [
    {
     "data": {
      "text/plain": [
       "46.019999999999996"
      ]
     },
     "execution_count": 35,
     "metadata": {},
     "output_type": "execute_result"
    }
   ],
   "source": [
    "kurtosis(data_1)"
   ]
  },
  {
   "cell_type": "code",
   "execution_count": 36,
   "metadata": {
    "colab": {
     "base_uri": "https://localhost:8080/"
    },
    "id": "j6H-bDiN4vJA",
    "outputId": "a66f71b4-86fe-44fe-a9c5-198aee7d49b9"
   },
   "outputs": [
    {
     "data": {
      "text/plain": [
       "-0.8424632593245933"
      ]
     },
     "execution_count": 36,
     "metadata": {},
     "output_type": "execute_result"
    }
   ],
   "source": [
    "kurtosis(data_1_modif)"
   ]
  },
  {
   "cell_type": "code",
   "execution_count": null,
   "metadata": {
    "id": "m9Iwb23BmmYW"
   },
   "outputs": [],
   "source": []
  }
 ],
 "metadata": {
  "colab": {
   "collapsed_sections": [],
   "name": "Análisis Exploratorio de Datos (EDA) 1: Variables cuantitativas. Análisis numérico.ipynb",
   "provenance": []
  },
  "kernelspec": {
   "display_name": "Python 3 (ipykernel)",
   "language": "python",
   "name": "python3"
  },
  "language_info": {
   "codemirror_mode": {
    "name": "ipython",
    "version": 3
   },
   "file_extension": ".py",
   "mimetype": "text/x-python",
   "name": "python",
   "nbconvert_exporter": "python",
   "pygments_lexer": "ipython3",
   "version": "3.10.4"
  }
 },
 "nbformat": 4,
 "nbformat_minor": 1
}
