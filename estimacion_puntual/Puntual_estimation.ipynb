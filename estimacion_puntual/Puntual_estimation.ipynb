{
 "cells": [
  {
   "cell_type": "markdown",
   "id": "21c0763d",
   "metadata": {},
   "source": [
    "# Estimación puntual"
   ]
  },
  {
   "cell_type": "markdown",
   "id": "fb7519bc",
   "metadata": {},
   "source": [
    "En este notebook ejemplificaremos la mayoría de los conceptos sobre _Estadísticas y distribuciones muestrales_, y _Estimación puntual_ vistos en el curso. La intención es que este material sea autocontenido y les ayude a reforzar sus conocimientos en los temas antes mencionados.\n",
    "\n",
    "Este notebook se encuentra alojado en [GitHub](https://github.com/ivannpy/inferencia_estadistica).\n",
    "\n",
    "---\n",
    "Autor: Jorge Iván Reyes Hernández.\n",
    "\n",
    "Curso: Inferencia estadística.\n",
    "\n",
    "Profesora: Ruth Selene Fuentes García.\n",
    "\n",
    "Facultad de Ciencias, UNAM."
   ]
  },
  {
   "cell_type": "code",
   "execution_count": 23,
   "id": "05e4bc45",
   "metadata": {},
   "outputs": [],
   "source": [
    "from io import StringIO\n",
    "import requests\n",
    "import numpy as np\n",
    "import matplotlib.pyplot as plt\n",
    "import scipy.stats as stats\n",
    "import pandas as pd\n",
    "import statsmodels.api as sm\n",
    "from scipy.special import binom\n",
    "from utils import *\n",
    "\n",
    "np.set_printoptions(precision=2)"
   ]
  },
  {
   "cell_type": "markdown",
   "id": "703aa916",
   "metadata": {},
   "source": [
    "## Introducción\n",
    "\n",
    "### El problema fundamental de la estadística paramétrica\n",
    "\n",
    "Recordemos que el _problema fundamental de la estadística (inferencial) paramétrica_ es que, dada una muestra aleatoria $\\underline{X} = (X_1, \\dots X_n)$ de tamaño $n$ (en la práctica esto se traduce a tener $n$ números $x_1, \\dots, x_n$) provenientes de algún modelo de probabilidad paramétrico, $F_{\\theta}$, hay que aprender/inferir el valor $\\theta \\in \\Theta$ que generó la muestra.\n",
    "\n",
    "En este Notebook sólo hablaremos de la estimación puntual que, a grandes rasgos, consiste en dar un valor puntual (un único número) para este parámetro (o dar un vector de números, en caso de que tengamos más de un parámetro)."
   ]
  },
  {
   "cell_type": "markdown",
   "id": "c4fb8954",
   "metadata": {},
   "source": [
    "Considere el siguiente listado."
   ]
  },
  {
   "cell_type": "code",
   "execution_count": 2,
   "id": "be9f730e",
   "metadata": {
    "scrolled": true
   },
   "outputs": [],
   "source": [
    "mu: float = 0  # Media\n",
    "sigma2: float = 2  # Varianza\n",
    "sigma: float = np.sqrt(sigma2)  # Desviación estándar\n",
    "\n",
    "# Generamos una muestra aleatoria de tamaño n = 500 de una población\n",
    "# Normal con media 0 y varianza 2\n",
    "\n",
    "n: int = 500  # Tamaño de la muestra\n",
    "    \n",
    "random_sample = stats.norm.rvs(loc=mu, scale=sigma, size=n, random_state=0)  # Muestra aleatoria\n"
   ]
  },
  {
   "cell_type": "code",
   "execution_count": 3,
   "id": "026977a5",
   "metadata": {
    "scrolled": true
   },
   "outputs": [
    {
     "data": {
      "text/plain": [
       "array([ 2.49,  0.57,  1.38,  3.17,  2.64, -1.38,  1.34, -0.21, -0.15,\n",
       "        0.58,  0.2 ,  2.06,  1.08,  0.17,  0.63,  0.47,  2.11, -0.29,\n",
       "        0.44, -1.21, -3.61,  0.92,  1.22, -1.05,  3.21, -2.06,  0.06,\n",
       "       -0.26,  2.17,  2.08,  0.22,  0.53, -1.26, -2.8 , -0.49,  0.22,\n",
       "        1.74,  1.7 , -0.55, -0.43, -1.48, -2.01, -2.41,  2.76, -0.72,\n",
       "       -0.62, -1.77,  1.1 , -2.28, -0.3 , -1.27,  0.55, -0.72, -1.67,\n",
       "       -0.04,  0.61,  0.09,  0.43, -0.9 , -0.51, -0.95, -0.51, -1.15,\n",
       "       -2.44,  0.25, -0.57, -2.31,  0.65, -1.28,  0.07,  1.03,  0.18,\n",
       "        1.61, -1.75,  0.57, -0.97, -1.23, -0.82, -0.44,  0.08, -1.65,\n",
       "        1.27,  0.66, -2.17,  2.1 ,  2.68,  1.67, -0.25, -1.51,  1.49,\n",
       "       -0.57,  1.73,  0.29,  1.38,  0.5 ,  1.  ,  0.01,  2.53,  0.18,\n",
       "        0.57,  2.66, -1.91, -1.8 ,  1.37, -1.66,  2.75, -0.58, -1.06,\n",
       "        2.72,  2.09,  2.64,  1.28, -1.22,  2.7 , -0.38,  1.13,  1.34,\n",
       "       -0.22,  0.87,  1.3 ,  0.53, -1.55,  0.42,  1.88, -0.98, -0.21,\n",
       "       -0.62,  2.62,  0.95,  0.58, -1.09,  0.76, -0.95,  0.05, -0.9 ,\n",
       "        0.96,  0.82, -0.29,  0.56, -1.55, -2.11,  0.62,  0.24,  0.9 ,\n",
       "        3.37,  1.34, -1.29,  1.58, -1.86, -0.65, -0.1 ,  2.42, -1.05,\n",
       "       -1.17, -0.14, -0.94,  1.59, -1.53, -1.62, -0.62, -0.7 ,  2.73,\n",
       "        1.34,  0.12, -1.73,  1.19, -1.41, -2.18,  1.68,  0.45,  1.3 ,\n",
       "        0.45,  1.21, -0.92, -1.46,  0.96, -1.14, -0.98, -0.64,  0.02,\n",
       "       -0.5 , -1.94, -0.91, -3.14,  0.88, -2.27, -1.56,  0.07, -1.05,\n",
       "        2.18, -1.83,  0.38, -0.06, -1.65,  0.74, -0.24,  1.09,  1.16,\n",
       "        3.06,  1.89, -0.52, -0.34,  1.56,  0.93,  0.91, -2.29, -0.03,\n",
       "       -1.04,  0.4 , -0.14,  1.29,  0.45,  1.11, -0.66, -1.34, -0.58,\n",
       "       -0.02,  0.54,  3.2 , -0.06, -1.35, -0.49, -0.66,  0.68, -2.18,\n",
       "        0.09,  0.22,  0.33, -0.84, -0.34, -2.01, -0.7 , -0.77,  0.59,\n",
       "       -1.64,  1.1 ,  2.11, -2.93,  0.6 ,  0.96, -0.9 , -0.56, -0.19,\n",
       "       -0.42, -0.44, -2.37,  1.63,  1.53, -1.15, -2.07,  0.74, -0.81,\n",
       "        0.2 , -0.45,  0.98,  0.98, -1.03, -1.96, -2.24,  0.86, -1.68,\n",
       "       -0.72, -0.84, -0.07, -2.74,  0.27,  0.74,  0.13, -0.44,  0.14,\n",
       "        0.56, -3.92,  2.77,  0.55, -0.92, -0.55,  0.7 , -0.16, -2.87,\n",
       "        2.92, -0.16,  1.44, -0.98,  2.17,  0.4 ,  0.86, -1.48,  1.71,\n",
       "        0.98,  1.84, -0.89, -0.68,  3.26, -1.5 , -0.19,  1.61,  0.14,\n",
       "        0.82, -0.56,  0.52, -1.85,  2.34, -0.17, -0.96,  0.94, -0.65,\n",
       "       -1.89, -1.9 ,  0.98, -0.23, -0.19,  1.52, -1.59, -1.03, -0.54,\n",
       "        0.13, -0.06, -0.41, -0.09, -0.15, -1.02, -1.15,  0.39, -1.26,\n",
       "       -1.64, -0.44, -0.22,  3.19, -1.  ,  1.33,  1.06, -1.68,  1.09,\n",
       "       -1.67, -3.76,  0.86, -2.48,  0.64, -0.97,  2.35,  1.51, -0.64,\n",
       "       -0.97, -1.72, -0.62, -0.4 , -0.52,  0.22,  0.82,  0.49, -1.08,\n",
       "       -2.03,  1.93, -0.98, -0.92, -0.74, -2.61, -0.68, -0.68,  0.88,\n",
       "        0.99,  0.01,  1.32,  0.48, -0.02,  0.23, -0.27, -0.56, -0.38,\n",
       "       -1.6 ,  0.4 , -1.4 ,  1.19, -0.35,  0.07,  0.7 ,  0.91, -2.22,\n",
       "       -0.29,  1.24, -2.4 ,  0.55, -3.19, -1.45,  0.05, -2.34, -1.39,\n",
       "       -2.08,  2.33,  0.23,  0.8 , -0.31, -0.5 , -2.29, -0.41, -1.08,\n",
       "        1.21,  1.61,  2.07,  1.21, -0.85, -1.58,  1.08,  0.5 , -2.5 ,\n",
       "        0.5 ,  1.15,  0.08, -0.26, -1.14, -2.05,  1.13, -0.44, -0.33,\n",
       "        2.45,  0.97,  0.52,  0.2 ,  2.15,  2.43,  1.31,  0.82, -2.96,\n",
       "        0.17, -0.18,  0.13,  1.33, -3.87, -0.81,  0.38, -0.66, -2.  ,\n",
       "        1.23,  0.39, -1.37,  0.45,  1.16,  0.01,  1.13,  0.11, -0.56,\n",
       "       -1.64, -0.12,  0.27,  1.24, -0.16,  0.65, -1.36, -1.11, -0.16,\n",
       "       -1.49,  1.16,  0.65,  0.39,  0.48,  2.86, -0.66, -3.11,  0.28,\n",
       "       -0.07, -0.73, -1.38, -0.62,  0.26, -0.71,  3.41, -1.36, -1.12,\n",
       "       -3.24,  0.36, -2.85, -0.76, -0.39, -1.  ,  2.46,  1.41,  1.87,\n",
       "       -1.25,  1.6 ,  0.7 ,  1.09,  1.46, -1.29, -0.6 ,  1.22, -3.76,\n",
       "        2.14,  0.78, -0.06,  0.31, -1.46, -0.49,  1.56,  1.84,  3.81,\n",
       "       -0.1 , -0.93, -0.73, -1.44, -0.11])"
      ]
     },
     "execution_count": 3,
     "metadata": {},
     "output_type": "execute_result"
    }
   ],
   "source": [
    "random_sample"
   ]
  },
  {
   "cell_type": "markdown",
   "id": "eb3c45ba",
   "metadata": {},
   "source": [
    "---\n",
    "_Observación_: El método .rvs() de stats.norm genera números pseudo-aleatorios de una distribución normal. El argumento loc indica la media; scale indica la desviación estándar (es por eso que no le pasamos la varianza, sigma2); size indica el tamaño de la muestra; random_state fija una _semilla_, para obtener resultados reproducibles.\n",
    "\n",
    "---\n",
    "\n",
    "En el listado anterior se genera una muestra aleatoria de tamaño $n=500$ de una población $\\mathcal{N}(0, 2)$. En el contexto de inferencia estadística, partimos de que conocemos la muestra pero sin conocer los parámetros. Hagamos trampa y comencemos de nuevo.\n",
    "\n",
    "Considere el siguiente conjunto de $n=500$ números\n"
   ]
  },
  {
   "cell_type": "code",
   "execution_count": 4,
   "id": "d5c7a0f5",
   "metadata": {},
   "outputs": [
    {
     "name": "stdout",
     "output_type": "stream",
     "text": [
      "Realización de la muestra aleatoria.\n",
      "Tamaño de la muestra: 500.\n"
     ]
    },
    {
     "data": {
      "text/latex": [
       "$x_{1}$ = 2.494746752403546"
      ],
      "text/plain": [
       "<IPython.core.display.Latex object>"
      ]
     },
     "metadata": {},
     "output_type": "display_data"
    },
    {
     "data": {
      "text/latex": [
       "$x_{2}$ = 0.5659077511542838"
      ],
      "text/plain": [
       "<IPython.core.display.Latex object>"
      ]
     },
     "metadata": {},
     "output_type": "display_data"
    },
    {
     "data": {
      "text/latex": [
       "$x_{3}$ = 1.3841445311320393"
      ],
      "text/plain": [
       "<IPython.core.display.Latex object>"
      ]
     },
     "metadata": {},
     "output_type": "display_data"
    },
    {
     "data": {
      "text/latex": [
       "$x_{4}$ = 3.1691015541403353"
      ],
      "text/plain": [
       "<IPython.core.display.Latex object>"
      ]
     },
     "metadata": {},
     "output_type": "display_data"
    },
    {
     "data": {
      "text/latex": [
       "$x_{5}$ = 2.6411258381883234"
      ],
      "text/plain": [
       "<IPython.core.display.Latex object>"
      ]
     },
     "metadata": {},
     "output_type": "display_data"
    },
    {
     "data": {
      "text/latex": [
       "$x_{6}$ = -1.382079631928445"
      ],
      "text/plain": [
       "<IPython.core.display.Latex object>"
      ]
     },
     "metadata": {},
     "output_type": "display_data"
    },
    {
     "data": {
      "text/latex": [
       "$x_{7}$ = 1.3436279255182804"
      ],
      "text/plain": [
       "<IPython.core.display.Latex object>"
      ]
     },
     "metadata": {},
     "output_type": "display_data"
    },
    {
     "data": {
      "text/latex": [
       "$x_{8}$ = -0.21405141673753392"
      ],
      "text/plain": [
       "<IPython.core.display.Latex object>"
      ]
     },
     "metadata": {},
     "output_type": "display_data"
    },
    {
     "data": {
      "text/latex": [
       "$x_{9}$ = -0.145973500099028"
      ],
      "text/plain": [
       "<IPython.core.display.Latex object>"
      ]
     },
     "metadata": {},
     "output_type": "display_data"
    },
    {
     "data": {
      "text/latex": [
       "$x_{10}$ = 0.5806739701313217"
      ],
      "text/plain": [
       "<IPython.core.display.Latex object>"
      ]
     },
     "metadata": {},
     "output_type": "display_data"
    },
    {
     "data": {
      "text/latex": [
       "$x_{11}$ = 0.20370837190836769"
      ],
      "text/plain": [
       "<IPython.core.display.Latex object>"
      ]
     },
     "metadata": {},
     "output_type": "display_data"
    },
    {
     "data": {
      "text/latex": [
       "$x_{12}$ = 2.056653316946923"
      ],
      "text/plain": [
       "<IPython.core.display.Latex object>"
      ]
     },
     "metadata": {},
     "output_type": "display_data"
    },
    {
     "data": {
      "text/latex": [
       "$x_{13}$ = 1.076269872380446"
      ],
      "text/plain": [
       "<IPython.core.display.Latex object>"
      ]
     },
     "metadata": {},
     "output_type": "display_data"
    },
    {
     "data": {
      "text/latex": [
       "$x_{14}$ = 0.172074458526128"
      ],
      "text/plain": [
       "<IPython.core.display.Latex object>"
      ]
     },
     "metadata": {},
     "output_type": "display_data"
    },
    {
     "data": {
      "text/latex": [
       "$x_{15}$ = 0.6277174035873467"
      ],
      "text/plain": [
       "<IPython.core.display.Latex object>"
      ]
     },
     "metadata": {},
     "output_type": "display_data"
    },
    {
     "data": {
      "text/latex": [
       "$x_{16}$ = 0.4718867591884083"
      ],
      "text/plain": [
       "<IPython.core.display.Latex object>"
      ]
     },
     "metadata": {},
     "output_type": "display_data"
    },
    {
     "data": {
      "text/latex": [
       "$x_{17}$ = 2.1129468885173104"
      ],
      "text/plain": [
       "<IPython.core.display.Latex object>"
      ]
     },
     "metadata": {},
     "output_type": "display_data"
    },
    {
     "data": {
      "text/latex": [
       "$x_{18}$ = -0.29013759905051234"
      ],
      "text/plain": [
       "<IPython.core.display.Latex object>"
      ]
     },
     "metadata": {},
     "output_type": "display_data"
    },
    {
     "data": {
      "text/latex": [
       "$x_{19}$ = 0.44274458961567853"
      ],
      "text/plain": [
       "<IPython.core.display.Latex object>"
      ]
     },
     "metadata": {},
     "output_type": "display_data"
    },
    {
     "data": {
      "text/latex": [
       "$x_{20}$ = -1.2078737780855746"
      ],
      "text/plain": [
       "<IPython.core.display.Latex object>"
      ]
     },
     "metadata": {},
     "output_type": "display_data"
    },
    {
     "data": {
      "text/latex": [
       "$x_{21}$ = -3.6104728221529445"
      ],
      "text/plain": [
       "<IPython.core.display.Latex object>"
      ]
     },
     "metadata": {},
     "output_type": "display_data"
    },
    {
     "data": {
      "text/latex": [
       "$x_{22}$ = 0.9243562822910113"
      ],
      "text/plain": [
       "<IPython.core.display.Latex object>"
      ]
     },
     "metadata": {},
     "output_type": "display_data"
    },
    {
     "data": {
      "text/latex": [
       "$x_{23}$ = 1.222497396233359"
      ],
      "text/plain": [
       "<IPython.core.display.Latex object>"
      ]
     },
     "metadata": {},
     "output_type": "display_data"
    },
    {
     "data": {
      "text/latex": [
       "$x_{24}$ = -1.0495798373776952"
      ],
      "text/plain": [
       "<IPython.core.display.Latex object>"
      ]
     },
     "metadata": {},
     "output_type": "display_data"
    },
    {
     "data": {
      "text/latex": [
       "$x_{25}$ = 3.20991777250232"
      ],
      "text/plain": [
       "<IPython.core.display.Latex object>"
      ]
     },
     "metadata": {},
     "output_type": "display_data"
    },
    {
     "data": {
      "text/latex": [
       "$x_{26}$ = -2.0567836616674686"
      ],
      "text/plain": [
       "<IPython.core.display.Latex object>"
      ]
     },
     "metadata": {},
     "output_type": "display_data"
    },
    {
     "data": {
      "text/latex": [
       "$x_{27}$ = 0.06471231576178896"
      ],
      "text/plain": [
       "<IPython.core.display.Latex object>"
      ]
     },
     "metadata": {},
     "output_type": "display_data"
    },
    {
     "data": {
      "text/latex": [
       "$x_{28}$ = -0.2647179393637453"
      ],
      "text/plain": [
       "<IPython.core.display.Latex object>"
      ]
     },
     "metadata": {},
     "output_type": "display_data"
    },
    {
     "data": {
      "text/latex": [
       "$x_{29}$ = 2.167677153069308"
      ],
      "text/plain": [
       "<IPython.core.display.Latex object>"
      ]
     },
     "metadata": {},
     "output_type": "display_data"
    },
    {
     "data": {
      "text/latex": [
       "$x_{30}$ = 2.077987100384831"
      ],
      "text/plain": [
       "<IPython.core.display.Latex object>"
      ]
     },
     "metadata": {},
     "output_type": "display_data"
    },
    {
     "data": {
      "text/latex": [
       "$x_{31}$ = 0.21912875087537648"
      ],
      "text/plain": [
       "<IPython.core.display.Latex object>"
      ]
     },
     "metadata": {},
     "output_type": "display_data"
    },
    {
     "data": {
      "text/latex": [
       "$x_{32}$ = 0.5348025640025753"
      ],
      "text/plain": [
       "<IPython.core.display.Latex object>"
      ]
     },
     "metadata": {},
     "output_type": "display_data"
    },
    {
     "data": {
      "text/latex": [
       "$x_{33}$ = -1.2555186447800433"
      ],
      "text/plain": [
       "<IPython.core.display.Latex object>"
      ]
     },
     "metadata": {},
     "output_type": "display_data"
    },
    {
     "data": {
      "text/latex": [
       "$x_{34}$ = -2.801269229663005"
      ],
      "text/plain": [
       "<IPython.core.display.Latex object>"
      ]
     },
     "metadata": {},
     "output_type": "display_data"
    },
    {
     "data": {
      "text/latex": [
       "$x_{35}$ = -0.4920220800914185"
      ],
      "text/plain": [
       "<IPython.core.display.Latex object>"
      ]
     },
     "metadata": {},
     "output_type": "display_data"
    },
    {
     "data": {
      "text/latex": [
       "$x_{36}$ = 0.2211108325699006"
      ],
      "text/plain": [
       "<IPython.core.display.Latex object>"
      ]
     },
     "metadata": {},
     "output_type": "display_data"
    },
    {
     "data": {
      "text/latex": [
       "$x_{37}$ = 1.7398937663463703"
      ],
      "text/plain": [
       "<IPython.core.display.Latex object>"
      ]
     },
     "metadata": {},
     "output_type": "display_data"
    },
    {
     "data": {
      "text/latex": [
       "$x_{38}$ = 1.7004218892750258"
      ],
      "text/plain": [
       "<IPython.core.display.Latex object>"
      ]
     },
     "metadata": {},
     "output_type": "display_data"
    },
    {
     "data": {
      "text/latex": [
       "$x_{39}$ = -0.5477628382491335"
      ],
      "text/plain": [
       "<IPython.core.display.Latex object>"
      ]
     },
     "metadata": {},
     "output_type": "display_data"
    },
    {
     "data": {
      "text/latex": [
       "$x_{40}$ = -0.42752064980633053"
      ],
      "text/plain": [
       "<IPython.core.display.Latex object>"
      ]
     },
     "metadata": {},
     "output_type": "display_data"
    },
    {
     "data": {
      "text/latex": [
       "$x_{41}$ = -1.4828778240644047"
      ],
      "text/plain": [
       "<IPython.core.display.Latex object>"
      ]
     },
     "metadata": {},
     "output_type": "display_data"
    },
    {
     "data": {
      "text/latex": [
       "$x_{42}$ = -2.0082086255715725"
      ],
      "text/plain": [
       "<IPython.core.display.Latex object>"
      ]
     },
     "metadata": {},
     "output_type": "display_data"
    },
    {
     "data": {
      "text/latex": [
       "$x_{43}$ = -2.413030444654819"
      ],
      "text/plain": [
       "<IPython.core.display.Latex object>"
      ]
     },
     "metadata": {},
     "output_type": "display_data"
    },
    {
     "data": {
      "text/latex": [
       "$x_{44}$ = 2.758813021080532"
      ],
      "text/plain": [
       "<IPython.core.display.Latex object>"
      ]
     },
     "metadata": {},
     "output_type": "display_data"
    },
    {
     "data": {
      "text/latex": [
       "$x_{45}$ = -0.7207570275262261"
      ],
      "text/plain": [
       "<IPython.core.display.Latex object>"
      ]
     },
     "metadata": {},
     "output_type": "display_data"
    },
    {
     "data": {
      "text/latex": [
       "$x_{46}$ = -0.6195306186656616"
      ],
      "text/plain": [
       "<IPython.core.display.Latex object>"
      ]
     },
     "metadata": {},
     "output_type": "display_data"
    },
    {
     "data": {
      "text/latex": [
       "$x_{47}$ = -1.7717201890606904"
      ],
      "text/plain": [
       "<IPython.core.display.Latex object>"
      ]
     },
     "metadata": {},
     "output_type": "display_data"
    },
    {
     "data": {
      "text/latex": [
       "$x_{48}$ = 1.0995374058317708"
      ],
      "text/plain": [
       "<IPython.core.display.Latex object>"
      ]
     },
     "metadata": {},
     "output_type": "display_data"
    },
    {
     "data": {
      "text/latex": [
       "$x_{49}$ = -2.282396224301201"
      ],
      "text/plain": [
       "<IPython.core.display.Latex object>"
      ]
     },
     "metadata": {},
     "output_type": "display_data"
    },
    {
     "data": {
      "text/latex": [
       "$x_{50}$ = -0.30086018954164717"
      ],
      "text/plain": [
       "<IPython.core.display.Latex object>"
      ]
     },
     "metadata": {},
     "output_type": "display_data"
    },
    {
     "data": {
      "text/latex": [
       "$x_{51}$ = -1.2663809554916932"
      ],
      "text/plain": [
       "<IPython.core.display.Latex object>"
      ]
     },
     "metadata": {},
     "output_type": "display_data"
    },
    {
     "data": {
      "text/latex": [
       "$x_{52}$ = 0.5471627597885957"
      ],
      "text/plain": [
       "<IPython.core.display.Latex object>"
      ]
     },
     "metadata": {},
     "output_type": "display_data"
    },
    {
     "data": {
      "text/latex": [
       "$x_{53}$ = -0.7223875532797549"
      ],
      "text/plain": [
       "<IPython.core.display.Latex object>"
      ]
     },
     "metadata": {},
     "output_type": "display_data"
    },
    {
     "data": {
      "text/latex": [
       "$x_{54}$ = -1.6696660469600844"
      ],
      "text/plain": [
       "<IPython.core.display.Latex object>"
      ]
     },
     "metadata": {},
     "output_type": "display_data"
    },
    {
     "data": {
      "text/latex": [
       "$x_{55}$ = -0.0398556895344211"
      ],
      "text/plain": [
       "<IPython.core.display.Latex object>"
      ]
     },
     "metadata": {},
     "output_type": "display_data"
    },
    {
     "data": {
      "text/latex": [
       "$x_{56}$ = 0.6057527405007533"
      ],
      "text/plain": [
       "<IPython.core.display.Latex object>"
      ]
     },
     "metadata": {},
     "output_type": "display_data"
    },
    {
     "data": {
      "text/latex": [
       "$x_{57}$ = 0.09406955802566323"
      ],
      "text/plain": [
       "<IPython.core.display.Latex object>"
      ]
     },
     "metadata": {},
     "output_type": "display_data"
    },
    {
     "data": {
      "text/latex": [
       "$x_{58}$ = 0.4277598600203268"
      ],
      "text/plain": [
       "<IPython.core.display.Latex object>"
      ]
     },
     "metadata": {},
     "output_type": "display_data"
    },
    {
     "data": {
      "text/latex": [
       "$x_{59}$ = -0.8970669077965157"
      ],
      "text/plain": [
       "<IPython.core.display.Latex object>"
      ]
     },
     "metadata": {},
     "output_type": "display_data"
    },
    {
     "data": {
      "text/latex": [
       "$x_{60}$ = -0.5129934765700408"
      ],
      "text/plain": [
       "<IPython.core.display.Latex object>"
      ]
     },
     "metadata": {},
     "output_type": "display_data"
    },
    {
     "data": {
      "text/latex": [
       "$x_{61}$ = -0.9510026854042344"
      ],
      "text/plain": [
       "<IPython.core.display.Latex object>"
      ]
     },
     "metadata": {},
     "output_type": "display_data"
    },
    {
     "data": {
      "text/latex": [
       "$x_{62}$ = -0.5084849574447579"
      ],
      "text/plain": [
       "<IPython.core.display.Latex object>"
      ]
     },
     "metadata": {},
     "output_type": "display_data"
    },
    {
     "data": {
      "text/latex": [
       "$x_{63}$ = -1.149962500260525"
      ],
      "text/plain": [
       "<IPython.core.display.Latex object>"
      ]
     },
     "metadata": {},
     "output_type": "display_data"
    },
    {
     "data": {
      "text/latex": [
       "$x_{64}$ = -2.441332268706178"
      ],
      "text/plain": [
       "<IPython.core.display.Latex object>"
      ]
     },
     "metadata": {},
     "output_type": "display_data"
    },
    {
     "data": {
      "text/latex": [
       "$x_{65}$ = 0.25091845669479534"
      ],
      "text/plain": [
       "<IPython.core.display.Latex object>"
      ]
     },
     "metadata": {},
     "output_type": "display_data"
    },
    {
     "data": {
      "text/latex": [
       "$x_{66}$ = -0.5682040490886834"
      ],
      "text/plain": [
       "<IPython.core.display.Latex object>"
      ]
     },
     "metadata": {},
     "output_type": "display_data"
    },
    {
     "data": {
      "text/latex": [
       "$x_{67}$ = -2.3054486116375807"
      ],
      "text/plain": [
       "<IPython.core.display.Latex object>"
      ]
     },
     "metadata": {},
     "output_type": "display_data"
    },
    {
     "data": {
      "text/latex": [
       "$x_{68}$ = 0.6544729421901611"
      ],
      "text/plain": [
       "<IPython.core.display.Latex object>"
      ]
     },
     "metadata": {},
     "output_type": "display_data"
    },
    {
     "data": {
      "text/latex": [
       "$x_{69}$ = -1.2831136520297075"
      ],
      "text/plain": [
       "<IPython.core.display.Latex object>"
      ]
     },
     "metadata": {},
     "output_type": "display_data"
    },
    {
     "data": {
      "text/latex": [
       "$x_{70}$ = 0.07346188323773807"
      ],
      "text/plain": [
       "<IPython.core.display.Latex object>"
      ]
     },
     "metadata": {},
     "output_type": "display_data"
    },
    {
     "data": {
      "text/latex": [
       "$x_{71}$ = 1.031089761229697"
      ],
      "text/plain": [
       "<IPython.core.display.Latex object>"
      ]
     },
     "metadata": {},
     "output_type": "display_data"
    },
    {
     "data": {
      "text/latex": [
       "$x_{72}$ = 0.18240938170748874"
      ],
      "text/plain": [
       "<IPython.core.display.Latex object>"
      ]
     },
     "metadata": {},
     "output_type": "display_data"
    },
    {
     "data": {
      "text/latex": [
       "$x_{73}$ = 1.6113559010583245"
      ],
      "text/plain": [
       "<IPython.core.display.Latex object>"
      ]
     },
     "metadata": {},
     "output_type": "display_data"
    },
    {
     "data": {
      "text/latex": [
       "$x_{74}$ = -1.7463074223126187"
      ],
      "text/plain": [
       "<IPython.core.display.Latex object>"
      ]
     },
     "metadata": {},
     "output_type": "display_data"
    },
    {
     "data": {
      "text/latex": [
       "$x_{75}$ = 0.5689970056607392"
      ],
      "text/plain": [
       "<IPython.core.display.Latex object>"
      ]
     },
     "metadata": {},
     "output_type": "display_data"
    },
    {
     "data": {
      "text/latex": [
       "$x_{76}$ = -0.9684677182577436"
      ],
      "text/plain": [
       "<IPython.core.display.Latex object>"
      ]
     },
     "metadata": {},
     "output_type": "display_data"
    },
    {
     "data": {
      "text/latex": [
       "$x_{77}$ = -1.2314931384488446"
      ],
      "text/plain": [
       "<IPython.core.display.Latex object>"
      ]
     },
     "metadata": {},
     "output_type": "display_data"
    },
    {
     "data": {
      "text/latex": [
       "$x_{78}$ = -0.8186170464849559"
      ],
      "text/plain": [
       "<IPython.core.display.Latex object>"
      ]
     },
     "metadata": {},
     "output_type": "display_data"
    },
    {
     "data": {
      "text/latex": [
       "$x_{79}$ = -0.44060181632620987"
      ],
      "text/plain": [
       "<IPython.core.display.Latex object>"
      ]
     },
     "metadata": {},
     "output_type": "display_data"
    },
    {
     "data": {
      "text/latex": [
       "$x_{80}$ = 0.07942978871663234"
      ],
      "text/plain": [
       "<IPython.core.display.Latex object>"
      ]
     },
     "metadata": {},
     "output_type": "display_data"
    },
    {
     "data": {
      "text/latex": [
       "$x_{81}$ = -1.6477707070326753"
      ],
      "text/plain": [
       "<IPython.core.display.Latex object>"
      ]
     },
     "metadata": {},
     "output_type": "display_data"
    },
    {
     "data": {
      "text/latex": [
       "$x_{82}$ = 1.2739610351955215"
      ],
      "text/plain": [
       "<IPython.core.display.Latex object>"
      ]
     },
     "metadata": {},
     "output_type": "display_data"
    },
    {
     "data": {
      "text/latex": [
       "$x_{83}$ = 0.6585461377545603"
      ],
      "text/plain": [
       "<IPython.core.display.Latex object>"
      ]
     },
     "metadata": {},
     "output_type": "display_data"
    },
    {
     "data": {
      "text/latex": [
       "$x_{84}$ = -2.172576656243288"
      ],
      "text/plain": [
       "<IPython.core.display.Latex object>"
      ]
     },
     "metadata": {},
     "output_type": "display_data"
    },
    {
     "data": {
      "text/latex": [
       "$x_{85}$ = 2.104706436697249"
      ],
      "text/plain": [
       "<IPython.core.display.Latex object>"
      ]
     },
     "metadata": {},
     "output_type": "display_data"
    },
    {
     "data": {
      "text/latex": [
       "$x_{86}$ = 2.6811921854988032"
      ],
      "text/plain": [
       "<IPython.core.display.Latex object>"
      ]
     },
     "metadata": {},
     "output_type": "display_data"
    },
    {
     "data": {
      "text/latex": [
       "$x_{87}$ = 1.667046056582319"
      ],
      "text/plain": [
       "<IPython.core.display.Latex object>"
      ]
     },
     "metadata": {},
     "output_type": "display_data"
    },
    {
     "data": {
      "text/latex": [
       "$x_{88}$ = -0.25445214301357905"
      ],
      "text/plain": [
       "<IPython.core.display.Latex object>"
      ]
     },
     "metadata": {},
     "output_type": "display_data"
    },
    {
     "data": {
      "text/latex": [
       "$x_{89}$ = -1.5142728792867548"
      ],
      "text/plain": [
       "<IPython.core.display.Latex object>"
      ]
     },
     "metadata": {},
     "output_type": "display_data"
    },
    {
     "data": {
      "text/latex": [
       "$x_{90}$ = 1.491219933093745"
      ],
      "text/plain": [
       "<IPython.core.display.Latex object>"
      ]
     },
     "metadata": {},
     "output_type": "display_data"
    },
    {
     "data": {
      "text/latex": [
       "$x_{91}$ = -0.5701783064456488"
      ],
      "text/plain": [
       "<IPython.core.display.Latex object>"
      ]
     },
     "metadata": {},
     "output_type": "display_data"
    },
    {
     "data": {
      "text/latex": [
       "$x_{92}$ = 1.7287983977909618"
      ],
      "text/plain": [
       "<IPython.core.display.Latex object>"
      ]
     },
     "metadata": {},
     "output_type": "display_data"
    },
    {
     "data": {
      "text/latex": [
       "$x_{93}$ = 0.2945452986992549"
      ],
      "text/plain": [
       "<IPython.core.display.Latex object>"
      ]
     },
     "metadata": {},
     "output_type": "display_data"
    },
    {
     "data": {
      "text/latex": [
       "$x_{94}$ = 1.3811761709382586"
      ],
      "text/plain": [
       "<IPython.core.display.Latex object>"
      ]
     },
     "metadata": {},
     "output_type": "display_data"
    },
    {
     "data": {
      "text/latex": [
       "$x_{95}$ = 0.5039781920580761"
      ],
      "text/plain": [
       "<IPython.core.display.Latex object>"
      ]
     },
     "metadata": {},
     "output_type": "display_data"
    },
    {
     "data": {
      "text/latex": [
       "$x_{96}$ = 0.9992453572659791"
      ],
      "text/plain": [
       "<IPython.core.display.Latex object>"
      ]
     },
     "metadata": {},
     "output_type": "display_data"
    },
    {
     "data": {
      "text/latex": [
       "$x_{97}$ = 0.014849271708582842"
      ],
      "text/plain": [
       "<IPython.core.display.Latex object>"
      ]
     },
     "metadata": {},
     "output_type": "display_data"
    },
    {
     "data": {
      "text/latex": [
       "$x_{98}$ = 2.52560227312357"
      ],
      "text/plain": [
       "<IPython.core.display.Latex object>"
      ]
     },
     "metadata": {},
     "output_type": "display_data"
    },
    {
     "data": {
      "text/latex": [
       "$x_{99}$ = 0.17948080273061082"
      ],
      "text/plain": [
       "<IPython.core.display.Latex object>"
      ]
     },
     "metadata": {},
     "output_type": "display_data"
    },
    {
     "data": {
      "text/latex": [
       "$x_{100}$ = 0.5684988097132244"
      ],
      "text/plain": [
       "<IPython.core.display.Latex object>"
      ]
     },
     "metadata": {},
     "output_type": "display_data"
    },
    {
     "data": {
      "text/latex": [
       "$x_{101}$ = 2.6631772557693028"
      ],
      "text/plain": [
       "<IPython.core.display.Latex object>"
      ]
     },
     "metadata": {},
     "output_type": "display_data"
    },
    {
     "data": {
      "text/latex": [
       "$x_{102}$ = -1.9060191430788773"
      ],
      "text/plain": [
       "<IPython.core.display.Latex object>"
      ]
     },
     "metadata": {},
     "output_type": "display_data"
    },
    {
     "data": {
      "text/latex": [
       "$x_{103}$ = -1.7967371156500858"
      ],
      "text/plain": [
       "<IPython.core.display.Latex object>"
      ]
     },
     "metadata": {},
     "output_type": "display_data"
    },
    {
     "data": {
      "text/latex": [
       "$x_{104}$ = 1.3709339719968927"
      ],
      "text/plain": [
       "<IPython.core.display.Latex object>"
      ]
     },
     "metadata": {},
     "output_type": "display_data"
    },
    {
     "data": {
      "text/latex": [
       "$x_{105}$ = -1.6590470298497517"
      ],
      "text/plain": [
       "<IPython.core.display.Latex object>"
      ]
     },
     "metadata": {},
     "output_type": "display_data"
    },
    {
     "data": {
      "text/latex": [
       "$x_{106}$ = 2.7486954408609052"
      ],
      "text/plain": [
       "<IPython.core.display.Latex object>"
      ]
     },
     "metadata": {},
     "output_type": "display_data"
    },
    {
     "data": {
      "text/latex": [
       "$x_{107}$ = -0.584945572245371"
      ],
      "text/plain": [
       "<IPython.core.display.Latex object>"
      ]
     },
     "metadata": {},
     "output_type": "display_data"
    },
    {
     "data": {
      "text/latex": [
       "$x_{108}$ = -1.0570607316005443"
      ],
      "text/plain": [
       "<IPython.core.display.Latex object>"
      ]
     },
     "metadata": {},
     "output_type": "display_data"
    },
    {
     "data": {
      "text/latex": [
       "$x_{109}$ = 2.7194506935057636"
      ],
      "text/plain": [
       "<IPython.core.display.Latex object>"
      ]
     },
     "metadata": {},
     "output_type": "display_data"
    },
    {
     "data": {
      "text/latex": [
       "$x_{110}$ = 2.093764097340537"
      ],
      "text/plain": [
       "<IPython.core.display.Latex object>"
      ]
     },
     "metadata": {},
     "output_type": "display_data"
    },
    {
     "data": {
      "text/latex": [
       "$x_{111}$ = 2.6411272103666534"
      ],
      "text/plain": [
       "<IPython.core.display.Latex object>"
      ]
     },
     "metadata": {},
     "output_type": "display_data"
    },
    {
     "data": {
      "text/latex": [
       "$x_{112}$ = 1.2813406438487462"
      ],
      "text/plain": [
       "<IPython.core.display.Latex object>"
      ]
     },
     "metadata": {},
     "output_type": "display_data"
    },
    {
     "data": {
      "text/latex": [
       "$x_{113}$ = -1.2179570440684202"
      ],
      "text/plain": [
       "<IPython.core.display.Latex object>"
      ]
     },
     "metadata": {},
     "output_type": "display_data"
    },
    {
     "data": {
      "text/latex": [
       "$x_{114}$ = 2.701239761686183"
      ],
      "text/plain": [
       "<IPython.core.display.Latex object>"
      ]
     },
     "metadata": {},
     "output_type": "display_data"
    },
    {
     "data": {
      "text/latex": [
       "$x_{115}$ = -0.37901400196114976"
      ],
      "text/plain": [
       "<IPython.core.display.Latex object>"
      ]
     },
     "metadata": {},
     "output_type": "display_data"
    },
    {
     "data": {
      "text/latex": [
       "$x_{116}$ = 1.1348447181482944"
      ],
      "text/plain": [
       "<IPython.core.display.Latex object>"
      ]
     },
     "metadata": {},
     "output_type": "display_data"
    },
    {
     "data": {
      "text/latex": [
       "$x_{117}$ = 1.3396165798102364"
      ],
      "text/plain": [
       "<IPython.core.display.Latex object>"
      ]
     },
     "metadata": {},
     "output_type": "display_data"
    },
    {
     "data": {
      "text/latex": [
       "$x_{118}$ = -0.21921737595377372"
      ],
      "text/plain": [
       "<IPython.core.display.Latex object>"
      ]
     },
     "metadata": {},
     "output_type": "display_data"
    },
    {
     "data": {
      "text/latex": [
       "$x_{119}$ = 0.8684393739169574"
      ],
      "text/plain": [
       "<IPython.core.display.Latex object>"
      ]
     },
     "metadata": {},
     "output_type": "display_data"
    },
    {
     "data": {
      "text/latex": [
       "$x_{120}$ = 1.3041971822403329"
      ],
      "text/plain": [
       "<IPython.core.display.Latex object>"
      ]
     },
     "metadata": {},
     "output_type": "display_data"
    },
    {
     "data": {
      "text/latex": [
       "$x_{121}$ = 0.5323460913837872"
      ],
      "text/plain": [
       "<IPython.core.display.Latex object>"
      ]
     },
     "metadata": {},
     "output_type": "display_data"
    },
    {
     "data": {
      "text/latex": [
       "$x_{122}$ = -1.5547875085278708"
      ],
      "text/plain": [
       "<IPython.core.display.Latex object>"
      ]
     },
     "metadata": {},
     "output_type": "display_data"
    },
    {
     "data": {
      "text/latex": [
       "$x_{123}$ = 0.4217724707795942"
      ],
      "text/plain": [
       "<IPython.core.display.Latex object>"
      ]
     },
     "metadata": {},
     "output_type": "display_data"
    },
    {
     "data": {
      "text/latex": [
       "$x_{124}$ = 1.8757929240351974"
      ],
      "text/plain": [
       "<IPython.core.display.Latex object>"
      ]
     },
     "metadata": {},
     "output_type": "display_data"
    },
    {
     "data": {
      "text/latex": [
       "$x_{125}$ = -0.9822672872205507"
      ],
      "text/plain": [
       "<IPython.core.display.Latex object>"
      ]
     },
     "metadata": {},
     "output_type": "display_data"
    },
    {
     "data": {
      "text/latex": [
       "$x_{126}$ = -0.21161519633085585"
      ],
      "text/plain": [
       "<IPython.core.display.Latex object>"
      ]
     },
     "metadata": {},
     "output_type": "display_data"
    },
    {
     "data": {
      "text/latex": [
       "$x_{127}$ = -0.6154000545595618"
      ],
      "text/plain": [
       "<IPython.core.display.Latex object>"
      ]
     },
     "metadata": {},
     "output_type": "display_data"
    },
    {
     "data": {
      "text/latex": [
       "$x_{128}$ = 2.6152538452201224"
      ],
      "text/plain": [
       "<IPython.core.display.Latex object>"
      ]
     },
     "metadata": {},
     "output_type": "display_data"
    },
    {
     "data": {
      "text/latex": [
       "$x_{129}$ = 0.9507683632793107"
      ],
      "text/plain": [
       "<IPython.core.display.Latex object>"
      ]
     },
     "metadata": {},
     "output_type": "display_data"
    },
    {
     "data": {
      "text/latex": [
       "$x_{130}$ = 0.5762380549616235"
      ],
      "text/plain": [
       "<IPython.core.display.Latex object>"
      ]
     },
     "metadata": {},
     "output_type": "display_data"
    },
    {
     "data": {
      "text/latex": [
       "$x_{131}$ = -1.08882575436962"
      ],
      "text/plain": [
       "<IPython.core.display.Latex object>"
      ]
     },
     "metadata": {},
     "output_type": "display_data"
    },
    {
     "data": {
      "text/latex": [
       "$x_{132}$ = 0.7626135198236115"
      ],
      "text/plain": [
       "<IPython.core.display.Latex object>"
      ]
     },
     "metadata": {},
     "output_type": "display_data"
    },
    {
     "data": {
      "text/latex": [
       "$x_{133}$ = -0.9536503942527953"
      ],
      "text/plain": [
       "<IPython.core.display.Latex object>"
      ]
     },
     "metadata": {},
     "output_type": "display_data"
    },
    {
     "data": {
      "text/latex": [
       "$x_{134}$ = 0.04501520720949458"
      ],
      "text/plain": [
       "<IPython.core.display.Latex object>"
      ]
     },
     "metadata": {},
     "output_type": "display_data"
    },
    {
     "data": {
      "text/latex": [
       "$x_{135}$ = -0.8992221476251595"
      ],
      "text/plain": [
       "<IPython.core.display.Latex object>"
      ]
     },
     "metadata": {},
     "output_type": "display_data"
    },
    {
     "data": {
      "text/latex": [
       "$x_{136}$ = 0.9566211397540599"
      ],
      "text/plain": [
       "<IPython.core.display.Latex object>"
      ]
     },
     "metadata": {},
     "output_type": "display_data"
    },
    {
     "data": {
      "text/latex": [
       "$x_{137}$ = 0.8154225527966277"
      ],
      "text/plain": [
       "<IPython.core.display.Latex object>"
      ]
     },
     "metadata": {},
     "output_type": "display_data"
    },
    {
     "data": {
      "text/latex": [
       "$x_{138}$ = -0.29457892516383877"
      ],
      "text/plain": [
       "<IPython.core.display.Latex object>"
      ]
     },
     "metadata": {},
     "output_type": "display_data"
    },
    {
     "data": {
      "text/latex": [
       "$x_{139}$ = 0.560038063836884"
      ],
      "text/plain": [
       "<IPython.core.display.Latex object>"
      ]
     },
     "metadata": {},
     "output_type": "display_data"
    },
    {
     "data": {
      "text/latex": [
       "$x_{140}$ = -1.5458224101546787"
      ],
      "text/plain": [
       "<IPython.core.display.Latex object>"
      ]
     },
     "metadata": {},
     "output_type": "display_data"
    },
    {
     "data": {
      "text/latex": [
       "$x_{141}$ = -2.1089567125961204"
      ],
      "text/plain": [
       "<IPython.core.display.Latex object>"
      ]
     },
     "metadata": {},
     "output_type": "display_data"
    },
    {
     "data": {
      "text/latex": [
       "$x_{142}$ = 0.6213937031224955"
      ],
      "text/plain": [
       "<IPython.core.display.Latex object>"
      ]
     },
     "metadata": {},
     "output_type": "display_data"
    },
    {
     "data": {
      "text/latex": [
       "$x_{143}$ = 0.23571191764395988"
      ],
      "text/plain": [
       "<IPython.core.display.Latex object>"
      ]
     },
     "metadata": {},
     "output_type": "display_data"
    },
    {
     "data": {
      "text/latex": [
       "$x_{144}$ = 0.8980700705860911"
      ],
      "text/plain": [
       "<IPython.core.display.Latex object>"
      ]
     },
     "metadata": {},
     "output_type": "display_data"
    },
    {
     "data": {
      "text/latex": [
       "$x_{145}$ = 3.370275661711163"
      ],
      "text/plain": [
       "<IPython.core.display.Latex object>"
      ]
     },
     "metadata": {},
     "output_type": "display_data"
    },
    {
     "data": {
      "text/latex": [
       "$x_{146}$ = 1.3356956998850265"
      ],
      "text/plain": [
       "<IPython.core.display.Latex object>"
      ]
     },
     "metadata": {},
     "output_type": "display_data"
    },
    {
     "data": {
      "text/latex": [
       "$x_{147}$ = -1.29092557125872"
      ],
      "text/plain": [
       "<IPython.core.display.Latex object>"
      ]
     },
     "metadata": {},
     "output_type": "display_data"
    },
    {
     "data": {
      "text/latex": [
       "$x_{148}$ = 1.5796995840168078"
      ],
      "text/plain": [
       "<IPython.core.display.Latex object>"
      ]
     },
     "metadata": {},
     "output_type": "display_data"
    },
    {
     "data": {
      "text/latex": [
       "$x_{149}$ = -1.8609741067726533"
      ],
      "text/plain": [
       "<IPython.core.display.Latex object>"
      ]
     },
     "metadata": {},
     "output_type": "display_data"
    },
    {
     "data": {
      "text/latex": [
       "$x_{150}$ = -0.6527792083115869"
      ],
      "text/plain": [
       "<IPython.core.display.Latex object>"
      ]
     },
     "metadata": {},
     "output_type": "display_data"
    },
    {
     "data": {
      "text/latex": [
       "$x_{151}$ = -0.09650820376820551"
      ],
      "text/plain": [
       "<IPython.core.display.Latex object>"
      ]
     },
     "metadata": {},
     "output_type": "display_data"
    },
    {
     "data": {
      "text/latex": [
       "$x_{152}$ = 2.423032513949765"
      ],
      "text/plain": [
       "<IPython.core.display.Latex object>"
      ]
     },
     "metadata": {},
     "output_type": "display_data"
    },
    {
     "data": {
      "text/latex": [
       "$x_{153}$ = -1.0532423699836648"
      ],
      "text/plain": [
       "<IPython.core.display.Latex object>"
      ]
     },
     "metadata": {},
     "output_type": "display_data"
    },
    {
     "data": {
      "text/latex": [
       "$x_{154}$ = -1.1687605898393796"
      ],
      "text/plain": [
       "<IPython.core.display.Latex object>"
      ]
     },
     "metadata": {},
     "output_type": "display_data"
    },
    {
     "data": {
      "text/latex": [
       "$x_{155}$ = -0.13923289529231478"
      ],
      "text/plain": [
       "<IPython.core.display.Latex object>"
      ]
     },
     "metadata": {},
     "output_type": "display_data"
    },
    {
     "data": {
      "text/latex": [
       "$x_{156}$ = -0.9382999909133524"
      ],
      "text/plain": [
       "<IPython.core.display.Latex object>"
      ]
     },
     "metadata": {},
     "output_type": "display_data"
    },
    {
     "data": {
      "text/latex": [
       "$x_{157}$ = 1.5933038008997402"
      ],
      "text/plain": [
       "<IPython.core.display.Latex object>"
      ]
     },
     "metadata": {},
     "output_type": "display_data"
    },
    {
     "data": {
      "text/latex": [
       "$x_{158}$ = -1.5272537855615869"
      ],
      "text/plain": [
       "<IPython.core.display.Latex object>"
      ]
     },
     "metadata": {},
     "output_type": "display_data"
    },
    {
     "data": {
      "text/latex": [
       "$x_{159}$ = -1.62276573063776"
      ],
      "text/plain": [
       "<IPython.core.display.Latex object>"
      ]
     },
     "metadata": {},
     "output_type": "display_data"
    },
    {
     "data": {
      "text/latex": [
       "$x_{160}$ = -0.619171045156374"
      ],
      "text/plain": [
       "<IPython.core.display.Latex object>"
      ]
     },
     "metadata": {},
     "output_type": "display_data"
    },
    {
     "data": {
      "text/latex": [
       "$x_{161}$ = -0.7043242462709673"
      ],
      "text/plain": [
       "<IPython.core.display.Latex object>"
      ]
     },
     "metadata": {},
     "output_type": "display_data"
    },
    {
     "data": {
      "text/latex": [
       "$x_{162}$ = 2.7287703995415944"
      ],
      "text/plain": [
       "<IPython.core.display.Latex object>"
      ]
     },
     "metadata": {},
     "output_type": "display_data"
    },
    {
     "data": {
      "text/latex": [
       "$x_{163}$ = 1.3426837815536188"
      ],
      "text/plain": [
       "<IPython.core.display.Latex object>"
      ]
     },
     "metadata": {},
     "output_type": "display_data"
    },
    {
     "data": {
      "text/latex": [
       "$x_{164}$ = 0.12381615296953757"
      ],
      "text/plain": [
       "<IPython.core.display.Latex object>"
      ]
     },
     "metadata": {},
     "output_type": "display_data"
    },
    {
     "data": {
      "text/latex": [
       "$x_{165}$ = -1.733027530543334"
      ],
      "text/plain": [
       "<IPython.core.display.Latex object>"
      ]
     },
     "metadata": {},
     "output_type": "display_data"
    },
    {
     "data": {
      "text/latex": [
       "$x_{166}$ = 1.1941095727927815"
      ],
      "text/plain": [
       "<IPython.core.display.Latex object>"
      ]
     },
     "metadata": {},
     "output_type": "display_data"
    },
    {
     "data": {
      "text/latex": [
       "$x_{167}$ = -1.4145181095720392"
      ],
      "text/plain": [
       "<IPython.core.display.Latex object>"
      ]
     },
     "metadata": {},
     "output_type": "display_data"
    },
    {
     "data": {
      "text/latex": [
       "$x_{168}$ = -2.1846362358248594"
      ],
      "text/plain": [
       "<IPython.core.display.Latex object>"
      ]
     },
     "metadata": {},
     "output_type": "display_data"
    },
    {
     "data": {
      "text/latex": [
       "$x_{169}$ = 1.680127844847917"
      ],
      "text/plain": [
       "<IPython.core.display.Latex object>"
      ]
     },
     "metadata": {},
     "output_type": "display_data"
    },
    {
     "data": {
      "text/latex": [
       "$x_{170}$ = 0.448224540278075"
      ],
      "text/plain": [
       "<IPython.core.display.Latex object>"
      ]
     },
     "metadata": {},
     "output_type": "display_data"
    },
    {
     "data": {
      "text/latex": [
       "$x_{171}$ = 1.3022910376217702"
      ],
      "text/plain": [
       "<IPython.core.display.Latex object>"
      ]
     },
     "metadata": {},
     "output_type": "display_data"
    },
    {
     "data": {
      "text/latex": [
       "$x_{172}$ = 0.4507489694953655"
      ],
      "text/plain": [
       "<IPython.core.display.Latex object>"
      ]
     },
     "metadata": {},
     "output_type": "display_data"
    },
    {
     "data": {
      "text/latex": [
       "$x_{173}$ = 1.2117414720092239"
      ],
      "text/plain": [
       "<IPython.core.display.Latex object>"
      ]
     },
     "metadata": {},
     "output_type": "display_data"
    },
    {
     "data": {
      "text/latex": [
       "$x_{174}$ = -0.9206892234970585"
      ],
      "text/plain": [
       "<IPython.core.display.Latex object>"
      ]
     },
     "metadata": {},
     "output_type": "display_data"
    },
    {
     "data": {
      "text/latex": [
       "$x_{175}$ = -1.4626402536388812"
      ],
      "text/plain": [
       "<IPython.core.display.Latex object>"
      ]
     },
     "metadata": {},
     "output_type": "display_data"
    },
    {
     "data": {
      "text/latex": [
       "$x_{176}$ = 0.9639202117930334"
      ],
      "text/plain": [
       "<IPython.core.display.Latex object>"
      ]
     },
     "metadata": {},
     "output_type": "display_data"
    },
    {
     "data": {
      "text/latex": [
       "$x_{177}$ = -1.1361928432162598"
      ],
      "text/plain": [
       "<IPython.core.display.Latex object>"
      ]
     },
     "metadata": {},
     "output_type": "display_data"
    },
    {
     "data": {
      "text/latex": [
       "$x_{178}$ = -0.9751706476256872"
      ],
      "text/plain": [
       "<IPython.core.display.Latex object>"
      ]
     },
     "metadata": {},
     "output_type": "display_data"
    },
    {
     "data": {
      "text/latex": [
       "$x_{179}$ = -0.6442202445759964"
      ],
      "text/plain": [
       "<IPython.core.display.Latex object>"
      ]
     },
     "metadata": {},
     "output_type": "display_data"
    },
    {
     "data": {
      "text/latex": [
       "$x_{180}$ = 0.024719263752111312"
      ],
      "text/plain": [
       "<IPython.core.display.Latex object>"
      ]
     },
     "metadata": {},
     "output_type": "display_data"
    },
    {
     "data": {
      "text/latex": [
       "$x_{181}$ = -0.5006229902921748"
      ],
      "text/plain": [
       "<IPython.core.display.Latex object>"
      ]
     },
     "metadata": {},
     "output_type": "display_data"
    },
    {
     "data": {
      "text/latex": [
       "$x_{182}$ = -1.9444747667541913"
      ],
      "text/plain": [
       "<IPython.core.display.Latex object>"
      ]
     },
     "metadata": {},
     "output_type": "display_data"
    },
    {
     "data": {
      "text/latex": [
       "$x_{183}$ = -0.9102138742791839"
      ],
      "text/plain": [
       "<IPython.core.display.Latex object>"
      ]
     },
     "metadata": {},
     "output_type": "display_data"
    },
    {
     "data": {
      "text/latex": [
       "$x_{184}$ = -3.1443668924988755"
      ],
      "text/plain": [
       "<IPython.core.display.Latex object>"
      ]
     },
     "metadata": {},
     "output_type": "display_data"
    },
    {
     "data": {
      "text/latex": [
       "$x_{185}$ = 0.8842107976648582"
      ],
      "text/plain": [
       "<IPython.core.display.Latex object>"
      ]
     },
     "metadata": {},
     "output_type": "display_data"
    },
    {
     "data": {
      "text/latex": [
       "$x_{186}$ = -2.2656516642627076"
      ],
      "text/plain": [
       "<IPython.core.display.Latex object>"
      ]
     },
     "metadata": {},
     "output_type": "display_data"
    },
    {
     "data": {
      "text/latex": [
       "$x_{187}$ = -1.5618338966786043"
      ],
      "text/plain": [
       "<IPython.core.display.Latex object>"
      ]
     },
     "metadata": {},
     "output_type": "display_data"
    },
    {
     "data": {
      "text/latex": [
       "$x_{188}$ = 0.07377256257313748"
      ],
      "text/plain": [
       "<IPython.core.display.Latex object>"
      ]
     },
     "metadata": {},
     "output_type": "display_data"
    },
    {
     "data": {
      "text/latex": [
       "$x_{189}$ = -1.0459000197258796"
      ],
      "text/plain": [
       "<IPython.core.display.Latex object>"
      ]
     },
     "metadata": {},
     "output_type": "display_data"
    },
    {
     "data": {
      "text/latex": [
       "$x_{190}$ = 2.18215216776384"
      ],
      "text/plain": [
       "<IPython.core.display.Latex object>"
      ]
     },
     "metadata": {},
     "output_type": "display_data"
    },
    {
     "data": {
      "text/latex": [
       "$x_{191}$ = -1.8283757759386692"
      ],
      "text/plain": [
       "<IPython.core.display.Latex object>"
      ]
     },
     "metadata": {},
     "output_type": "display_data"
    },
    {
     "data": {
      "text/latex": [
       "$x_{192}$ = 0.37766696127714"
      ],
      "text/plain": [
       "<IPython.core.display.Latex object>"
      ]
     },
     "metadata": {},
     "output_type": "display_data"
    },
    {
     "data": {
      "text/latex": [
       "$x_{193}$ = -0.05555429430556131"
      ],
      "text/plain": [
       "<IPython.core.display.Latex object>"
      ]
     },
     "metadata": {},
     "output_type": "display_data"
    },
    {
     "data": {
      "text/latex": [
       "$x_{194}$ = -1.6519336666254278"
      ],
      "text/plain": [
       "<IPython.core.display.Latex object>"
      ]
     },
     "metadata": {},
     "output_type": "display_data"
    },
    {
     "data": {
      "text/latex": [
       "$x_{195}$ = 0.7400249501973082"
      ],
      "text/plain": [
       "<IPython.core.display.Latex object>"
      ]
     },
     "metadata": {},
     "output_type": "display_data"
    },
    {
     "data": {
      "text/latex": [
       "$x_{196}$ = -0.2426031481898504"
      ],
      "text/plain": [
       "<IPython.core.display.Latex object>"
      ]
     },
     "metadata": {},
     "output_type": "display_data"
    },
    {
     "data": {
      "text/latex": [
       "$x_{197}$ = 1.0914766648377752"
      ],
      "text/plain": [
       "<IPython.core.display.Latex object>"
      ]
     },
     "metadata": {},
     "output_type": "display_data"
    },
    {
     "data": {
      "text/latex": [
       "$x_{198}$ = 1.1646107432060904"
      ],
      "text/plain": [
       "<IPython.core.display.Latex object>"
      ]
     },
     "metadata": {},
     "output_type": "display_data"
    },
    {
     "data": {
      "text/latex": [
       "$x_{199}$ = 3.0592776180857886"
      ],
      "text/plain": [
       "<IPython.core.display.Latex object>"
      ]
     },
     "metadata": {},
     "output_type": "display_data"
    },
    {
     "data": {
      "text/latex": [
       "$x_{200}$ = 1.8901359525836479"
      ],
      "text/plain": [
       "<IPython.core.display.Latex object>"
      ]
     },
     "metadata": {},
     "output_type": "display_data"
    },
    {
     "data": {
      "text/latex": [
       "$x_{201}$ = -0.5221019622000298"
      ],
      "text/plain": [
       "<IPython.core.display.Latex object>"
      ]
     },
     "metadata": {},
     "output_type": "display_data"
    },
    {
     "data": {
      "text/latex": [
       "$x_{202}$ = -0.3385332794775926"
      ],
      "text/plain": [
       "<IPython.core.display.Latex object>"
      ]
     },
     "metadata": {},
     "output_type": "display_data"
    },
    {
     "data": {
      "text/latex": [
       "$x_{203}$ = 1.5551535144972726"
      ],
      "text/plain": [
       "<IPython.core.display.Latex object>"
      ]
     },
     "metadata": {},
     "output_type": "display_data"
    },
    {
     "data": {
      "text/latex": [
       "$x_{204}$ = 0.9266828549190896"
      ],
      "text/plain": [
       "<IPython.core.display.Latex object>"
      ]
     },
     "metadata": {},
     "output_type": "display_data"
    },
    {
     "data": {
      "text/latex": [
       "$x_{205}$ = 0.9052826859098015"
      ],
      "text/plain": [
       "<IPython.core.display.Latex object>"
      ]
     },
     "metadata": {},
     "output_type": "display_data"
    },
    {
     "data": {
      "text/latex": [
       "$x_{206}$ = -2.2867211676255335"
      ],
      "text/plain": [
       "<IPython.core.display.Latex object>"
      ]
     },
     "metadata": {},
     "output_type": "display_data"
    },
    {
     "data": {
      "text/latex": [
       "$x_{207}$ = -0.034402335044949835"
      ],
      "text/plain": [
       "<IPython.core.display.Latex object>"
      ]
     },
     "metadata": {},
     "output_type": "display_data"
    },
    {
     "data": {
      "text/latex": [
       "$x_{208}$ = -1.0437333212492315"
      ],
      "text/plain": [
       "<IPython.core.display.Latex object>"
      ]
     },
     "metadata": {},
     "output_type": "display_data"
    },
    {
     "data": {
      "text/latex": [
       "$x_{209}$ = 0.3958731644087983"
      ],
      "text/plain": [
       "<IPython.core.display.Latex object>"
      ]
     },
     "metadata": {},
     "output_type": "display_data"
    },
    {
     "data": {
      "text/latex": [
       "$x_{210}$ = -0.1388056121852749"
      ],
      "text/plain": [
       "<IPython.core.display.Latex object>"
      ]
     },
     "metadata": {},
     "output_type": "display_data"
    },
    {
     "data": {
      "text/latex": [
       "$x_{211}$ = 1.2871873560104785"
      ],
      "text/plain": [
       "<IPython.core.display.Latex object>"
      ]
     },
     "metadata": {},
     "output_type": "display_data"
    },
    {
     "data": {
      "text/latex": [
       "$x_{212}$ = 0.4486143021553264"
      ],
      "text/plain": [
       "<IPython.core.display.Latex object>"
      ]
     },
     "metadata": {},
     "output_type": "display_data"
    },
    {
     "data": {
      "text/latex": [
       "$x_{213}$ = 1.1120356684877113"
      ],
      "text/plain": [
       "<IPython.core.display.Latex object>"
      ]
     },
     "metadata": {},
     "output_type": "display_data"
    },
    {
     "data": {
      "text/latex": [
       "$x_{214}$ = -0.6596162123537793"
      ],
      "text/plain": [
       "<IPython.core.display.Latex object>"
      ]
     },
     "metadata": {},
     "output_type": "display_data"
    },
    {
     "data": {
      "text/latex": [
       "$x_{215}$ = -1.3356487040520808"
      ],
      "text/plain": [
       "<IPython.core.display.Latex object>"
      ]
     },
     "metadata": {},
     "output_type": "display_data"
    },
    {
     "data": {
      "text/latex": [
       "$x_{216}$ = -0.5798978373739708"
      ],
      "text/plain": [
       "<IPython.core.display.Latex object>"
      ]
     },
     "metadata": {},
     "output_type": "display_data"
    },
    {
     "data": {
      "text/latex": [
       "$x_{217}$ = -0.02407050012005231"
      ],
      "text/plain": [
       "<IPython.core.display.Latex object>"
      ]
     },
     "metadata": {},
     "output_type": "display_data"
    },
    {
     "data": {
      "text/latex": [
       "$x_{218}$ = 0.536201526619294"
      ],
      "text/plain": [
       "<IPython.core.display.Latex object>"
      ]
     },
     "metadata": {},
     "output_type": "display_data"
    },
    {
     "data": {
      "text/latex": [
       "$x_{219}$ = 3.1951453596579293"
      ],
      "text/plain": [
       "<IPython.core.display.Latex object>"
      ]
     },
     "metadata": {},
     "output_type": "display_data"
    },
    {
     "data": {
      "text/latex": [
       "$x_{220}$ = -0.05976063698573766"
      ],
      "text/plain": [
       "<IPython.core.display.Latex object>"
      ]
     },
     "metadata": {},
     "output_type": "display_data"
    },
    {
     "data": {
      "text/latex": [
       "$x_{221}$ = -1.3519103845796403"
      ],
      "text/plain": [
       "<IPython.core.display.Latex object>"
      ]
     },
     "metadata": {},
     "output_type": "display_data"
    },
    {
     "data": {
      "text/latex": [
       "$x_{222}$ = -0.48929211952799845"
      ],
      "text/plain": [
       "<IPython.core.display.Latex object>"
      ]
     },
     "metadata": {},
     "output_type": "display_data"
    },
    {
     "data": {
      "text/latex": [
       "$x_{223}$ = -0.65562371480608"
      ],
      "text/plain": [
       "<IPython.core.display.Latex object>"
      ]
     },
     "metadata": {},
     "output_type": "display_data"
    },
    {
     "data": {
      "text/latex": [
       "$x_{224}$ = 0.680917630241816"
      ],
      "text/plain": [
       "<IPython.core.display.Latex object>"
      ]
     },
     "metadata": {},
     "output_type": "display_data"
    },
    {
     "data": {
      "text/latex": [
       "$x_{225}$ = -2.1790160346915624"
      ],
      "text/plain": [
       "<IPython.core.display.Latex object>"
      ]
     },
     "metadata": {},
     "output_type": "display_data"
    },
    {
     "data": {
      "text/latex": [
       "$x_{226}$ = 0.0894659701808772"
      ],
      "text/plain": [
       "<IPython.core.display.Latex object>"
      ]
     },
     "metadata": {},
     "output_type": "display_data"
    },
    {
     "data": {
      "text/latex": [
       "$x_{227}$ = 0.22133366859069387"
      ],
      "text/plain": [
       "<IPython.core.display.Latex object>"
      ]
     },
     "metadata": {},
     "output_type": "display_data"
    },
    {
     "data": {
      "text/latex": [
       "$x_{228}$ = 0.3283535703202686"
      ],
      "text/plain": [
       "<IPython.core.display.Latex object>"
      ]
     },
     "metadata": {},
     "output_type": "display_data"
    },
    {
     "data": {
      "text/latex": [
       "$x_{229}$ = -0.844732485754199"
      ],
      "text/plain": [
       "<IPython.core.display.Latex object>"
      ]
     },
     "metadata": {},
     "output_type": "display_data"
    },
    {
     "data": {
      "text/latex": [
       "$x_{230}$ = -0.3364721369759272"
      ],
      "text/plain": [
       "<IPython.core.display.Latex object>"
      ]
     },
     "metadata": {},
     "output_type": "display_data"
    },
    {
     "data": {
      "text/latex": [
       "$x_{231}$ = -2.013926251128454"
      ],
      "text/plain": [
       "<IPython.core.display.Latex object>"
      ]
     },
     "metadata": {},
     "output_type": "display_data"
    },
    {
     "data": {
      "text/latex": [
       "$x_{232}$ = -0.6976596696391283"
      ],
      "text/plain": [
       "<IPython.core.display.Latex object>"
      ]
     },
     "metadata": {},
     "output_type": "display_data"
    },
    {
     "data": {
      "text/latex": [
       "$x_{233}$ = -0.767722061872719"
      ],
      "text/plain": [
       "<IPython.core.display.Latex object>"
      ]
     },
     "metadata": {},
     "output_type": "display_data"
    },
    {
     "data": {
      "text/latex": [
       "$x_{234}$ = 0.5883836180488616"
      ],
      "text/plain": [
       "<IPython.core.display.Latex object>"
      ]
     },
     "metadata": {},
     "output_type": "display_data"
    },
    {
     "data": {
      "text/latex": [
       "$x_{235}$ = -1.6350888756600555"
      ],
      "text/plain": [
       "<IPython.core.display.Latex object>"
      ]
     },
     "metadata": {},
     "output_type": "display_data"
    },
    {
     "data": {
      "text/latex": [
       "$x_{236}$ = 1.1047809503383892"
      ],
      "text/plain": [
       "<IPython.core.display.Latex object>"
      ]
     },
     "metadata": {},
     "output_type": "display_data"
    },
    {
     "data": {
      "text/latex": [
       "$x_{237}$ = 2.113520311576671"
      ],
      "text/plain": [
       "<IPython.core.display.Latex object>"
      ]
     },
     "metadata": {},
     "output_type": "display_data"
    },
    {
     "data": {
      "text/latex": [
       "$x_{238}$ = -2.9274008962833484"
      ],
      "text/plain": [
       "<IPython.core.display.Latex object>"
      ]
     },
     "metadata": {},
     "output_type": "display_data"
    },
    {
     "data": {
      "text/latex": [
       "$x_{239}$ = 0.6028208781463322"
      ],
      "text/plain": [
       "<IPython.core.display.Latex object>"
      ]
     },
     "metadata": {},
     "output_type": "display_data"
    },
    {
     "data": {
      "text/latex": [
       "$x_{240}$ = 0.9572925236190954"
      ],
      "text/plain": [
       "<IPython.core.display.Latex object>"
      ]
     },
     "metadata": {},
     "output_type": "display_data"
    },
    {
     "data": {
      "text/latex": [
       "$x_{241}$ = -0.9014720866947274"
      ],
      "text/plain": [
       "<IPython.core.display.Latex object>"
      ]
     },
     "metadata": {},
     "output_type": "display_data"
    },
    {
     "data": {
      "text/latex": [
       "$x_{242}$ = -0.5618271877723517"
      ],
      "text/plain": [
       "<IPython.core.display.Latex object>"
      ]
     },
     "metadata": {},
     "output_type": "display_data"
    },
    {
     "data": {
      "text/latex": [
       "$x_{243}$ = -0.18792151499944298"
      ],
      "text/plain": [
       "<IPython.core.display.Latex object>"
      ]
     },
     "metadata": {},
     "output_type": "display_data"
    },
    {
     "data": {
      "text/latex": [
       "$x_{244}$ = -0.42113990040093496"
      ],
      "text/plain": [
       "<IPython.core.display.Latex object>"
      ]
     },
     "metadata": {},
     "output_type": "display_data"
    },
    {
     "data": {
      "text/latex": [
       "$x_{245}$ = -0.4370103317756177"
      ],
      "text/plain": [
       "<IPython.core.display.Latex object>"
      ]
     },
     "metadata": {},
     "output_type": "display_data"
    },
    {
     "data": {
      "text/latex": [
       "$x_{246}$ = -2.3702273135007834"
      ],
      "text/plain": [
       "<IPython.core.display.Latex object>"
      ]
     },
     "metadata": {},
     "output_type": "display_data"
    },
    {
     "data": {
      "text/latex": [
       "$x_{247}$ = 1.6296429272668993"
      ],
      "text/plain": [
       "<IPython.core.display.Latex object>"
      ]
     },
     "metadata": {},
     "output_type": "display_data"
    },
    {
     "data": {
      "text/latex": [
       "$x_{248}$ = 1.5268112550486181"
      ],
      "text/plain": [
       "<IPython.core.display.Latex object>"
      ]
     },
     "metadata": {},
     "output_type": "display_data"
    },
    {
     "data": {
      "text/latex": [
       "$x_{249}$ = -1.1502707665161294"
      ],
      "text/plain": [
       "<IPython.core.display.Latex object>"
      ]
     },
     "metadata": {},
     "output_type": "display_data"
    },
    {
     "data": {
      "text/latex": [
       "$x_{250}$ = -2.0738371725721647"
      ],
      "text/plain": [
       "<IPython.core.display.Latex object>"
      ]
     },
     "metadata": {},
     "output_type": "display_data"
    },
    {
     "data": {
      "text/latex": [
       "$x_{251}$ = 0.7368970151557523"
      ],
      "text/plain": [
       "<IPython.core.display.Latex object>"
      ]
     },
     "metadata": {},
     "output_type": "display_data"
    },
    {
     "data": {
      "text/latex": [
       "$x_{252}$ = -0.8142871559609084"
      ],
      "text/plain": [
       "<IPython.core.display.Latex object>"
      ]
     },
     "metadata": {},
     "output_type": "display_data"
    },
    {
     "data": {
      "text/latex": [
       "$x_{253}$ = 0.2007520887900096"
      ],
      "text/plain": [
       "<IPython.core.display.Latex object>"
      ]
     },
     "metadata": {},
     "output_type": "display_data"
    },
    {
     "data": {
      "text/latex": [
       "$x_{254}$ = -0.4515985783777268"
      ],
      "text/plain": [
       "<IPython.core.display.Latex object>"
      ]
     },
     "metadata": {},
     "output_type": "display_data"
    },
    {
     "data": {
      "text/latex": [
       "$x_{255}$ = 0.9779834806700096"
      ],
      "text/plain": [
       "<IPython.core.display.Latex object>"
      ]
     },
     "metadata": {},
     "output_type": "display_data"
    },
    {
     "data": {
      "text/latex": [
       "$x_{256}$ = 0.9825236614054174"
      ],
      "text/plain": [
       "<IPython.core.display.Latex object>"
      ]
     },
     "metadata": {},
     "output_type": "display_data"
    },
    {
     "data": {
      "text/latex": [
       "$x_{257}$ = -1.0261496534455645"
      ],
      "text/plain": [
       "<IPython.core.display.Latex object>"
      ]
     },
     "metadata": {},
     "output_type": "display_data"
    },
    {
     "data": {
      "text/latex": [
       "$x_{258}$ = -1.956372067417777"
      ],
      "text/plain": [
       "<IPython.core.display.Latex object>"
      ]
     },
     "metadata": {},
     "output_type": "display_data"
    },
    {
     "data": {
      "text/latex": [
       "$x_{259}$ = -2.238612949912404"
      ],
      "text/plain": [
       "<IPython.core.display.Latex object>"
      ]
     },
     "metadata": {},
     "output_type": "display_data"
    },
    {
     "data": {
      "text/latex": [
       "$x_{260}$ = 0.8632067961262786"
      ],
      "text/plain": [
       "<IPython.core.display.Latex object>"
      ]
     },
     "metadata": {},
     "output_type": "display_data"
    },
    {
     "data": {
      "text/latex": [
       "$x_{261}$ = -1.6813008861109853"
      ],
      "text/plain": [
       "<IPython.core.display.Latex object>"
      ]
     },
     "metadata": {},
     "output_type": "display_data"
    },
    {
     "data": {
      "text/latex": [
       "$x_{262}$ = -0.7167465618816916"
      ],
      "text/plain": [
       "<IPython.core.display.Latex object>"
      ]
     },
     "metadata": {},
     "output_type": "display_data"
    },
    {
     "data": {
      "text/latex": [
       "$x_{263}$ = -0.84331540061018"
      ],
      "text/plain": [
       "<IPython.core.display.Latex object>"
      ]
     },
     "metadata": {},
     "output_type": "display_data"
    },
    {
     "data": {
      "text/latex": [
       "$x_{264}$ = -0.07434138332167697"
      ],
      "text/plain": [
       "<IPython.core.display.Latex object>"
      ]
     },
     "metadata": {},
     "output_type": "display_data"
    },
    {
     "data": {
      "text/latex": [
       "$x_{265}$ = -2.7383131619772736"
      ],
      "text/plain": [
       "<IPython.core.display.Latex object>"
      ]
     },
     "metadata": {},
     "output_type": "display_data"
    },
    {
     "data": {
      "text/latex": [
       "$x_{266}$ = 0.26697325187159443"
      ],
      "text/plain": [
       "<IPython.core.display.Latex object>"
      ]
     },
     "metadata": {},
     "output_type": "display_data"
    },
    {
     "data": {
      "text/latex": [
       "$x_{267}$ = 0.74089379111186"
      ],
      "text/plain": [
       "<IPython.core.display.Latex object>"
      ]
     },
     "metadata": {},
     "output_type": "display_data"
    },
    {
     "data": {
      "text/latex": [
       "$x_{268}$ = 0.12504771471189452"
      ],
      "text/plain": [
       "<IPython.core.display.Latex object>"
      ]
     },
     "metadata": {},
     "output_type": "display_data"
    },
    {
     "data": {
      "text/latex": [
       "$x_{269}$ = -0.4396594403702294"
      ],
      "text/plain": [
       "<IPython.core.display.Latex object>"
      ]
     },
     "metadata": {},
     "output_type": "display_data"
    },
    {
     "data": {
      "text/latex": [
       "$x_{270}$ = 0.13774463611470797"
      ],
      "text/plain": [
       "<IPython.core.display.Latex object>"
      ]
     },
     "metadata": {},
     "output_type": "display_data"
    },
    {
     "data": {
      "text/latex": [
       "$x_{271}$ = 0.564336754019694"
      ],
      "text/plain": [
       "<IPython.core.display.Latex object>"
      ]
     },
     "metadata": {},
     "output_type": "display_data"
    },
    {
     "data": {
      "text/latex": [
       "$x_{272}$ = -3.9210382790759724"
      ],
      "text/plain": [
       "<IPython.core.display.Latex object>"
      ]
     },
     "metadata": {},
     "output_type": "display_data"
    },
    {
     "data": {
      "text/latex": [
       "$x_{273}$ = 2.766077713140598"
      ],
      "text/plain": [
       "<IPython.core.display.Latex object>"
      ]
     },
     "metadata": {},
     "output_type": "display_data"
    },
    {
     "data": {
      "text/latex": [
       "$x_{274}$ = 0.5516752675364498"
      ],
      "text/plain": [
       "<IPython.core.display.Latex object>"
      ]
     },
     "metadata": {},
     "output_type": "display_data"
    },
    {
     "data": {
      "text/latex": [
       "$x_{275}$ = -0.9226450654203285"
      ],
      "text/plain": [
       "<IPython.core.display.Latex object>"
      ]
     },
     "metadata": {},
     "output_type": "display_data"
    },
    {
     "data": {
      "text/latex": [
       "$x_{276}$ = -0.5528915654458426"
      ],
      "text/plain": [
       "<IPython.core.display.Latex object>"
      ]
     },
     "metadata": {},
     "output_type": "display_data"
    },
    {
     "data": {
      "text/latex": [
       "$x_{277}$ = 0.6982563178374194"
      ],
      "text/plain": [
       "<IPython.core.display.Latex object>"
      ]
     },
     "metadata": {},
     "output_type": "display_data"
    },
    {
     "data": {
      "text/latex": [
       "$x_{278}$ = -0.16419576522734014"
      ],
      "text/plain": [
       "<IPython.core.display.Latex object>"
      ]
     },
     "metadata": {},
     "output_type": "display_data"
    },
    {
     "data": {
      "text/latex": [
       "$x_{279}$ = -2.87182151523698"
      ],
      "text/plain": [
       "<IPython.core.display.Latex object>"
      ]
     },
     "metadata": {},
     "output_type": "display_data"
    },
    {
     "data": {
      "text/latex": [
       "$x_{280}$ = 2.9196338039567875"
      ],
      "text/plain": [
       "<IPython.core.display.Latex object>"
      ]
     },
     "metadata": {},
     "output_type": "display_data"
    },
    {
     "data": {
      "text/latex": [
       "$x_{281}$ = -0.15632809665179834"
      ],
      "text/plain": [
       "<IPython.core.display.Latex object>"
      ]
     },
     "metadata": {},
     "output_type": "display_data"
    },
    {
     "data": {
      "text/latex": [
       "$x_{282}$ = 1.4427420848714216"
      ],
      "text/plain": [
       "<IPython.core.display.Latex object>"
      ]
     },
     "metadata": {},
     "output_type": "display_data"
    },
    {
     "data": {
      "text/latex": [
       "$x_{283}$ = -0.978706280574922"
      ],
      "text/plain": [
       "<IPython.core.display.Latex object>"
      ]
     },
     "metadata": {},
     "output_type": "display_data"
    },
    {
     "data": {
      "text/latex": [
       "$x_{284}$ = 2.1727652670332316"
      ],
      "text/plain": [
       "<IPython.core.display.Latex object>"
      ]
     },
     "metadata": {},
     "output_type": "display_data"
    },
    {
     "data": {
      "text/latex": [
       "$x_{285}$ = 0.40495112833140395"
      ],
      "text/plain": [
       "<IPython.core.display.Latex object>"
      ]
     },
     "metadata": {},
     "output_type": "display_data"
    },
    {
     "data": {
      "text/latex": [
       "$x_{286}$ = 0.8610352080824223"
      ],
      "text/plain": [
       "<IPython.core.display.Latex object>"
      ]
     },
     "metadata": {},
     "output_type": "display_data"
    },
    {
     "data": {
      "text/latex": [
       "$x_{287}$ = -1.478211486521154"
      ],
      "text/plain": [
       "<IPython.core.display.Latex object>"
      ]
     },
     "metadata": {},
     "output_type": "display_data"
    },
    {
     "data": {
      "text/latex": [
       "$x_{288}$ = 1.7128180946735667"
      ],
      "text/plain": [
       "<IPython.core.display.Latex object>"
      ]
     },
     "metadata": {},
     "output_type": "display_data"
    },
    {
     "data": {
      "text/latex": [
       "$x_{289}$ = 0.975550203856413"
      ],
      "text/plain": [
       "<IPython.core.display.Latex object>"
      ]
     },
     "metadata": {},
     "output_type": "display_data"
    },
    {
     "data": {
      "text/latex": [
       "$x_{290}$ = 1.8410885939750987"
      ],
      "text/plain": [
       "<IPython.core.display.Latex object>"
      ]
     },
     "metadata": {},
     "output_type": "display_data"
    },
    {
     "data": {
      "text/latex": [
       "$x_{291}$ = -0.8882499452029412"
      ],
      "text/plain": [
       "<IPython.core.display.Latex object>"
      ]
     },
     "metadata": {},
     "output_type": "display_data"
    },
    {
     "data": {
      "text/latex": [
       "$x_{292}$ = -0.6802750747964954"
      ],
      "text/plain": [
       "<IPython.core.display.Latex object>"
      ]
     },
     "metadata": {},
     "output_type": "display_data"
    },
    {
     "data": {
      "text/latex": [
       "$x_{293}$ = 3.258230240442465"
      ],
      "text/plain": [
       "<IPython.core.display.Latex object>"
      ]
     },
     "metadata": {},
     "output_type": "display_data"
    },
    {
     "data": {
      "text/latex": [
       "$x_{294}$ = -1.4990887528228867"
      ],
      "text/plain": [
       "<IPython.core.display.Latex object>"
      ]
     },
     "metadata": {},
     "output_type": "display_data"
    },
    {
     "data": {
      "text/latex": [
       "$x_{295}$ = -0.1922619104998441"
      ],
      "text/plain": [
       "<IPython.core.display.Latex object>"
      ]
     },
     "metadata": {},
     "output_type": "display_data"
    },
    {
     "data": {
      "text/latex": [
       "$x_{296}$ = 1.60780718393756"
      ],
      "text/plain": [
       "<IPython.core.display.Latex object>"
      ]
     },
     "metadata": {},
     "output_type": "display_data"
    },
    {
     "data": {
      "text/latex": [
       "$x_{297}$ = 0.13820397472482165"
      ],
      "text/plain": [
       "<IPython.core.display.Latex object>"
      ]
     },
     "metadata": {},
     "output_type": "display_data"
    },
    {
     "data": {
      "text/latex": [
       "$x_{298}$ = 0.8244210001424098"
      ],
      "text/plain": [
       "<IPython.core.display.Latex object>"
      ]
     },
     "metadata": {},
     "output_type": "display_data"
    },
    {
     "data": {
      "text/latex": [
       "$x_{299}$ = -0.5649062346603254"
      ],
      "text/plain": [
       "<IPython.core.display.Latex object>"
      ]
     },
     "metadata": {},
     "output_type": "display_data"
    },
    {
     "data": {
      "text/latex": [
       "$x_{300}$ = 0.523338055429978"
      ],
      "text/plain": [
       "<IPython.core.display.Latex object>"
      ]
     },
     "metadata": {},
     "output_type": "display_data"
    },
    {
     "data": {
      "text/latex": [
       "$x_{301}$ = -1.8477079933287068"
      ],
      "text/plain": [
       "<IPython.core.display.Latex object>"
      ]
     },
     "metadata": {},
     "output_type": "display_data"
    },
    {
     "data": {
      "text/latex": [
       "$x_{302}$ = 2.344950895302959"
      ],
      "text/plain": [
       "<IPython.core.display.Latex object>"
      ]
     },
     "metadata": {},
     "output_type": "display_data"
    },
    {
     "data": {
      "text/latex": [
       "$x_{303}$ = -0.16710919520568981"
      ],
      "text/plain": [
       "<IPython.core.display.Latex object>"
      ]
     },
     "metadata": {},
     "output_type": "display_data"
    },
    {
     "data": {
      "text/latex": [
       "$x_{304}$ = -0.9619172409229195"
      ],
      "text/plain": [
       "<IPython.core.display.Latex object>"
      ]
     },
     "metadata": {},
     "output_type": "display_data"
    },
    {
     "data": {
      "text/latex": [
       "$x_{305}$ = 0.9424079923455161"
      ],
      "text/plain": [
       "<IPython.core.display.Latex object>"
      ]
     },
     "metadata": {},
     "output_type": "display_data"
    },
    {
     "data": {
      "text/latex": [
       "$x_{306}$ = -0.651556171778541"
      ],
      "text/plain": [
       "<IPython.core.display.Latex object>"
      ]
     },
     "metadata": {},
     "output_type": "display_data"
    },
    {
     "data": {
      "text/latex": [
       "$x_{307}$ = -1.8869264259689684"
      ],
      "text/plain": [
       "<IPython.core.display.Latex object>"
      ]
     },
     "metadata": {},
     "output_type": "display_data"
    },
    {
     "data": {
      "text/latex": [
       "$x_{308}$ = -1.90454616138417"
      ],
      "text/plain": [
       "<IPython.core.display.Latex object>"
      ]
     },
     "metadata": {},
     "output_type": "display_data"
    },
    {
     "data": {
      "text/latex": [
       "$x_{309}$ = 0.9811434017447256"
      ],
      "text/plain": [
       "<IPython.core.display.Latex object>"
      ]
     },
     "metadata": {},
     "output_type": "display_data"
    },
    {
     "data": {
      "text/latex": [
       "$x_{310}$ = -0.22567092042095485"
      ],
      "text/plain": [
       "<IPython.core.display.Latex object>"
      ]
     },
     "metadata": {},
     "output_type": "display_data"
    },
    {
     "data": {
      "text/latex": [
       "$x_{311}$ = -0.1890825589935423"
      ],
      "text/plain": [
       "<IPython.core.display.Latex object>"
      ]
     },
     "metadata": {},
     "output_type": "display_data"
    },
    {
     "data": {
      "text/latex": [
       "$x_{312}$ = 1.5241599071752283"
      ],
      "text/plain": [
       "<IPython.core.display.Latex object>"
      ]
     },
     "metadata": {},
     "output_type": "display_data"
    },
    {
     "data": {
      "text/latex": [
       "$x_{313}$ = -1.5935723411758183"
      ],
      "text/plain": [
       "<IPython.core.display.Latex object>"
      ]
     },
     "metadata": {},
     "output_type": "display_data"
    },
    {
     "data": {
      "text/latex": [
       "$x_{314}$ = -1.033334387825732"
      ],
      "text/plain": [
       "<IPython.core.display.Latex object>"
      ]
     },
     "metadata": {},
     "output_type": "display_data"
    },
    {
     "data": {
      "text/latex": [
       "$x_{315}$ = -0.5443022460277287"
      ],
      "text/plain": [
       "<IPython.core.display.Latex object>"
      ]
     },
     "metadata": {},
     "output_type": "display_data"
    },
    {
     "data": {
      "text/latex": [
       "$x_{316}$ = 0.13343329724366249"
      ],
      "text/plain": [
       "<IPython.core.display.Latex object>"
      ]
     },
     "metadata": {},
     "output_type": "display_data"
    },
    {
     "data": {
      "text/latex": [
       "$x_{317}$ = -0.0596394383600931"
      ],
      "text/plain": [
       "<IPython.core.display.Latex object>"
      ]
     },
     "metadata": {},
     "output_type": "display_data"
    },
    {
     "data": {
      "text/latex": [
       "$x_{318}$ = -0.40571975834894675"
      ],
      "text/plain": [
       "<IPython.core.display.Latex object>"
      ]
     },
     "metadata": {},
     "output_type": "display_data"
    },
    {
     "data": {
      "text/latex": [
       "$x_{319}$ = -0.08715289364392229"
      ],
      "text/plain": [
       "<IPython.core.display.Latex object>"
      ]
     },
     "metadata": {},
     "output_type": "display_data"
    },
    {
     "data": {
      "text/latex": [
       "$x_{320}$ = -0.1517525770451714"
      ],
      "text/plain": [
       "<IPython.core.display.Latex object>"
      ]
     },
     "metadata": {},
     "output_type": "display_data"
    },
    {
     "data": {
      "text/latex": [
       "$x_{321}$ = -1.017674285833144"
      ],
      "text/plain": [
       "<IPython.core.display.Latex object>"
      ]
     },
     "metadata": {},
     "output_type": "display_data"
    },
    {
     "data": {
      "text/latex": [
       "$x_{322}$ = -1.1497457105274107"
      ],
      "text/plain": [
       "<IPython.core.display.Latex object>"
      ]
     },
     "metadata": {},
     "output_type": "display_data"
    },
    {
     "data": {
      "text/latex": [
       "$x_{323}$ = 0.3882247561864594"
      ],
      "text/plain": [
       "<IPython.core.display.Latex object>"
      ]
     },
     "metadata": {},
     "output_type": "display_data"
    },
    {
     "data": {
      "text/latex": [
       "$x_{324}$ = -1.2599441932950273"
      ],
      "text/plain": [
       "<IPython.core.display.Latex object>"
      ]
     },
     "metadata": {},
     "output_type": "display_data"
    },
    {
     "data": {
      "text/latex": [
       "$x_{325}$ = -1.636747504031534"
      ],
      "text/plain": [
       "<IPython.core.display.Latex object>"
      ]
     },
     "metadata": {},
     "output_type": "display_data"
    },
    {
     "data": {
      "text/latex": [
       "$x_{326}$ = -0.44164793696598"
      ],
      "text/plain": [
       "<IPython.core.display.Latex object>"
      ]
     },
     "metadata": {},
     "output_type": "display_data"
    },
    {
     "data": {
      "text/latex": [
       "$x_{327}$ = -0.22297483259776646"
      ],
      "text/plain": [
       "<IPython.core.display.Latex object>"
      ]
     },
     "metadata": {},
     "output_type": "display_data"
    },
    {
     "data": {
      "text/latex": [
       "$x_{328}$ = 3.1914889764051706"
      ],
      "text/plain": [
       "<IPython.core.display.Latex object>"
      ]
     },
     "metadata": {},
     "output_type": "display_data"
    },
    {
     "data": {
      "text/latex": [
       "$x_{329}$ = -0.9965966875239471"
      ],
      "text/plain": [
       "<IPython.core.display.Latex object>"
      ]
     },
     "metadata": {},
     "output_type": "display_data"
    },
    {
     "data": {
      "text/latex": [
       "$x_{330}$ = 1.3339721101057376"
      ],
      "text/plain": [
       "<IPython.core.display.Latex object>"
      ]
     },
     "metadata": {},
     "output_type": "display_data"
    },
    {
     "data": {
      "text/latex": [
       "$x_{331}$ = 1.0566838758791512"
      ],
      "text/plain": [
       "<IPython.core.display.Latex object>"
      ]
     },
     "metadata": {},
     "output_type": "display_data"
    },
    {
     "data": {
      "text/latex": [
       "$x_{332}$ = -1.6814220805641957"
      ],
      "text/plain": [
       "<IPython.core.display.Latex object>"
      ]
     },
     "metadata": {},
     "output_type": "display_data"
    },
    {
     "data": {
      "text/latex": [
       "$x_{333}$ = 1.0935448477881329"
      ],
      "text/plain": [
       "<IPython.core.display.Latex object>"
      ]
     },
     "metadata": {},
     "output_type": "display_data"
    },
    {
     "data": {
      "text/latex": [
       "$x_{334}$ = -1.6742600575923323"
      ],
      "text/plain": [
       "<IPython.core.display.Latex object>"
      ]
     },
     "metadata": {},
     "output_type": "display_data"
    },
    {
     "data": {
      "text/latex": [
       "$x_{335}$ = -3.760637443661007"
      ],
      "text/plain": [
       "<IPython.core.display.Latex object>"
      ]
     },
     "metadata": {},
     "output_type": "display_data"
    },
    {
     "data": {
      "text/latex": [
       "$x_{336}$ = 0.8574652944806405"
      ],
      "text/plain": [
       "<IPython.core.display.Latex object>"
      ]
     },
     "metadata": {},
     "output_type": "display_data"
    },
    {
     "data": {
      "text/latex": [
       "$x_{337}$ = -2.4832042771408296"
      ],
      "text/plain": [
       "<IPython.core.display.Latex object>"
      ]
     },
     "metadata": {},
     "output_type": "display_data"
    },
    {
     "data": {
      "text/latex": [
       "$x_{338}$ = 0.6377176316273372"
      ],
      "text/plain": [
       "<IPython.core.display.Latex object>"
      ]
     },
     "metadata": {},
     "output_type": "display_data"
    },
    {
     "data": {
      "text/latex": [
       "$x_{339}$ = -0.9673374883909679"
      ],
      "text/plain": [
       "<IPython.core.display.Latex object>"
      ]
     },
     "metadata": {},
     "output_type": "display_data"
    },
    {
     "data": {
      "text/latex": [
       "$x_{340}$ = 2.3469592434187856"
      ],
      "text/plain": [
       "<IPython.core.display.Latex object>"
      ]
     },
     "metadata": {},
     "output_type": "display_data"
    },
    {
     "data": {
      "text/latex": [
       "$x_{341}$ = 1.5111004840358293"
      ],
      "text/plain": [
       "<IPython.core.display.Latex object>"
      ]
     },
     "metadata": {},
     "output_type": "display_data"
    },
    {
     "data": {
      "text/latex": [
       "$x_{342}$ = -0.6411843527940603"
      ],
      "text/plain": [
       "<IPython.core.display.Latex object>"
      ]
     },
     "metadata": {},
     "output_type": "display_data"
    },
    {
     "data": {
      "text/latex": [
       "$x_{343}$ = -0.9727492782270722"
      ],
      "text/plain": [
       "<IPython.core.display.Latex object>"
      ]
     },
     "metadata": {},
     "output_type": "display_data"
    },
    {
     "data": {
      "text/latex": [
       "$x_{344}$ = -1.7169647292264125"
      ],
      "text/plain": [
       "<IPython.core.display.Latex object>"
      ]
     },
     "metadata": {},
     "output_type": "display_data"
    },
    {
     "data": {
      "text/latex": [
       "$x_{345}$ = -0.623558766545428"
      ],
      "text/plain": [
       "<IPython.core.display.Latex object>"
      ]
     },
     "metadata": {},
     "output_type": "display_data"
    },
    {
     "data": {
      "text/latex": [
       "$x_{346}$ = -0.39648254357575774"
      ],
      "text/plain": [
       "<IPython.core.display.Latex object>"
      ]
     },
     "metadata": {},
     "output_type": "display_data"
    },
    {
     "data": {
      "text/latex": [
       "$x_{347}$ = -0.5157545565886359"
      ],
      "text/plain": [
       "<IPython.core.display.Latex object>"
      ]
     },
     "metadata": {},
     "output_type": "display_data"
    },
    {
     "data": {
      "text/latex": [
       "$x_{348}$ = 0.22161271740232777"
      ],
      "text/plain": [
       "<IPython.core.display.Latex object>"
      ]
     },
     "metadata": {},
     "output_type": "display_data"
    },
    {
     "data": {
      "text/latex": [
       "$x_{349}$ = 0.8181529482125756"
      ],
      "text/plain": [
       "<IPython.core.display.Latex object>"
      ]
     },
     "metadata": {},
     "output_type": "display_data"
    },
    {
     "data": {
      "text/latex": [
       "$x_{350}$ = 0.4944860752239468"
      ],
      "text/plain": [
       "<IPython.core.display.Latex object>"
      ]
     },
     "metadata": {},
     "output_type": "display_data"
    },
    {
     "data": {
      "text/latex": [
       "$x_{351}$ = -1.0806627007934861"
      ],
      "text/plain": [
       "<IPython.core.display.Latex object>"
      ]
     },
     "metadata": {},
     "output_type": "display_data"
    },
    {
     "data": {
      "text/latex": [
       "$x_{352}$ = -2.033344202114593"
      ],
      "text/plain": [
       "<IPython.core.display.Latex object>"
      ]
     },
     "metadata": {},
     "output_type": "display_data"
    },
    {
     "data": {
      "text/latex": [
       "$x_{353}$ = 1.9297394458765391"
      ],
      "text/plain": [
       "<IPython.core.display.Latex object>"
      ]
     },
     "metadata": {},
     "output_type": "display_data"
    },
    {
     "data": {
      "text/latex": [
       "$x_{354}$ = -0.9750283873575928"
      ],
      "text/plain": [
       "<IPython.core.display.Latex object>"
      ]
     },
     "metadata": {},
     "output_type": "display_data"
    },
    {
     "data": {
      "text/latex": [
       "$x_{355}$ = -0.9224824556772739"
      ],
      "text/plain": [
       "<IPython.core.display.Latex object>"
      ]
     },
     "metadata": {},
     "output_type": "display_data"
    },
    {
     "data": {
      "text/latex": [
       "$x_{356}$ = -0.7370729940201376"
      ],
      "text/plain": [
       "<IPython.core.display.Latex object>"
      ]
     },
     "metadata": {},
     "output_type": "display_data"
    },
    {
     "data": {
      "text/latex": [
       "$x_{357}$ = -2.606493954228412"
      ],
      "text/plain": [
       "<IPython.core.display.Latex object>"
      ]
     },
     "metadata": {},
     "output_type": "display_data"
    },
    {
     "data": {
      "text/latex": [
       "$x_{358}$ = -0.6759573189758289"
      ],
      "text/plain": [
       "<IPython.core.display.Latex object>"
      ]
     },
     "metadata": {},
     "output_type": "display_data"
    },
    {
     "data": {
      "text/latex": [
       "$x_{359}$ = -0.6783357574411464"
      ],
      "text/plain": [
       "<IPython.core.display.Latex object>"
      ]
     },
     "metadata": {},
     "output_type": "display_data"
    },
    {
     "data": {
      "text/latex": [
       "$x_{360}$ = 0.8773191190480902"
      ],
      "text/plain": [
       "<IPython.core.display.Latex object>"
      ]
     },
     "metadata": {},
     "output_type": "display_data"
    },
    {
     "data": {
      "text/latex": [
       "$x_{361}$ = 0.9877675730040417"
      ],
      "text/plain": [
       "<IPython.core.display.Latex object>"
      ]
     },
     "metadata": {},
     "output_type": "display_data"
    },
    {
     "data": {
      "text/latex": [
       "$x_{362}$ = 0.0053328424880067895"
      ],
      "text/plain": [
       "<IPython.core.display.Latex object>"
      ]
     },
     "metadata": {},
     "output_type": "display_data"
    },
    {
     "data": {
      "text/latex": [
       "$x_{363}$ = 1.317832608747766"
      ],
      "text/plain": [
       "<IPython.core.display.Latex object>"
      ]
     },
     "metadata": {},
     "output_type": "display_data"
    },
    {
     "data": {
      "text/latex": [
       "$x_{364}$ = 0.4807830908236943"
      ],
      "text/plain": [
       "<IPython.core.display.Latex object>"
      ]
     },
     "metadata": {},
     "output_type": "display_data"
    },
    {
     "data": {
      "text/latex": [
       "$x_{365}$ = -0.022177854914981428"
      ],
      "text/plain": [
       "<IPython.core.display.Latex object>"
      ]
     },
     "metadata": {},
     "output_type": "display_data"
    },
    {
     "data": {
      "text/latex": [
       "$x_{366}$ = 0.2275867981752069"
      ],
      "text/plain": [
       "<IPython.core.display.Latex object>"
      ]
     },
     "metadata": {},
     "output_type": "display_data"
    },
    {
     "data": {
      "text/latex": [
       "$x_{367}$ = -0.2696247563366268"
      ],
      "text/plain": [
       "<IPython.core.display.Latex object>"
      ]
     },
     "metadata": {},
     "output_type": "display_data"
    },
    {
     "data": {
      "text/latex": [
       "$x_{368}$ = -0.5584015378425312"
      ],
      "text/plain": [
       "<IPython.core.display.Latex object>"
      ]
     },
     "metadata": {},
     "output_type": "display_data"
    },
    {
     "data": {
      "text/latex": [
       "$x_{369}$ = -0.3786323989775648"
      ],
      "text/plain": [
       "<IPython.core.display.Latex object>"
      ]
     },
     "metadata": {},
     "output_type": "display_data"
    },
    {
     "data": {
      "text/latex": [
       "$x_{370}$ = -1.5952489234754166"
      ],
      "text/plain": [
       "<IPython.core.display.Latex object>"
      ]
     },
     "metadata": {},
     "output_type": "display_data"
    },
    {
     "data": {
      "text/latex": [
       "$x_{371}$ = 0.3966044631133447"
      ],
      "text/plain": [
       "<IPython.core.display.Latex object>"
      ]
     },
     "metadata": {},
     "output_type": "display_data"
    },
    {
     "data": {
      "text/latex": [
       "$x_{372}$ = -1.404488879689554"
      ],
      "text/plain": [
       "<IPython.core.display.Latex object>"
      ]
     },
     "metadata": {},
     "output_type": "display_data"
    },
    {
     "data": {
      "text/latex": [
       "$x_{373}$ = 1.1902463481701486"
      ],
      "text/plain": [
       "<IPython.core.display.Latex object>"
      ]
     },
     "metadata": {},
     "output_type": "display_data"
    },
    {
     "data": {
      "text/latex": [
       "$x_{374}$ = -0.3527877073139498"
      ],
      "text/plain": [
       "<IPython.core.display.Latex object>"
      ]
     },
     "metadata": {},
     "output_type": "display_data"
    },
    {
     "data": {
      "text/latex": [
       "$x_{375}$ = 0.0699964743189658"
      ],
      "text/plain": [
       "<IPython.core.display.Latex object>"
      ]
     },
     "metadata": {},
     "output_type": "display_data"
    },
    {
     "data": {
      "text/latex": [
       "$x_{376}$ = 0.6983906666151365"
      ],
      "text/plain": [
       "<IPython.core.display.Latex object>"
      ]
     },
     "metadata": {},
     "output_type": "display_data"
    },
    {
     "data": {
      "text/latex": [
       "$x_{377}$ = 0.9097840413627853"
      ],
      "text/plain": [
       "<IPython.core.display.Latex object>"
      ]
     },
     "metadata": {},
     "output_type": "display_data"
    },
    {
     "data": {
      "text/latex": [
       "$x_{378}$ = -2.2211969258700885"
      ],
      "text/plain": [
       "<IPython.core.display.Latex object>"
      ]
     },
     "metadata": {},
     "output_type": "display_data"
    },
    {
     "data": {
      "text/latex": [
       "$x_{379}$ = -0.2926059849359397"
      ],
      "text/plain": [
       "<IPython.core.display.Latex object>"
      ]
     },
     "metadata": {},
     "output_type": "display_data"
    },
    {
     "data": {
      "text/latex": [
       "$x_{380}$ = 1.2447609547794383"
      ],
      "text/plain": [
       "<IPython.core.display.Latex object>"
      ]
     },
     "metadata": {},
     "output_type": "display_data"
    },
    {
     "data": {
      "text/latex": [
       "$x_{381}$ = -2.4014842801857723"
      ],
      "text/plain": [
       "<IPython.core.display.Latex object>"
      ]
     },
     "metadata": {},
     "output_type": "display_data"
    },
    {
     "data": {
      "text/latex": [
       "$x_{382}$ = 0.5476973007459984"
      ],
      "text/plain": [
       "<IPython.core.display.Latex object>"
      ]
     },
     "metadata": {},
     "output_type": "display_data"
    },
    {
     "data": {
      "text/latex": [
       "$x_{383}$ = -3.1898495240241953"
      ],
      "text/plain": [
       "<IPython.core.display.Latex object>"
      ]
     },
     "metadata": {},
     "output_type": "display_data"
    },
    {
     "data": {
      "text/latex": [
       "$x_{384}$ = -1.4460430458887763"
      ],
      "text/plain": [
       "<IPython.core.display.Latex object>"
      ]
     },
     "metadata": {},
     "output_type": "display_data"
    },
    {
     "data": {
      "text/latex": [
       "$x_{385}$ = 0.05463185033435094"
      ],
      "text/plain": [
       "<IPython.core.display.Latex object>"
      ]
     },
     "metadata": {},
     "output_type": "display_data"
    },
    {
     "data": {
      "text/latex": [
       "$x_{386}$ = -2.342948966692037"
      ],
      "text/plain": [
       "<IPython.core.display.Latex object>"
      ]
     },
     "metadata": {},
     "output_type": "display_data"
    },
    {
     "data": {
      "text/latex": [
       "$x_{387}$ = -1.3937226510972396"
      ],
      "text/plain": [
       "<IPython.core.display.Latex object>"
      ]
     },
     "metadata": {},
     "output_type": "display_data"
    },
    {
     "data": {
      "text/latex": [
       "$x_{388}$ = -2.0814890291305104"
      ],
      "text/plain": [
       "<IPython.core.display.Latex object>"
      ]
     },
     "metadata": {},
     "output_type": "display_data"
    },
    {
     "data": {
      "text/latex": [
       "$x_{389}$ = 2.3308147737487923"
      ],
      "text/plain": [
       "<IPython.core.display.Latex object>"
      ]
     },
     "metadata": {},
     "output_type": "display_data"
    },
    {
     "data": {
      "text/latex": [
       "$x_{390}$ = 0.23225311912828017"
      ],
      "text/plain": [
       "<IPython.core.display.Latex object>"
      ]
     },
     "metadata": {},
     "output_type": "display_data"
    },
    {
     "data": {
      "text/latex": [
       "$x_{391}$ = 0.8022696047416465"
      ],
      "text/plain": [
       "<IPython.core.display.Latex object>"
      ]
     },
     "metadata": {},
     "output_type": "display_data"
    },
    {
     "data": {
      "text/latex": [
       "$x_{392}$ = -0.31491014715132365"
      ],
      "text/plain": [
       "<IPython.core.display.Latex object>"
      ]
     },
     "metadata": {},
     "output_type": "display_data"
    },
    {
     "data": {
      "text/latex": [
       "$x_{393}$ = -0.49982797246567123"
      ],
      "text/plain": [
       "<IPython.core.display.Latex object>"
      ]
     },
     "metadata": {},
     "output_type": "display_data"
    },
    {
     "data": {
      "text/latex": [
       "$x_{394}$ = -2.286039720816335"
      ],
      "text/plain": [
       "<IPython.core.display.Latex object>"
      ]
     },
     "metadata": {},
     "output_type": "display_data"
    },
    {
     "data": {
      "text/latex": [
       "$x_{395}$ = -0.4127203564052243"
      ],
      "text/plain": [
       "<IPython.core.display.Latex object>"
      ]
     },
     "metadata": {},
     "output_type": "display_data"
    },
    {
     "data": {
      "text/latex": [
       "$x_{396}$ = -1.0769126135854834"
      ],
      "text/plain": [
       "<IPython.core.display.Latex object>"
      ]
     },
     "metadata": {},
     "output_type": "display_data"
    },
    {
     "data": {
      "text/latex": [
       "$x_{397}$ = 1.2132876492185705"
      ],
      "text/plain": [
       "<IPython.core.display.Latex object>"
      ]
     },
     "metadata": {},
     "output_type": "display_data"
    },
    {
     "data": {
      "text/latex": [
       "$x_{398}$ = 1.6137617358763954"
      ],
      "text/plain": [
       "<IPython.core.display.Latex object>"
      ]
     },
     "metadata": {},
     "output_type": "display_data"
    },
    {
     "data": {
      "text/latex": [
       "$x_{399}$ = 2.074055509852716"
      ],
      "text/plain": [
       "<IPython.core.display.Latex object>"
      ]
     },
     "metadata": {},
     "output_type": "display_data"
    },
    {
     "data": {
      "text/latex": [
       "$x_{400}$ = 1.2056905154135602"
      ],
      "text/plain": [
       "<IPython.core.display.Latex object>"
      ]
     },
     "metadata": {},
     "output_type": "display_data"
    },
    {
     "data": {
      "text/latex": [
       "$x_{401}$ = -0.8466245167645343"
      ],
      "text/plain": [
       "<IPython.core.display.Latex object>"
      ]
     },
     "metadata": {},
     "output_type": "display_data"
    },
    {
     "data": {
      "text/latex": [
       "$x_{402}$ = -1.578116651756449"
      ],
      "text/plain": [
       "<IPython.core.display.Latex object>"
      ]
     },
     "metadata": {},
     "output_type": "display_data"
    },
    {
     "data": {
      "text/latex": [
       "$x_{403}$ = 1.0842254692545885"
      ],
      "text/plain": [
       "<IPython.core.display.Latex object>"
      ]
     },
     "metadata": {},
     "output_type": "display_data"
    },
    {
     "data": {
      "text/latex": [
       "$x_{404}$ = 0.5038741346454326"
      ],
      "text/plain": [
       "<IPython.core.display.Latex object>"
      ]
     },
     "metadata": {},
     "output_type": "display_data"
    },
    {
     "data": {
      "text/latex": [
       "$x_{405}$ = -2.501091062525758"
      ],
      "text/plain": [
       "<IPython.core.display.Latex object>"
      ]
     },
     "metadata": {},
     "output_type": "display_data"
    },
    {
     "data": {
      "text/latex": [
       "$x_{406}$ = 0.5027271724749399"
      ],
      "text/plain": [
       "<IPython.core.display.Latex object>"
      ]
     },
     "metadata": {},
     "output_type": "display_data"
    },
    {
     "data": {
      "text/latex": [
       "$x_{407}$ = 1.1519049797840666"
      ],
      "text/plain": [
       "<IPython.core.display.Latex object>"
      ]
     },
     "metadata": {},
     "output_type": "display_data"
    },
    {
     "data": {
      "text/latex": [
       "$x_{408}$ = 0.08333336739148642"
      ],
      "text/plain": [
       "<IPython.core.display.Latex object>"
      ]
     },
     "metadata": {},
     "output_type": "display_data"
    },
    {
     "data": {
      "text/latex": [
       "$x_{409}$ = -0.26170541130833963"
      ],
      "text/plain": [
       "<IPython.core.display.Latex object>"
      ]
     },
     "metadata": {},
     "output_type": "display_data"
    },
    {
     "data": {
      "text/latex": [
       "$x_{410}$ = -1.142187444817169"
      ],
      "text/plain": [
       "<IPython.core.display.Latex object>"
      ]
     },
     "metadata": {},
     "output_type": "display_data"
    },
    {
     "data": {
      "text/latex": [
       "$x_{411}$ = -2.0457089905658337"
      ],
      "text/plain": [
       "<IPython.core.display.Latex object>"
      ]
     },
     "metadata": {},
     "output_type": "display_data"
    },
    {
     "data": {
      "text/latex": [
       "$x_{412}$ = 1.1317922138960432"
      ],
      "text/plain": [
       "<IPython.core.display.Latex object>"
      ]
     },
     "metadata": {},
     "output_type": "display_data"
    },
    {
     "data": {
      "text/latex": [
       "$x_{413}$ = -0.43715384012157965"
      ],
      "text/plain": [
       "<IPython.core.display.Latex object>"
      ]
     },
     "metadata": {},
     "output_type": "display_data"
    },
    {
     "data": {
      "text/latex": [
       "$x_{414}$ = -0.3301717191170594"
      ],
      "text/plain": [
       "<IPython.core.display.Latex object>"
      ]
     },
     "metadata": {},
     "output_type": "display_data"
    },
    {
     "data": {
      "text/latex": [
       "$x_{415}$ = 2.450437802352245"
      ],
      "text/plain": [
       "<IPython.core.display.Latex object>"
      ]
     },
     "metadata": {},
     "output_type": "display_data"
    },
    {
     "data": {
      "text/latex": [
       "$x_{416}$ = 0.9680307487796623"
      ],
      "text/plain": [
       "<IPython.core.display.Latex object>"
      ]
     },
     "metadata": {},
     "output_type": "display_data"
    },
    {
     "data": {
      "text/latex": [
       "$x_{417}$ = 0.5244257460787549"
      ],
      "text/plain": [
       "<IPython.core.display.Latex object>"
      ]
     },
     "metadata": {},
     "output_type": "display_data"
    },
    {
     "data": {
      "text/latex": [
       "$x_{418}$ = 0.20090573159099318"
      ],
      "text/plain": [
       "<IPython.core.display.Latex object>"
      ]
     },
     "metadata": {},
     "output_type": "display_data"
    },
    {
     "data": {
      "text/latex": [
       "$x_{419}$ = 2.14959734683236"
      ],
      "text/plain": [
       "<IPython.core.display.Latex object>"
      ]
     },
     "metadata": {},
     "output_type": "display_data"
    },
    {
     "data": {
      "text/latex": [
       "$x_{420}$ = 2.43186652025974"
      ],
      "text/plain": [
       "<IPython.core.display.Latex object>"
      ]
     },
     "metadata": {},
     "output_type": "display_data"
    },
    {
     "data": {
      "text/latex": [
       "$x_{421}$ = 1.3145187349494643"
      ],
      "text/plain": [
       "<IPython.core.display.Latex object>"
      ]
     },
     "metadata": {},
     "output_type": "display_data"
    },
    {
     "data": {
      "text/latex": [
       "$x_{422}$ = 0.8233899135020782"
      ],
      "text/plain": [
       "<IPython.core.display.Latex object>"
      ]
     },
     "metadata": {},
     "output_type": "display_data"
    },
    {
     "data": {
      "text/latex": [
       "$x_{423}$ = -2.962216071088068"
      ],
      "text/plain": [
       "<IPython.core.display.Latex object>"
      ]
     },
     "metadata": {},
     "output_type": "display_data"
    },
    {
     "data": {
      "text/latex": [
       "$x_{424}$ = 0.17496920907178587"
      ],
      "text/plain": [
       "<IPython.core.display.Latex object>"
      ]
     },
     "metadata": {},
     "output_type": "display_data"
    },
    {
     "data": {
      "text/latex": [
       "$x_{425}$ = -0.18399901917979122"
      ],
      "text/plain": [
       "<IPython.core.display.Latex object>"
      ]
     },
     "metadata": {},
     "output_type": "display_data"
    },
    {
     "data": {
      "text/latex": [
       "$x_{426}$ = 0.1328699312258217"
      ],
      "text/plain": [
       "<IPython.core.display.Latex object>"
      ]
     },
     "metadata": {},
     "output_type": "display_data"
    },
    {
     "data": {
      "text/latex": [
       "$x_{427}$ = 1.3336685666343868"
      ],
      "text/plain": [
       "<IPython.core.display.Latex object>"
      ]
     },
     "metadata": {},
     "output_type": "display_data"
    },
    {
     "data": {
      "text/latex": [
       "$x_{428}$ = -3.8744886063633723"
      ],
      "text/plain": [
       "<IPython.core.display.Latex object>"
      ]
     },
     "metadata": {},
     "output_type": "display_data"
    },
    {
     "data": {
      "text/latex": [
       "$x_{429}$ = -0.8051288272400124"
      ],
      "text/plain": [
       "<IPython.core.display.Latex object>"
      ]
     },
     "metadata": {},
     "output_type": "display_data"
    },
    {
     "data": {
      "text/latex": [
       "$x_{430}$ = 0.3817023993007864"
      ],
      "text/plain": [
       "<IPython.core.display.Latex object>"
      ]
     },
     "metadata": {},
     "output_type": "display_data"
    },
    {
     "data": {
      "text/latex": [
       "$x_{431}$ = -0.6602193027612901"
      ],
      "text/plain": [
       "<IPython.core.display.Latex object>"
      ]
     },
     "metadata": {},
     "output_type": "display_data"
    },
    {
     "data": {
      "text/latex": [
       "$x_{432}$ = -2.0038078417925034"
      ],
      "text/plain": [
       "<IPython.core.display.Latex object>"
      ]
     },
     "metadata": {},
     "output_type": "display_data"
    },
    {
     "data": {
      "text/latex": [
       "$x_{433}$ = 1.2288999483764633"
      ],
      "text/plain": [
       "<IPython.core.display.Latex object>"
      ]
     },
     "metadata": {},
     "output_type": "display_data"
    },
    {
     "data": {
      "text/latex": [
       "$x_{434}$ = 0.3915560042876809"
      ],
      "text/plain": [
       "<IPython.core.display.Latex object>"
      ]
     },
     "metadata": {},
     "output_type": "display_data"
    },
    {
     "data": {
      "text/latex": [
       "$x_{435}$ = -1.373349254005089"
      ],
      "text/plain": [
       "<IPython.core.display.Latex object>"
      ]
     },
     "metadata": {},
     "output_type": "display_data"
    },
    {
     "data": {
      "text/latex": [
       "$x_{436}$ = 0.4452187602946624"
      ],
      "text/plain": [
       "<IPython.core.display.Latex object>"
      ]
     },
     "metadata": {},
     "output_type": "display_data"
    },
    {
     "data": {
      "text/latex": [
       "$x_{437}$ = 1.1618976566327777"
      ],
      "text/plain": [
       "<IPython.core.display.Latex object>"
      ]
     },
     "metadata": {},
     "output_type": "display_data"
    },
    {
     "data": {
      "text/latex": [
       "$x_{438}$ = 0.007484932177399891"
      ],
      "text/plain": [
       "<IPython.core.display.Latex object>"
      ]
     },
     "metadata": {},
     "output_type": "display_data"
    },
    {
     "data": {
      "text/latex": [
       "$x_{439}$ = 1.1321696025706667"
      ],
      "text/plain": [
       "<IPython.core.display.Latex object>"
      ]
     },
     "metadata": {},
     "output_type": "display_data"
    },
    {
     "data": {
      "text/latex": [
       "$x_{440}$ = 0.11067660110731552"
      ],
      "text/plain": [
       "<IPython.core.display.Latex object>"
      ]
     },
     "metadata": {},
     "output_type": "display_data"
    },
    {
     "data": {
      "text/latex": [
       "$x_{441}$ = -0.5589381875127087"
      ],
      "text/plain": [
       "<IPython.core.display.Latex object>"
      ]
     },
     "metadata": {},
     "output_type": "display_data"
    },
    {
     "data": {
      "text/latex": [
       "$x_{442}$ = -1.6396682187863745"
      ],
      "text/plain": [
       "<IPython.core.display.Latex object>"
      ]
     },
     "metadata": {},
     "output_type": "display_data"
    },
    {
     "data": {
      "text/latex": [
       "$x_{443}$ = -0.12152445607637674"
      ],
      "text/plain": [
       "<IPython.core.display.Latex object>"
      ]
     },
     "metadata": {},
     "output_type": "display_data"
    },
    {
     "data": {
      "text/latex": [
       "$x_{444}$ = 0.27477170805764584"
      ],
      "text/plain": [
       "<IPython.core.display.Latex object>"
      ]
     },
     "metadata": {},
     "output_type": "display_data"
    },
    {
     "data": {
      "text/latex": [
       "$x_{445}$ = 1.238614569807485"
      ],
      "text/plain": [
       "<IPython.core.display.Latex object>"
      ]
     },
     "metadata": {},
     "output_type": "display_data"
    },
    {
     "data": {
      "text/latex": [
       "$x_{446}$ = -0.16278654306506968"
      ],
      "text/plain": [
       "<IPython.core.display.Latex object>"
      ]
     },
     "metadata": {},
     "output_type": "display_data"
    },
    {
     "data": {
      "text/latex": [
       "$x_{447}$ = 0.6468833539588363"
      ],
      "text/plain": [
       "<IPython.core.display.Latex object>"
      ]
     },
     "metadata": {},
     "output_type": "display_data"
    },
    {
     "data": {
      "text/latex": [
       "$x_{448}$ = -1.364167392250261"
      ],
      "text/plain": [
       "<IPython.core.display.Latex object>"
      ]
     },
     "metadata": {},
     "output_type": "display_data"
    },
    {
     "data": {
      "text/latex": [
       "$x_{449}$ = -1.1068047664798926"
      ],
      "text/plain": [
       "<IPython.core.display.Latex object>"
      ]
     },
     "metadata": {},
     "output_type": "display_data"
    },
    {
     "data": {
      "text/latex": [
       "$x_{450}$ = -0.15611404382468377"
      ],
      "text/plain": [
       "<IPython.core.display.Latex object>"
      ]
     },
     "metadata": {},
     "output_type": "display_data"
    },
    {
     "data": {
      "text/latex": [
       "$x_{451}$ = -1.491469877032312"
      ],
      "text/plain": [
       "<IPython.core.display.Latex object>"
      ]
     },
     "metadata": {},
     "output_type": "display_data"
    },
    {
     "data": {
      "text/latex": [
       "$x_{452}$ = 1.1600056160517644"
      ],
      "text/plain": [
       "<IPython.core.display.Latex object>"
      ]
     },
     "metadata": {},
     "output_type": "display_data"
    },
    {
     "data": {
      "text/latex": [
       "$x_{453}$ = 0.654965192868692"
      ],
      "text/plain": [
       "<IPython.core.display.Latex object>"
      ]
     },
     "metadata": {},
     "output_type": "display_data"
    },
    {
     "data": {
      "text/latex": [
       "$x_{454}$ = 0.3947010152046936"
      ],
      "text/plain": [
       "<IPython.core.display.Latex object>"
      ]
     },
     "metadata": {},
     "output_type": "display_data"
    },
    {
     "data": {
      "text/latex": [
       "$x_{455}$ = 0.4792828102245784"
      ],
      "text/plain": [
       "<IPython.core.display.Latex object>"
      ]
     },
     "metadata": {},
     "output_type": "display_data"
    },
    {
     "data": {
      "text/latex": [
       "$x_{456}$ = 2.858187214798623"
      ],
      "text/plain": [
       "<IPython.core.display.Latex object>"
      ]
     },
     "metadata": {},
     "output_type": "display_data"
    },
    {
     "data": {
      "text/latex": [
       "$x_{457}$ = -0.6630740935336905"
      ],
      "text/plain": [
       "<IPython.core.display.Latex object>"
      ]
     },
     "metadata": {},
     "output_type": "display_data"
    },
    {
     "data": {
      "text/latex": [
       "$x_{458}$ = -3.11330812272295"
      ],
      "text/plain": [
       "<IPython.core.display.Latex object>"
      ]
     },
     "metadata": {},
     "output_type": "display_data"
    },
    {
     "data": {
      "text/latex": [
       "$x_{459}$ = 0.2818530414346093"
      ],
      "text/plain": [
       "<IPython.core.display.Latex object>"
      ]
     },
     "metadata": {},
     "output_type": "display_data"
    },
    {
     "data": {
      "text/latex": [
       "$x_{460}$ = -0.07156421393209036"
      ],
      "text/plain": [
       "<IPython.core.display.Latex object>"
      ]
     },
     "metadata": {},
     "output_type": "display_data"
    },
    {
     "data": {
      "text/latex": [
       "$x_{461}$ = -0.7318824487045507"
      ],
      "text/plain": [
       "<IPython.core.display.Latex object>"
      ]
     },
     "metadata": {},
     "output_type": "display_data"
    },
    {
     "data": {
      "text/latex": [
       "$x_{462}$ = -1.3842744623609216"
      ],
      "text/plain": [
       "<IPython.core.display.Latex object>"
      ]
     },
     "metadata": {},
     "output_type": "display_data"
    },
    {
     "data": {
      "text/latex": [
       "$x_{463}$ = -0.6211077781847517"
      ],
      "text/plain": [
       "<IPython.core.display.Latex object>"
      ]
     },
     "metadata": {},
     "output_type": "display_data"
    },
    {
     "data": {
      "text/latex": [
       "$x_{464}$ = 0.2564512659792764"
      ],
      "text/plain": [
       "<IPython.core.display.Latex object>"
      ]
     },
     "metadata": {},
     "output_type": "display_data"
    },
    {
     "data": {
      "text/latex": [
       "$x_{465}$ = -0.7110901974363701"
      ],
      "text/plain": [
       "<IPython.core.display.Latex object>"
      ]
     },
     "metadata": {},
     "output_type": "display_data"
    },
    {
     "data": {
      "text/latex": [
       "$x_{466}$ = 3.4117247122076457"
      ],
      "text/plain": [
       "<IPython.core.display.Latex object>"
      ]
     },
     "metadata": {},
     "output_type": "display_data"
    },
    {
     "data": {
      "text/latex": [
       "$x_{467}$ = -1.3583583232243812"
      ],
      "text/plain": [
       "<IPython.core.display.Latex object>"
      ]
     },
     "metadata": {},
     "output_type": "display_data"
    },
    {
     "data": {
      "text/latex": [
       "$x_{468}$ = -1.1216373308947705"
      ],
      "text/plain": [
       "<IPython.core.display.Latex object>"
      ]
     },
     "metadata": {},
     "output_type": "display_data"
    },
    {
     "data": {
      "text/latex": [
       "$x_{469}$ = -3.236597499707402"
      ],
      "text/plain": [
       "<IPython.core.display.Latex object>"
      ]
     },
     "metadata": {},
     "output_type": "display_data"
    },
    {
     "data": {
      "text/latex": [
       "$x_{470}$ = 0.3556526704489218"
      ],
      "text/plain": [
       "<IPython.core.display.Latex object>"
      ]
     },
     "metadata": {},
     "output_type": "display_data"
    },
    {
     "data": {
      "text/latex": [
       "$x_{471}$ = -2.8516296002934185"
      ],
      "text/plain": [
       "<IPython.core.display.Latex object>"
      ]
     },
     "metadata": {},
     "output_type": "display_data"
    },
    {
     "data": {
      "text/latex": [
       "$x_{472}$ = -0.7629040588032256"
      ],
      "text/plain": [
       "<IPython.core.display.Latex object>"
      ]
     },
     "metadata": {},
     "output_type": "display_data"
    },
    {
     "data": {
      "text/latex": [
       "$x_{473}$ = -0.3898570087221807"
      ],
      "text/plain": [
       "<IPython.core.display.Latex object>"
      ]
     },
     "metadata": {},
     "output_type": "display_data"
    },
    {
     "data": {
      "text/latex": [
       "$x_{474}$ = -1.0037069148961382"
      ],
      "text/plain": [
       "<IPython.core.display.Latex object>"
      ]
     },
     "metadata": {},
     "output_type": "display_data"
    },
    {
     "data": {
      "text/latex": [
       "$x_{475}$ = 2.459137323696186"
      ],
      "text/plain": [
       "<IPython.core.display.Latex object>"
      ]
     },
     "metadata": {},
     "output_type": "display_data"
    },
    {
     "data": {
      "text/latex": [
       "$x_{476}$ = 1.4062860345461172"
      ],
      "text/plain": [
       "<IPython.core.display.Latex object>"
      ]
     },
     "metadata": {},
     "output_type": "display_data"
    },
    {
     "data": {
      "text/latex": [
       "$x_{477}$ = 1.8655412610921682"
      ],
      "text/plain": [
       "<IPython.core.display.Latex object>"
      ]
     },
     "metadata": {},
     "output_type": "display_data"
    },
    {
     "data": {
      "text/latex": [
       "$x_{478}$ = -1.247928660886538"
      ],
      "text/plain": [
       "<IPython.core.display.Latex object>"
      ]
     },
     "metadata": {},
     "output_type": "display_data"
    },
    {
     "data": {
      "text/latex": [
       "$x_{479}$ = 1.5960730324502785"
      ],
      "text/plain": [
       "<IPython.core.display.Latex object>"
      ]
     },
     "metadata": {},
     "output_type": "display_data"
    },
    {
     "data": {
      "text/latex": [
       "$x_{480}$ = 0.7014512652695212"
      ],
      "text/plain": [
       "<IPython.core.display.Latex object>"
      ]
     },
     "metadata": {},
     "output_type": "display_data"
    },
    {
     "data": {
      "text/latex": [
       "$x_{481}$ = 1.0909327547140788"
      ],
      "text/plain": [
       "<IPython.core.display.Latex object>"
      ]
     },
     "metadata": {},
     "output_type": "display_data"
    },
    {
     "data": {
      "text/latex": [
       "$x_{482}$ = 1.4558463532980639"
      ],
      "text/plain": [
       "<IPython.core.display.Latex object>"
      ]
     },
     "metadata": {},
     "output_type": "display_data"
    },
    {
     "data": {
      "text/latex": [
       "$x_{483}$ = -1.2851853074214898"
      ],
      "text/plain": [
       "<IPython.core.display.Latex object>"
      ]
     },
     "metadata": {},
     "output_type": "display_data"
    },
    {
     "data": {
      "text/latex": [
       "$x_{484}$ = -0.6000757343408348"
      ],
      "text/plain": [
       "<IPython.core.display.Latex object>"
      ]
     },
     "metadata": {},
     "output_type": "display_data"
    },
    {
     "data": {
      "text/latex": [
       "$x_{485}$ = 1.2198949780696315"
      ],
      "text/plain": [
       "<IPython.core.display.Latex object>"
      ]
     },
     "metadata": {},
     "output_type": "display_data"
    },
    {
     "data": {
      "text/latex": [
       "$x_{486}$ = -3.7556125377820875"
      ],
      "text/plain": [
       "<IPython.core.display.Latex object>"
      ]
     },
     "metadata": {},
     "output_type": "display_data"
    },
    {
     "data": {
      "text/latex": [
       "$x_{487}$ = 2.140169098695098"
      ],
      "text/plain": [
       "<IPython.core.display.Latex object>"
      ]
     },
     "metadata": {},
     "output_type": "display_data"
    },
    {
     "data": {
      "text/latex": [
       "$x_{488}$ = 0.7822468669857909"
      ],
      "text/plain": [
       "<IPython.core.display.Latex object>"
      ]
     },
     "metadata": {},
     "output_type": "display_data"
    },
    {
     "data": {
      "text/latex": [
       "$x_{489}$ = -0.06463516101987053"
      ],
      "text/plain": [
       "<IPython.core.display.Latex object>"
      ]
     },
     "metadata": {},
     "output_type": "display_data"
    },
    {
     "data": {
      "text/latex": [
       "$x_{490}$ = 0.3118449173788922"
      ],
      "text/plain": [
       "<IPython.core.display.Latex object>"
      ]
     },
     "metadata": {},
     "output_type": "display_data"
    },
    {
     "data": {
      "text/latex": [
       "$x_{491}$ = -1.4565484460221307"
      ],
      "text/plain": [
       "<IPython.core.display.Latex object>"
      ]
     },
     "metadata": {},
     "output_type": "display_data"
    },
    {
     "data": {
      "text/latex": [
       "$x_{492}$ = -0.49489465226438467"
      ],
      "text/plain": [
       "<IPython.core.display.Latex object>"
      ]
     },
     "metadata": {},
     "output_type": "display_data"
    },
    {
     "data": {
      "text/latex": [
       "$x_{493}$ = 1.5560370335779583"
      ],
      "text/plain": [
       "<IPython.core.display.Latex object>"
      ]
     },
     "metadata": {},
     "output_type": "display_data"
    },
    {
     "data": {
      "text/latex": [
       "$x_{494}$ = 1.8356802775220165"
      ],
      "text/plain": [
       "<IPython.core.display.Latex object>"
      ]
     },
     "metadata": {},
     "output_type": "display_data"
    },
    {
     "data": {
      "text/latex": [
       "$x_{495}$ = 3.813036622331963"
      ],
      "text/plain": [
       "<IPython.core.display.Latex object>"
      ]
     },
     "metadata": {},
     "output_type": "display_data"
    },
    {
     "data": {
      "text/latex": [
       "$x_{496}$ = -0.10454526564766811"
      ],
      "text/plain": [
       "<IPython.core.display.Latex object>"
      ]
     },
     "metadata": {},
     "output_type": "display_data"
    },
    {
     "data": {
      "text/latex": [
       "$x_{497}$ = -0.931334537196675"
      ],
      "text/plain": [
       "<IPython.core.display.Latex object>"
      ]
     },
     "metadata": {},
     "output_type": "display_data"
    },
    {
     "data": {
      "text/latex": [
       "$x_{498}$ = -0.7272366488652364"
      ],
      "text/plain": [
       "<IPython.core.display.Latex object>"
      ]
     },
     "metadata": {},
     "output_type": "display_data"
    },
    {
     "data": {
      "text/latex": [
       "$x_{499}$ = -1.4397286270951304"
      ],
      "text/plain": [
       "<IPython.core.display.Latex object>"
      ]
     },
     "metadata": {},
     "output_type": "display_data"
    },
    {
     "data": {
      "text/latex": [
       "$x_{500}$ = -0.11010325174679844"
      ],
      "text/plain": [
       "<IPython.core.display.Latex object>"
      ]
     },
     "metadata": {},
     "output_type": "display_data"
    }
   ],
   "source": [
    "print_pretty_sample(random_sample)"
   ]
  },
  {
   "cell_type": "markdown",
   "id": "0902a7b1",
   "metadata": {},
   "source": [
    "Para poder hacer inferencia (en el contexto paramétrico) tenemos que suponer que existe un modelo de probabilidad, $F_{\\theta}$, que genera los datos anteriores. La pregunta natural es ¿cuál modelo?\n",
    "\n",
    "Para responder esta pregunta vamos a usar las herramientas de la estadística descriptiva. En otras palabras, haremos un (breve) análisis descriptivo de datos (recuerde que este paso __siempre__ antecede cualquier procedimiento de inferencia). \n",
    "\n",
    "Comenzamos haciendo un histograma para obtener información sobre la densidad empírica."
   ]
  },
  {
   "cell_type": "code",
   "execution_count": 5,
   "id": "116f530a",
   "metadata": {},
   "outputs": [
    {
     "data": {
      "image/png": "[encoded data removed]",
      "text/plain": [
       "<Figure size 432x288 with 1 Axes>"
      ]
     },
     "metadata": {
      "needs_background": "light"
     },
     "output_type": "display_data"
    }
   ],
   "source": [
    "plt.hist(random_sample, density=True, bins=35);"
   ]
  },
  {
   "cell_type": "markdown",
   "id": "e68c5be5",
   "metadata": {},
   "source": [
    "Del histograma podemos observar que la densidad parece simétrica (no sesgada), se acumula alrededor de un número cercano al 0 y que aunque hay dispersión, no es grande, pues todos los valores están entre -4 y 4. Además, a ojo, ese histograma parece una densidad normal (en el curso de Estadística II verán herramientas -pruebas estadísticas- para justificar esto).\n",
    "\n",
    "Con lo anterior, parece hacer sentido que nuestra muestra provenga de una población Normal, es decir, supondremos que tenemos la siguiente muestra aleatoria\n",
    "\n",
    "$$\n",
    "X_1, \\dots, X_{500} \\sim \\mathcal{N}(\\mu, \\sigma ^{2})\n",
    "$$\n",
    "\n",
    "para algunos valores de $\\mu$ y $\\sigma ^{2}$ que deseamos estimar.\n",
    "\n",
    "__Spoiler__: Como ya vimos toda la parte de inferencia, sabemos que la media muestral, $\\bar{X}$, y la varianza muestral, $S^{2}$, son _buenos_ estimadores para $\\mu$ y $\\sigma ^{2}$, respectivamente. Con esto en mente, calculemos esos estimadores (véase la sección _Sobre cómo implementar las estadísticas_ del Notebook apéndice).\n"
   ]
  },
  {
   "cell_type": "markdown",
   "id": "9be16c90",
   "metadata": {},
   "source": [
    "Comenzamos definiendo el estimador $T_1: \\Omega \\to \\mathbb{R}^{2}$, dado por:\n",
    "\n",
    "$$\n",
    "\\begin{align*}\n",
    "    T_1(\\underline{X}) &= (\\bar{X}, S^{2})\\\\\n",
    "        &= \\bigg( \\frac{1}{n} \\sum_{i=1}^{n} X_i , \\frac{1}{n-1} \\sum_{i=1}^{n} (\\bar{X}- X_i)^{2} \\bigg)\n",
    "\\end{align*}\n",
    "$$\n",
    "\n",
    "Note que $T_1$ es un estimador para $\\theta = (\\mu, \\sigma^{2})$"
   ]
  },
  {
   "cell_type": "code",
   "execution_count": 6,
   "id": "86f9268d",
   "metadata": {},
   "outputs": [],
   "source": [
    "def T_1(X):\n",
    "        \"\"\" Calcula la media muestral y la varianza muestral S^2.\n",
    "        :param X: X es un arreglo de Numpy.\n",
    "        :return: (media, s^2)\n",
    "        \"\"\"\n",
    "\n",
    "        t_1 = X.mean()\n",
    "        coef = 1 / (X.size - 1)\n",
    "        t_2 = coef * ((X - X.mean()) ** 2).sum()\n",
    "        \n",
    "        return t_1, t_2\n",
    "    "
   ]
  },
  {
   "cell_type": "markdown",
   "id": "83bd89db",
   "metadata": {},
   "source": [
    "La estadística $T_1$ es, en principio, un vector aleatorio. Para obtener la realización del estimador, $t_1(\\underline{x})$, hay que usar la realización de la muestra aleatoria (los números con los que empezamos) para evaluar el estimador."
   ]
  },
  {
   "cell_type": "code",
   "execution_count": 7,
   "id": "78d2f38e",
   "metadata": {},
   "outputs": [],
   "source": [
    "mu_gorro, sigma2_gorro = T_1(random_sample)"
   ]
  },
  {
   "cell_type": "code",
   "execution_count": 8,
   "id": "19fa7895",
   "metadata": {},
   "outputs": [
    {
     "name": "stdout",
     "output_type": "stream",
     "text": [
      "-0.03585659197029378\n"
     ]
    }
   ],
   "source": [
    "print(mu_gorro)"
   ]
  },
  {
   "cell_type": "code",
   "execution_count": 9,
   "id": "75a53aff",
   "metadata": {
    "scrolled": true
   },
   "outputs": [
    {
     "name": "stdout",
     "output_type": "stream",
     "text": [
      "1.9966271586284878\n"
     ]
    }
   ],
   "source": [
    "print(sigma2_gorro)"
   ]
  },
  {
   "cell_type": "markdown",
   "id": "75c0d7e7",
   "metadata": {},
   "source": [
    "¡Sorpresa! El estimador $T_1$ estima que los valores reales de los parámetros $\\mu$ y $\\sigma^{2}$ son $\\hat{\\mu} \\approx -0.03$ y $\\hat{\\sigma}^{2} \\approx 1.99$. Estas estimaciones no están mal, pues los valores __reales__ de los parámetros son $\\mu= 0$ y $\\sigma^{2} = 2$."
   ]
  },
  {
   "cell_type": "markdown",
   "id": "7aea4473",
   "metadata": {},
   "source": [
    "Con estas estimaciones de los parámetros podríamos decir que el fenómeno que generó los números iniciales (los 500 números con los que partimos) es _aleatorio_ y es descrito por un modelo $\\mathcal{N}(-0.03, 1.99)$. En este punto ya conocemos cuál es el modelo de probabilidad, por lo que podríamos aplicar todos los métodos que se estudian en Probabilidad I y II para hacer predicciones (por ejemplo, el valor más probable en caso de obtener/medir $x_{501}$). No es la intención de este Notebook hacerlo."
   ]
  },
  {
   "cell_type": "markdown",
   "id": "bf9abb33",
   "metadata": {},
   "source": [
    "## Estimación por máxima verosimilitud\n",
    "\n",
    "En la introducción se dio por hecho que la media muestral y la varianza muestral eran buenos estimadores para la media y la varianza, respectivamente, de una población normal, sin embargo estos estimadores se propusieron, no se construyeron. En esta sección vamos a ejemplificar el método de estimación por máxima verosimilitud desde cero.\n",
    "\n",
    "El siguiente ejemplo aparece como el _Example 7.16_ de [1]."
   ]
  },
  {
   "cell_type": "markdown",
   "id": "44af5f0a",
   "metadata": {},
   "source": [
    "__Ejemplo 1:__ Un artículo de mayo de 2018 en www.howtogeek.com analiza los criterios tradicionales para las contraseñas \"fuertes\" y el consejo emergente de utilizar frases más largas concatenando varias palabras como contraseña. Supongamos que se seleccionan aleatoriamente 10 estudiantes de una determinada universidad y se comprueba que el primero, el tercero y el décimo utilizan frases largas como contraseñas de sus correos electrónicos, mientras que los otros 7 no lo hacen. Sea $p$ la proporción de estudiantes de __toda__ la universidad que utilizan frases largas como contraseñas de sus correos electrónicos. Defina las variables aleatorias $X_1, \\dots, X_{10}$ tales que,\n",
    "\n",
    "$$\n",
    "X_i = \n",
    "\\begin{cases} \n",
    "    1 &\\text{si el i-ésimo estudiante usa una frase larga como contraseña} \\\\\n",
    "    0 &\\text{c.o.c}\n",
    "\\end{cases}\n",
    "$$\n",
    "\n",
    "Claramente, $X_i \\sim Ber(p)$, $p \\in \\Theta = [0,1]$\n",
    "\n",
    "De la información del problema sabemos que tenemos una muestra aleatoria de tamaño 10, dada por\n",
    "$$\n",
    "x_1 = 1, x_2=0, x_3 = 1, x_4 = 0, x_5 = 0, x_6 = 0, x_7 = 0, x_8 = 0, x_9 = 0, x_{10} = 1\n",
    "$$\n",
    "\n",
    "También tiene sentido que las variables aleatorias sean independientes, pues generalmente las personas eligen sus contraseñas sin influencia de otra persona.\n",
    "\n",
    "La probabilidad de haber observado _exactamente_ esa muestra está dada por la función de __verosimilitud__ (a.k.a función de probabilidad conjunta),\n",
    "\n",
    "$$\n",
    "\\begin{align*}\n",
    "    L(p| \\underline{X}) :&= \\mathbb{P}(X_1 = x_1, \\dots, X_{10} = x_{10}) \\\\\n",
    "        &= f_{X_1, \\dots X_{10}}(x_1, \\dots x_n; p) \\\\ \n",
    "        &= \\prod _{i=1}^{10} f_{X_i}(x_i;p) \\\\\n",
    "        &= \\prod _{i=1}^{10} p ^{x_i} (1-p)^{1-x_i}\n",
    "\\end{align*}\n",
    "$$\n",
    "\n",
    "Como conocemos los valores $x_i$, podemos sustituirlos en la función de verosimilitud,\n",
    "\n",
    "$$\n",
    "\\begin{align*}\n",
    "    L(p| \\underline{x}) &= \\prod _{i=1}^{10} p ^{x_i} (1-p)^{1-x_i} \\\\\n",
    "        &= p ^{x_1} (1-p)^{1-x_1} \\cdot \\dots \\cdot p ^{x_{10}} (1-p)^{1-x_{10}} \\\\\n",
    "        &= p (1 - p) p (1 - p) (1 - p) (1 - p) (1 - p) (1 - p) (1 - p) p \\\\\n",
    "        &= p^{3} (1-p)^{7}\n",
    "\\end{align*}\n",
    "$$\n",
    "\n",
    "Note que una vez que conocemos los valores que toma la muestra aleatoria, la función de verosimilitud únicamente es función de los parámetros.\n",
    "\n",
    "A continuación se muestra a gráfica de $L:[0,1] \\subset \\mathbb{R} \\to \\mathbb{R}$."
   ]
  },
  {
   "cell_type": "code",
   "execution_count": 10,
   "id": "f79ea8f1",
   "metadata": {},
   "outputs": [],
   "source": [
    "def L_1(p, x):\n",
    "    \"\"\" Implementación de la función de verosimilitud.\n",
    "        \n",
    "    Esta implementación admite que le pasemos un vector, x, con la muestra aleatoria, \n",
    "    por lo que es más robusta/general.\n",
    "    \"\"\"\n",
    "    if 0 <= p <= 1:\n",
    "        likelihood = 1\n",
    "        for xi in x:\n",
    "            likelihood *= (p ** xi)*((1 - p)**(1 - xi))  \n",
    "        return likelihood\n",
    "    else:\n",
    "        return 0\n",
    "\n",
    "def L(p):\n",
    "    \"\"\" Implementación de la función de verosimilitud.\n",
    "    \n",
    "    Implementa L para los valores específicos de la muestra aleatoria.\n",
    "    \"\"\"\n",
    "    if 0 <= p <= 1:\n",
    "        return np.power(p, 3) * np.power(1 - p, 7)\n",
    "    else:\n",
    "        return 0\n"
   ]
  },
  {
   "cell_type": "code",
   "execution_count": 11,
   "id": "1cb9144c",
   "metadata": {},
   "outputs": [],
   "source": [
    "# Cargamos la muestra aleatoria\n",
    "sample_students = load_data(\"ejemplo_estudiantes.csv\")\n",
    "\n",
    "# Posibles valores de p (espacio parametral)\n",
    "dom = np.linspace(0, 1)\n",
    "\n",
    "# Valores que toma la función de verosimilitud\n",
    "L_plot = np.array([L(p) for p in dom])\n",
    "\n",
    "# Valores que toma la función de verosimilitud\n",
    "L_1_plot = np.array([L_1(p, sample_students) for p in dom])\n"
   ]
  },
  {
   "cell_type": "code",
   "execution_count": 12,
   "id": "fee7419e",
   "metadata": {},
   "outputs": [
    {
     "data": {
      "image/png": "[encoded data removed]",
      "text/plain": [
       "<Figure size 432x288 with 1 Axes>"
      ]
     },
     "metadata": {
      "needs_background": "light"
     },
     "output_type": "display_data"
    }
   ],
   "source": [
    "plt.title(\"Función de verosimilitud usando L\")\n",
    "plt.xlabel(\"p\")\n",
    "plt.ylabel(\"L(p)\")\n",
    "plt.plot(dom, L_plot);\n"
   ]
  },
  {
   "cell_type": "code",
   "execution_count": 13,
   "id": "fd1f0ac2",
   "metadata": {},
   "outputs": [
    {
     "data": {
      "image/png": "[encoded data removed]",
      "text/plain": [
       "<Figure size 432x288 with 1 Axes>"
      ]
     },
     "metadata": {
      "needs_background": "light"
     },
     "output_type": "display_data"
    }
   ],
   "source": [
    "plt.title(\"Función de verosimilitud usando L_1\")\n",
    "plt.xlabel(\"p\")\n",
    "plt.ylabel(\"L(p)\")\n",
    "plt.plot(dom, L_1_plot);\n"
   ]
  },
  {
   "cell_type": "markdown",
   "id": "8a435739",
   "metadata": {},
   "source": [
    "Recordemos que el __principio de máxima verosimilitud__ nos dice que el estimador (de máxima verosimilitud) es aquel que maximiza la función de verosimilitud, $L$. \n",
    "\n",
    "De la gráfica anterior (que casualmente es la gráfica de $L$) podemos ver, a ojo, que el valor de $p$ que maximiza la función $L$ está cerca de 0.3. Para encontrar el valor exacto necesitamos un algoritmo que encuentre este valor máximo.\n",
    "\n",
    "__Observación:__ Note que los arreglos _dom_ y _L\\_1_ contienen los valores del dominio y contradominio, respectivamente. Es decir, cada elemento de _L\\_1_ es la imagen de cada elemento en _dom_ bajo la función de verosimilitud.\n",
    "\n",
    "La función de numpy, argmax(), calcula la posición (en el arreglo) que contiene al valor más grande (el máximo). Sabiendo la posición (en el arreglo) podemos saber a qué valor del dominio corresponde esa imagen (el valor máximo).\n",
    "\n",
    "A continuación se muestran los valores del dominio y su respectiva imagen bajo la función de verosimilitud.\n"
   ]
  },
  {
   "cell_type": "code",
   "execution_count": 14,
   "id": "e89b6fa6",
   "metadata": {},
   "outputs": [
    {
     "name": "stdout",
     "output_type": "stream",
     "text": [
      "L(p)    = p^{3} (1-p)^{7}\n",
      "L(0.000) = 0.0000000\n",
      "L(0.020) = 0.0000074\n",
      "L(0.041) = 0.0000508\n",
      "L(0.061) = 0.0001475\n",
      "L(0.082) = 0.0002997\n",
      "L(0.102) = 0.0005002\n",
      "L(0.122) = 0.0007358\n",
      "L(0.143) = 0.0009910\n",
      "L(0.163) = 0.0012497\n",
      "L(0.184) = 0.0014969\n",
      "L(0.204) = 0.0017199\n",
      "L(0.224) = 0.0019085\n",
      "L(0.245) = 0.0020559\n",
      "L(0.265) = 0.0021577\n",
      "L(0.286) = 0.0022126\n",
      "L(0.306) = 0.0022216\n",
      "L(0.327) = 0.0021877\n",
      "L(0.347) = 0.0021156\n",
      "L(0.367) = 0.0020109\n",
      "L(0.388) = 0.0018800\n",
      "L(0.408) = 0.0017295\n",
      "L(0.429) = 0.0015660\n",
      "L(0.449) = 0.0013959\n",
      "L(0.469) = 0.0012247\n",
      "L(0.490) = 0.0010574\n",
      "L(0.510) = 0.0008981\n",
      "L(0.531) = 0.0007500\n",
      "L(0.551) = 0.0006153\n",
      "L(0.571) = 0.0004955\n",
      "L(0.592) = 0.0003912\n",
      "L(0.612) = 0.0003025\n",
      "L(0.633) = 0.0002286\n",
      "L(0.653) = 0.0001685\n",
      "L(0.673) = 0.0001209\n",
      "L(0.694) = 0.0000842\n",
      "L(0.714) = 0.0000566\n",
      "L(0.735) = 0.0000367\n",
      "L(0.755) = 0.0000227\n",
      "L(0.776) = 0.0000134\n",
      "L(0.796) = 0.0000074\n",
      "L(0.816) = 0.0000038\n",
      "L(0.837) = 0.0000018\n",
      "L(0.857) = 0.0000008\n",
      "L(0.878) = 0.0000003\n",
      "L(0.898) = 0.0000001\n",
      "L(0.918) = 0.0000000\n",
      "L(0.939) = 0.0000000\n",
      "L(0.959) = 0.0000000\n",
      "L(0.980) = 0.0000000\n",
      "L(1.000) = 0.0000000\n"
     ]
    }
   ],
   "source": [
    "print(\"L(p)    = p^{3} (1-p)^{7}\")\n",
    "for p, L_p in zip(dom, L_1_plot):\n",
    "    print(f\"L({p:.3f}) = {L_p:.7f}\")"
   ]
  },
  {
   "cell_type": "markdown",
   "id": "7d16adad",
   "metadata": {},
   "source": [
    "A ojo podemos ver que el valor máximo de $L$ se alcanza cerca de $0.306$. \n",
    "Podemos hacer eso de manera automática con np.argmax() para encontrar el indice del elemento en el dominio que maximiza $L(p)$ y luego buscar el elemento en el dominio usando ese índice.\n"
   ]
  },
  {
   "cell_type": "code",
   "execution_count": 15,
   "id": "d6996510",
   "metadata": {},
   "outputs": [
    {
     "name": "stdout",
     "output_type": "stream",
     "text": [
      "15\n"
     ]
    }
   ],
   "source": [
    "# Posición del valor máximo de L\n",
    "index_max = np.argmax(L_1_plot)\n",
    "\n",
    "print(index_max)"
   ]
  },
  {
   "cell_type": "code",
   "execution_count": 16,
   "id": "0af79fee",
   "metadata": {},
   "outputs": [
    {
     "name": "stdout",
     "output_type": "stream",
     "text": [
      "0.3061224489795918\n"
     ]
    }
   ],
   "source": [
    "# Valor en el dominio en esa pocisión\n",
    "p_max = dom[index_max]\n",
    "\n",
    "print(p_max)"
   ]
  },
  {
   "cell_type": "markdown",
   "id": "f583aa6e",
   "metadata": {},
   "source": [
    "El valor de $p \\in [0,1]$ que maximiza la función de verosimilitud, $L(p)$, es $p_{max} \\approx 0.306$. De donde podemos concluir que el estimador máximo verosimil es $\\hat{p}_{ML} = 0.306$"
   ]
  },
  {
   "cell_type": "markdown",
   "id": "53191209",
   "metadata": {},
   "source": [
    "Habriamos obtenido lo mismo de haber usado la log-verosimilitud, $l$."
   ]
  },
  {
   "cell_type": "code",
   "execution_count": 17,
   "id": "be34190d",
   "metadata": {},
   "outputs": [
    {
     "data": {
      "image/png": "[encoded data removed]",
      "text/plain": [
       "<Figure size 432x288 with 1 Axes>"
      ]
     },
     "metadata": {
      "needs_background": "light"
     },
     "output_type": "display_data"
    }
   ],
   "source": [
    "supress(\"ignore\")\n",
    "\n",
    "log_L = np.log(L_1_plot)\n",
    "\n",
    "plt.title(\"Función de log-verosimilitud.\")\n",
    "plt.xlabel(\"p\")\n",
    "plt.ylabel(\"l(p)\")\n",
    "plt.plot(dom, log_L);"
   ]
  },
  {
   "cell_type": "code",
   "execution_count": 18,
   "id": "5207592b",
   "metadata": {},
   "outputs": [
    {
     "name": "stdout",
     "output_type": "stream",
     "text": [
      "0.3061224489795918\n"
     ]
    }
   ],
   "source": [
    "index_max_log = np.argmax(log_L)\n",
    "p_max_log = dom[index_max_log]\n",
    "\n",
    "print(p_max_log)"
   ]
  },
  {
   "cell_type": "markdown",
   "id": "02455689",
   "metadata": {},
   "source": [
    "No es difícil encontrar analíticamente que el estimador de máxima verosimilitud es $\\hat{p}_{ML} = \\frac{3}{10} = 0.3$, es cual es muy cercano al encontrado numéricamente."
   ]
  },
  {
   "cell_type": "markdown",
   "id": "6ae41af1",
   "metadata": {},
   "source": [
    "__Ejemplo 1 (continuación):__ En el ejemplo anterior conocíamos explícitamente la muestra aleatoria de tamaño $10$. Ahora suponga que no la conocemos y que la única información que tenemos es que $3$ de los $10$ estudiantes usan frases largas como contraseñas. Esto significa que tenemos una variable aletoria $Y$ con distribución $Binom(10,p)$ (recuerde que la distribución binomial cuenta el número de éxitos en una sucesión de $n$ ensayos bernoulli, donde el éxito del ensayo es que el estudiante use una frase larga como contraseña) que toma el valor $3$.\n",
    "\n",
    "Note que $Y = \\sum _{i=1}^{10} X_i$. Esto debe recordarnos al concepto de suficiencia. No es difícil comprobar que $Y(\\underline{X})$ es una estadística suficiente, por lo que basta saber que $Y=3$, para tener la misma información que teníamos con toda la muestra (y por lo tanto podremos hacer la mismas inferencias).\n",
    "\n",
    "Véamoslo.\n",
    "\n",
    "Del ejercicio anterior,\n",
    "$$\n",
    "\\begin{align*}\n",
    "    L(p| \\underline{x}) &= \\prod _{i=1}^{10} p ^{x_i} (1-p)^{1-x_i} \\\\\n",
    "        &= p^{\\sum _{i=1}^{10} x_i} (1-p)^{10 - \\sum _{i=1}^{10} x_i}\n",
    "\\end{align*}\n",
    "$$\n",
    "\n",
    "de donde, si sabemos que $Y = \\sum _{i=1}^{10} X_i = 3$, obtenemos la misma función de verosimilitud (y por lo tanto, las mismas inferencias)."
   ]
  },
  {
   "cell_type": "markdown",
   "id": "928871d6",
   "metadata": {},
   "source": [
    "__Ejemplo 2:__ (Ejemplo 7.24 de [1]). Un método utilizado a menudo para estimar el tamaño de una población de vida silvestre implica realizar un experimento de captura/recaptura. En este experimento, se captura una muestra inicial de $M$ animales; cada uno de estos se etiqueta y se regresan a su población. Después de dejar pasar suficiente tiempo para que los animales etiquetados se mezclen en su población, se captura otra muestra de tamaño $n$. Si $X$ indica la cantidad de animales etiquetados en la segunda muestra (si se recaptura un animal de la primera muestra esta ya no es re-etiquetado), el objetivo es usar la $X$ observada, $x$, para estimar el tamaño de la población, $N$.\n",
    "\n",
    "Si pensamos como \"éxito\" haber recapturado un animal, entonces tenemos muestreo sin reemplazo de una población con $M$ éxitos y $N-M$ fallos. Entonces $X$ es una variable aleatoria hipergeométrica con función de densidad,\n",
    "\n",
    "$$\n",
    "\\begin{align*}\n",
    "    f_{X}(x;n,M,N) &= L(N) \\\\\n",
    "        &= \\frac{\\binom{M}{x} \\binom{N-M}{n-x}}{\\binom{N}{n}}\n",
    "\\end{align*}\n",
    "$$\n",
    "\n",
    "Note que $L: [200, \\infty] \\subset \\mathbb{N} \\to \\mathbb{R}$ es una función discreta (una sucesión), no la podemos derivar!\n",
    "\n",
    "En este caso queremos estimar $N$.\n",
    "\n",
    "Suponga que $M=200$ peces son capturados de un lago y etiquetados. Después, $n=100$ peces son  capturados, de los cuales hay $x=11$ peces que ya estaban etiquedados. La función de verosimilitud es,\n",
    "\n",
    "$$\n",
    "\\begin{align*}\n",
    "   L(N) &= \\frac{\\binom{M}{x} \\binom{N-M}{n-x}}{\\binom{N}{n}} \\\\\n",
    "       &= \\frac{\\binom{200}{11} \\binom{N-200}{100-11}}{\\binom{N}{100}} \\\\\n",
    "\\end{align*}\n",
    "$$\n",
    "\n",
    "Queremos obtener el estimador de máxima verosimilitud para $N$."
   ]
  },
  {
   "cell_type": "code",
   "execution_count": 19,
   "id": "b98e5c53",
   "metadata": {},
   "outputs": [],
   "source": [
    "def L_fish(N):\n",
    "    \"\"\" Función de verosimilitud.\n",
    "    \n",
    "    Calcula la función de verosimilitud.\n",
    "    \n",
    "    :param N: El parámetro.\n",
    "    :return: La función de verosimilitud o lanza la excepción ArithmeticError si N < 200.\n",
    "    \n",
    "    \"\"\"\n",
    "    if N >= 200:\n",
    "        aux_1 = binom(200, 100)\n",
    "        aux_2 = binom(N - 200, 100-11)\n",
    "        aux_3 = binom(N, 100)\n",
    "\n",
    "        return (aux_1 * aux_2) / (aux_3)\n",
    "    else:\n",
    "        raise ArithmeticError\n"
   ]
  },
  {
   "cell_type": "code",
   "execution_count": 20,
   "id": "8c6de440",
   "metadata": {},
   "outputs": [
    {
     "data": {
      "image/png": "[encoded data removed]",
      "text/plain": [
       "<Figure size 432x288 with 1 Axes>"
      ]
     },
     "metadata": {
      "needs_background": "light"
     },
     "output_type": "display_data"
    }
   ],
   "source": [
    "N_dom = np.arange(200, 5000)\n",
    "L_values = np.array([L_fish(N) for N in N_dom])\n",
    "\n",
    "plt.scatter(N_dom[::100], L_values[::100])\n",
    "plt.xlabel(\"N\")\n",
    "plt.ylabel(\"L(N)\");"
   ]
  },
  {
   "cell_type": "markdown",
   "id": "32864243",
   "metadata": {},
   "source": [
    "La gráfica anterior muestra la función de verosimilitud, $ L:[200, 5000] \\subset \\mathbb{N} \\to \\mathbb{R}$. El estimador de máxima verosimilitud es aquel valor de $N$ que maximiza $L$.\n",
    "\n",
    "Como se mencionó anteriormente, $L$ es una función no derivable. Encontraremos su máximo de manera análoga al caso anterior."
   ]
  },
  {
   "cell_type": "code",
   "execution_count": 21,
   "id": "792c7099",
   "metadata": {},
   "outputs": [
    {
     "name": "stdout",
     "output_type": "stream",
     "text": [
      "1818\n"
     ]
    }
   ],
   "source": [
    "L_index_max = np.argmax(L_values)\n",
    "L_max = N_dom[L_index_max]\n",
    "\n",
    "print(L_max)"
   ]
  },
  {
   "cell_type": "markdown",
   "id": "53072833",
   "metadata": {},
   "source": [
    "Es decir, el estimador de máxima verosimilitud es $\\hat{N}_{ML} = 1818$, por lo que se estima que la población total de peces sea $1818$.\n",
    "\n",
    "Adicionalmente, podemos calcular el estimador por momentos. Igualamos el primer momentos poblacional con el primer momento muestral.\n",
    "\n",
    "$$\n",
    "\\begin{align*}\n",
    "    \\mathbb{E}(X) &= X \\\\\n",
    "    n \\frac{M}{N} &= X \\\\\n",
    "    (100) \\frac{200}{N} &= 11 \\\\\n",
    "    N &= 1818.18 \\\\\n",
    "    \\hat{N}_{momentos} &= 1818\n",
    "\\end{align*}\n",
    "$$\n",
    "\n",
    "Note que en este caso ambos estimadores coindicen."
   ]
  },
  {
   "cell_type": "markdown",
   "id": "3b9e2b73",
   "metadata": {},
   "source": [
    "### Modelo logístico\n",
    "\n"
   ]
  },
  {
   "cell_type": "markdown",
   "id": "b90c1216",
   "metadata": {},
   "source": [
    "__Ejemplo 3:__ En 1986, el transbordador espacial Challenger explotó durante el despegue, matando a los siete astronautas que iban a bordo. La explosión fue el resultado de un fallo en la junta tórica, la rotura de un anillo de goma que sella las partes de la nave. Se cree que el accidente fue causado por el clima inusualmente frío ($31 ^o$F o $0$ $^o$C) en el momento del lanzamiento, ya que hay razones para creer que las probabilidades de fallo de la junta tórica aumentan a medida que la temperatura disminuye <br>\n",
    "    Los datos sobre los lanzamientos anteriores del transbordador espacial y los fallos de las juntas tóricas figuran en el conjunto de datos challenger proporcionado con el paquete mcsm. La primera columna corresponde a los indicadores de fallo $y_i$ y la segunda a la temperatura correspondiente $x_i$ $(1 ≤ i ≤ 24)$\n",
    "    \n",
    "1. Ajuste este conjunto de datos con una regresión logística, donde\n",
    "$$\n",
    "    P(Y_i=1 |x_i) = p(x_i) = \\frac{\\exp(\\alpha + \\beta x_i)}{1 + \\exp(\\alpha + \\beta x_i)}\n",
    "$$\n",
    "Deduce los estimadores máximo verosimiles para $\\alpha$ y $\\beta$, junto con los errores  estándar.\n"
   ]
  },
  {
   "cell_type": "markdown",
   "id": "1d1f7705",
   "metadata": {},
   "source": [
    "__Solución:__\n",
    "\n",
    "Sea $X = \\{x_1, ..., x_n \\} \\subset \\mathbb{R}$ el conjunto de datos e $y = \\{y_1,...,y_n \\}$ $\\forall i \\in \\{1,...,n\\}$ $y_i \\in \\{ 0,1\\}$ el conjunto de varibles respuesta. <br>\n",
    "En nuestro problema \n",
    "$$\n",
    "    x_i : \\text{temperatura} \\\\ \n",
    "    y_i : \\text{indicador de fallo}\n",
    "$$\n",
    "Como las covariables $x_i$ son $1-\\text{dimensional}$, el modelo propuesto es\n",
    "$$\n",
    "    p_i = p_i (\\vec \\beta) = \\mathbb{P}(y_i = 1 | x_i) = \\frac{\\exp(\\beta_0 + \\beta_1 x_i)}{1 + \\exp(\\beta_0 + \\beta_1 x_i)}\n",
    "$$\n",
    "con $\\vec \\beta = (\\beta_0, \\beta_1) \\in \\mathbb{R}^2$ el vector de parámetros. <br>\n",
    "Como las variables respuesta son binarias, podemos considerarlas como ensayos Bernoulli:\n",
    "$$\n",
    "    Y_i | X_i = x_i \\sim \\text{Bernoulli}(p_i)\n",
    "$$\n",
    "donde, por hipótesis, estamos considerando que la probabilidad de éxito de los ensayos es $p_i$, dada por el modelo de regresión logística. Entonces\n",
    "$$\n",
    "    f_{Y|X}(Y_i | X_i = x_i) = p_i ^{y_i} (1-p_i)^{1-y_i}\n",
    "$$\n",
    "por lo que la función de verosimilitud es\n",
    "$$\n",
    "    f_{Y|X}(Y_1 | X_1 = x_1,..., Y_n | X_n = x_n) = \\prod _{i=1} ^n f_{Y|X}(Y_i | X_i = x_i) = \\prod p_i ^{y_i} (1-p_i)^{1-y_i}\n",
    "$$\n",
    "$$\\Rightarrow \\mathcal{L} (\\vec \\beta) = \\prod p_i ^{y_i} (1-p_i)^{1-y_i}$$\n",
    "El estimador máximo verisimil de $\\vec \\beta$ es\n",
    "$$\n",
    "    \\hat \\beta _{ML} = \\text{arg}\\max _{\\vec \\beta \\in \\mathbb{R}^2} \\mathcal{L} (\\vec \\beta)\n",
    "$$\n",
    "Mientras que el error estándar $\\hat{se}$ de $\\hat \\beta _{ML} = (\\hat\\beta_0, \\hat\\beta_1)$ es la diagonal de la inversa de la matriz de información de Fisher\n",
    "$$\n",
    "    \\hat{se}(\\hat \\beta_0) = \\mathbb{E}\\left[\\frac{\\partial ^2}{\\partial \\beta _0 ^2} \\ln\\mathcal{L} (\\vec \\beta)\\right] \\\\\n",
    "    \\hat{se}(\\hat \\beta_1) = \\mathbb{E}\\left[\\frac{\\partial ^2}{\\partial \\beta _1 ^2} \\ln\\mathcal{L} (\\vec \\beta)\\right]\n",
    "$$\n",
    "Para encontrar los valores usaremos el paquete statsmodels de Python\n"
   ]
  },
  {
   "cell_type": "markdown",
   "id": "23624b20",
   "metadata": {},
   "source": [
    "Como el dataset es de R, lo bajamos de internet"
   ]
  },
  {
   "cell_type": "code",
   "execution_count": 24,
   "id": "076faab3",
   "metadata": {},
   "outputs": [
    {
     "data": {
      "text/html": [
       "<div>\n",
       "<style scoped>\n",
       "    .dataframe tbody tr th:only-of-type {\n",
       "        vertical-align: middle;\n",
       "    }\n",
       "\n",
       "    .dataframe tbody tr th {\n",
       "        vertical-align: top;\n",
       "    }\n",
       "\n",
       "    .dataframe thead th {\n",
       "        text-align: right;\n",
       "    }\n",
       "</style>\n",
       "<table border=\"1\" class=\"dataframe\">\n",
       "  <thead>\n",
       "    <tr style=\"text-align: right;\">\n",
       "      <th></th>\n",
       "      <th>o_ring_ct</th>\n",
       "      <th>distress_ct</th>\n",
       "      <th>temperature</th>\n",
       "      <th>pressure</th>\n",
       "      <th>launch_id</th>\n",
       "    </tr>\n",
       "  </thead>\n",
       "  <tbody>\n",
       "    <tr>\n",
       "      <th>0</th>\n",
       "      <td>6</td>\n",
       "      <td>0</td>\n",
       "      <td>66</td>\n",
       "      <td>50</td>\n",
       "      <td>1</td>\n",
       "    </tr>\n",
       "    <tr>\n",
       "      <th>1</th>\n",
       "      <td>6</td>\n",
       "      <td>1</td>\n",
       "      <td>70</td>\n",
       "      <td>50</td>\n",
       "      <td>1</td>\n",
       "    </tr>\n",
       "    <tr>\n",
       "      <th>2</th>\n",
       "      <td>6</td>\n",
       "      <td>0</td>\n",
       "      <td>69</td>\n",
       "      <td>50</td>\n",
       "      <td>3</td>\n",
       "    </tr>\n",
       "    <tr>\n",
       "      <th>3</th>\n",
       "      <td>6</td>\n",
       "      <td>0</td>\n",
       "      <td>68</td>\n",
       "      <td>50</td>\n",
       "      <td>4</td>\n",
       "    </tr>\n",
       "    <tr>\n",
       "      <th>4</th>\n",
       "      <td>6</td>\n",
       "      <td>0</td>\n",
       "      <td>67</td>\n",
       "      <td>50</td>\n",
       "      <td>5</td>\n",
       "    </tr>\n",
       "  </tbody>\n",
       "</table>\n",
       "</div>"
      ],
      "text/plain": [
       "   o_ring_ct  distress_ct  temperature  pressure  launch_id\n",
       "0          6            0           66        50          1\n",
       "1          6            1           70        50          1\n",
       "2          6            0           69        50          3\n",
       "3          6            0           68        50          4\n",
       "4          6            0           67        50          5"
      ]
     },
     "execution_count": 24,
     "metadata": {},
     "output_type": "execute_result"
    }
   ],
   "source": [
    "# Bajamos el dataset de internet\n",
    "url = 'https://raw.githubusercontent.com/stedy/Machine-Learning-with-R-datasets/master/challenger.csv'\n",
    "s = requests.get(url).text\n",
    "\n",
    "dataset = pd.read_csv(StringIO(s))\n",
    "\n",
    "# Preprocesamiento\n",
    "dataset.replace(2, 1, inplace=True)\n",
    "dataset['distress_ct'][20] = 1\n",
    "\n",
    "dataset.head()"
   ]
  },
  {
   "cell_type": "markdown",
   "id": "c02289c1",
   "metadata": {},
   "source": [
    "Una vez preprocesados, nos quedamos con los datos que nos interesan: temperatura e indicador de fallo"
   ]
  },
  {
   "cell_type": "code",
   "execution_count": 25,
   "id": "05c69a28",
   "metadata": {},
   "outputs": [],
   "source": [
    "X = np.array(dataset['temperature']).reshape(-1,1)\n",
    "y = np.array(dataset['distress_ct']).reshape(-1,)"
   ]
  },
  {
   "cell_type": "code",
   "execution_count": 26,
   "id": "881e93ed",
   "metadata": {},
   "outputs": [
    {
     "data": {
      "image/png": "[encoded data removed]",
      "text/plain": [
       "<Figure size 1080x504 with 1 Axes>"
      ]
     },
     "metadata": {
      "needs_background": "light"
     },
     "output_type": "display_data"
    }
   ],
   "source": [
    "plt.figure(figsize=(15,7))\n",
    "plt.scatter(X, y, c=y)\n",
    "plt.xlabel('Temperatura'), plt.ylabel('Indicador de fallo')\n",
    "plt.grid(True);"
   ]
  },
  {
   "cell_type": "markdown",
   "id": "5daecad4",
   "metadata": {},
   "source": [
    "Creamos el vector $X = [1, \\text{Temperatura}]$ y ajustamos el modelo de regresión logística usando máxima verosimilitud."
   ]
  },
  {
   "cell_type": "code",
   "execution_count": 27,
   "id": "4adf5c99",
   "metadata": {},
   "outputs": [
    {
     "name": "stdout",
     "output_type": "stream",
     "text": [
      "Optimization terminated successfully.\n",
      "         Current function value: 0.441635\n",
      "         Iterations 7\n"
     ]
    },
    {
     "data": {
      "text/html": [
       "<table class=\"simpletable\">\n",
       "<caption>Logit Regression Results</caption>\n",
       "<tr>\n",
       "  <th>Dep. Variable:</th>           <td>y</td>        <th>  No. Observations:  </th>  <td>    23</td> \n",
       "</tr>\n",
       "<tr>\n",
       "  <th>Model:</th>                 <td>Logit</td>      <th>  Df Residuals:      </th>  <td>    21</td> \n",
       "</tr>\n",
       "<tr>\n",
       "  <th>Method:</th>                 <td>MLE</td>       <th>  Df Model:          </th>  <td>     1</td> \n",
       "</tr>\n",
       "<tr>\n",
       "  <th>Date:</th>            <td>Sun, 23 Oct 2022</td> <th>  Pseudo R-squ.:     </th>  <td>0.2813</td> \n",
       "</tr>\n",
       "<tr>\n",
       "  <th>Time:</th>                <td>21:46:19</td>     <th>  Log-Likelihood:    </th> <td> -10.158</td>\n",
       "</tr>\n",
       "<tr>\n",
       "  <th>converged:</th>             <td>True</td>       <th>  LL-Null:           </th> <td> -14.134</td>\n",
       "</tr>\n",
       "<tr>\n",
       "  <th>Covariance Type:</th>     <td>nonrobust</td>    <th>  LLR p-value:       </th> <td>0.004804</td>\n",
       "</tr>\n",
       "</table>\n",
       "<table class=\"simpletable\">\n",
       "<tr>\n",
       "    <td></td>       <th>coef</th>     <th>std err</th>      <th>z</th>      <th>P>|z|</th>  <th>[0.025</th>    <th>0.975]</th>  \n",
       "</tr>\n",
       "<tr>\n",
       "  <th>const</th> <td>   15.0429</td> <td>    7.379</td> <td>    2.039</td> <td> 0.041</td> <td>    0.581</td> <td>   29.505</td>\n",
       "</tr>\n",
       "<tr>\n",
       "  <th>x1</th>    <td>   -0.2322</td> <td>    0.108</td> <td>   -2.145</td> <td> 0.032</td> <td>   -0.444</td> <td>   -0.020</td>\n",
       "</tr>\n",
       "</table>"
      ],
      "text/plain": [
       "<class 'statsmodels.iolib.summary.Summary'>\n",
       "\"\"\"\n",
       "                           Logit Regression Results                           \n",
       "==============================================================================\n",
       "Dep. Variable:                      y   No. Observations:                   23\n",
       "Model:                          Logit   Df Residuals:                       21\n",
       "Method:                           MLE   Df Model:                            1\n",
       "Date:                Sun, 23 Oct 2022   Pseudo R-squ.:                  0.2813\n",
       "Time:                        21:46:19   Log-Likelihood:                -10.158\n",
       "converged:                       True   LL-Null:                       -14.134\n",
       "Covariance Type:            nonrobust   LLR p-value:                  0.004804\n",
       "==============================================================================\n",
       "                 coef    std err          z      P>|z|      [0.025      0.975]\n",
       "------------------------------------------------------------------------------\n",
       "const         15.0429      7.379      2.039      0.041       0.581      29.505\n",
       "x1            -0.2322      0.108     -2.145      0.032      -0.444      -0.020\n",
       "==============================================================================\n",
       "\"\"\""
      ]
     },
     "execution_count": 27,
     "metadata": {},
     "output_type": "execute_result"
    }
   ],
   "source": [
    "X = sm.add_constant(X)\n",
    "\n",
    "model = sm.Logit(y, X) # Modelo logit\n",
    "log_reg = model.fit()\n",
    "\n",
    "log_reg.summary()"
   ]
  },
  {
   "cell_type": "markdown",
   "id": "78c47043",
   "metadata": {},
   "source": [
    "Podemos ver que los estimadores máximo verosimiles son:\n",
    "$$\n",
    "    \\hat \\beta _{0 ML}= 15.0429 \\\\\n",
    "    \\hat \\beta_{1ML} = - 0.2322\n",
    "$$\n",
    "Con errores estándar:\n",
    "$$\n",
    "    \\hat{\\text{se}}(\\hat \\beta_{0 ML}) = 7.379 \\\\\n",
    "    \\hat{\\text{se}} (\\hat \\beta_{ 1ML}) = 0.108 \\\\\n",
    "$$\n",
    "A continuación se muestra la gráfica de la regresión"
   ]
  },
  {
   "cell_type": "code",
   "execution_count": 28,
   "id": "bb93d2de",
   "metadata": {},
   "outputs": [
    {
     "data": {
      "image/png": "[encoded data removed]",
      "text/plain": [
       "<Figure size 1080x504 with 1 Axes>"
      ]
     },
     "metadata": {
      "needs_background": "light"
     },
     "output_type": "display_data"
    }
   ],
   "source": [
    "beta0_ML = 15.0429\n",
    "beta1_ML = -0.2322\n",
    "se0_ML = 7.379\n",
    "se1_ML = 0.108\n",
    "\n",
    "x_dom = np.linspace(min(X[:,1]), max(X[:,1]))\n",
    "regresion = lambda beta0, beta1: np.exp(beta0 + beta1*x_dom) / (1 + np.exp(beta0 + beta1*x_dom))\n",
    "\n",
    "plt.figure(figsize=(15,7))\n",
    "plt.plot(x_dom, regresion(beta0_ML, beta1_ML), label='Curva de regresión')\n",
    "plt.scatter(X[:,1], y, c=y)\n",
    "plt.legend(prop={'size': 12})\n",
    "plt.grid(True);"
   ]
  },
  {
   "cell_type": "markdown",
   "id": "bf15f447",
   "metadata": {},
   "source": [
    "2. Suponga que tenemos nuevos datos $X_{test} = \\{ 40, 50, 60\\}$. Queremos calcula la probabilidad de que a estas temperaturas, haya falla\n",
    "$$\n",
    "    \\mathbb{P}(Y=1|X_{test})\n",
    "$$\n"
   ]
  },
  {
   "cell_type": "code",
   "execution_count": 29,
   "id": "ca32028f",
   "metadata": {},
   "outputs": [
    {
     "name": "stdout",
     "output_type": "stream",
     "text": [
      "Temperatura:60\n",
      "Probabilidad de fallo (Máxima verosimilitud) 0.752\n",
      "Temperatura:50\n",
      "Probabilidad de fallo (Máxima verosimilitud) 0.969\n",
      "Temperatura:40\n",
      "Probabilidad de fallo (Máxima verosimilitud) 0.997\n"
     ]
    }
   ],
   "source": [
    "predictor = lambda x, beta0, beta1: np.exp(beta0 + beta1 * x) / (1 + np.exp(beta0 + beta1 * x))\n",
    "\n",
    "X_test = np.array([60, 50, 40])\n",
    "\n",
    "# Predicción usando los parámetros estimados\n",
    "y_pred_ML = predictor(X_test, beta0_ML, beta1_ML)\n",
    "\n",
    "for i in range(len(X_test)):\n",
    "    print(f'Temperatura:{X_test[i]}')\n",
    "    print(f'Probabilidad de fallo (Máxima verosimilitud) {y_pred_ML[i]:.3f}')\n"
   ]
  },
  {
   "cell_type": "markdown",
   "id": "3213f4f3",
   "metadata": {},
   "source": [
    "## Evaluación de parámetros"
   ]
  },
  {
   "cell_type": "markdown",
   "id": "6bd5093c",
   "metadata": {},
   "source": [
    "## Consistencia"
   ]
  },
  {
   "cell_type": "markdown",
   "id": "3f30f699",
   "metadata": {},
   "source": [
    "## Eficiencia asintótica"
   ]
  },
  {
   "cell_type": "code",
   "execution_count": null,
   "id": "723c1588",
   "metadata": {},
   "outputs": [],
   "source": []
  },
  {
   "cell_type": "code",
   "execution_count": null,
   "id": "d931699f",
   "metadata": {},
   "outputs": [],
   "source": []
  },
  {
   "cell_type": "markdown",
   "id": "313fd8f4",
   "metadata": {},
   "source": [
    "## El aprendizaje es estimación de parámetros\n",
    "\n",
    "La idea de hacer estimación puntual es, como ya se dijo, estimar parámetros puntualmete. Esta misma idea es el principio por el cual modelos más robustos (por ejemplo, redes neuronales) funcionan. \n",
    "\n",
    "_Definición (red neuronal completamente conectada):_"
   ]
  },
  {
   "cell_type": "code",
   "execution_count": null,
   "id": "e3a46406",
   "metadata": {},
   "outputs": [],
   "source": []
  },
  {
   "cell_type": "markdown",
   "id": "abc05fee",
   "metadata": {},
   "source": [
    "# Referencias\n",
    "\n",
    "[1]. Devore, Berk and Carlton. Modern Mathematical Statistics with Applications. Springer.\n",
    "\n",
    "[2]. https://towardsdatascience.com/inroduction-to-neural-networks-in-python-7e0b422e6c24"
   ]
  },
  {
   "cell_type": "code",
   "execution_count": null,
   "id": "35bdde33",
   "metadata": {},
   "outputs": [],
   "source": []
  }
 ],
 "metadata": {
  "kernelspec": {
   "display_name": "Python 3 (ipykernel)",
   "language": "python",
   "name": "python3"
  },
  "language_info": {
   "codemirror_mode": {
    "name": "ipython",
    "version": 3
   },
   "file_extension": ".py",
   "mimetype": "text/x-python",
   "name": "python",
   "nbconvert_exporter": "python",
   "pygments_lexer": "ipython3",
   "version": "3.10.6"
  }
 },
 "nbformat": 4,
 "nbformat_minor": 5
}
