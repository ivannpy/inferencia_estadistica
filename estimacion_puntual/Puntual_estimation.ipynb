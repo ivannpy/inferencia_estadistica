{
 "cells": [
  {
   "cell_type": "markdown",
   "id": "21c0763d",
   "metadata": {},
   "source": [
    "# Estimación puntual"
   ]
  },
  {
   "cell_type": "markdown",
   "id": "fb7519bc",
   "metadata": {},
   "source": [
    "En este notebook ejemplificaremos la mayoría de los conceptos sobre _Estadísticas y distribuciones muestrales_, y _Estimación puntual_ vistos en el curso. La intención es que este material sea autocontenido y les ayude a reforzar sus conocimientos en los temas antes mencionados.\n",
    "\n",
    "Este notebook se encuentra alojado en [GitHub](https://github.com/ivannpy/inferencia_estadistica).\n",
    "\n",
    "Autor: Jorge Iván Reyes Hernández."
   ]
  },
  {
   "cell_type": "code",
   "execution_count": 1,
   "id": "05e4bc45",
   "metadata": {},
   "outputs": [],
   "source": [
    "import numpy as np\n",
    "import scipy.stats as stats\n",
    "from utils import *\n",
    "\n",
    "np.set_printoptions(precision=2)"
   ]
  },
  {
   "cell_type": "markdown",
   "id": "703aa916",
   "metadata": {},
   "source": [
    "## Introducción\n",
    "\n"
   ]
  },
  {
   "cell_type": "markdown",
   "id": "f2bc9907",
   "metadata": {},
   "source": [
    "## Sobre cómo implementar las estadísticas\n",
    "\n",
    "Por definición, una estadística es una función medible que solo depende de la muestra aleatoria $X_1, \\dots X_n$ y no de parámetros desconocidos. Usaremos las funciones de Python para implementar las estadísticas.\n",
    "\n",
    "Por ejemplo, la implementación de la estadística\n",
    "$$\n",
    " T_1(X_1, \\dots, X_n) = \\frac{1}{n} \\sum _{i=1}^{n} X_i\n",
    "$$\n",
    "es\n",
    "\n",
    "    def T_1(X):\n",
    "        \"\"\" Calcula la media muestral de una muestra aleatoria X=(X_1,...X_n)\n",
    "        :param X: X es un arreglo de Numpy.\n",
    "        :return: La media aritmética de las entradas del vector X.\n",
    "        \"\"\"\n",
    "        n = X.size\n",
    "        sum_ = X.sum()\n",
    "        \n",
    "        return sum_ / n\n",
    "\n",
    "o de manera más compacta,\n",
    "\n",
    "    def T_1(X):\n",
    "        \"\"\" Calcula la media muestral de una muestra aleatoria X=(X_1,...X_n)\n",
    "        :param X: X es un arreglo de Numpy.\n",
    "        :return: La media aritmética de las entradas del vector X.\n",
    "        \"\"\"\n",
    "        return X.mean()\n",
    "        \n",
    "La implementación de la estadística\n",
    "$$\n",
    " T_2(X_1, \\dots, X_n) = \\bigg( \\frac{1}{n} \\sum _{i=1}^{n} X_i, \\frac{1}{n-1} \\sum_{i=1}^{n}(X_i - \\bar{X}) \\bigg)\n",
    "$$\n",
    "es\n",
    "\n",
    "    def T_2(X):\n",
    "        \"\"\" Calcula la media muestral y la estadística S^2.\n",
    "        :param X: X es un arreglo de Numpy.\n",
    "        :return: (media, s^2)\n",
    "        \"\"\"\n",
    "        t_1 = X.mean()\n",
    "        coef = 1 / (X.size - 1)\n",
    "        t_2 = coef * ((X - X.mean()) ** 2).sum()\n",
    "        \n",
    "        return t_1, t_2\n",
    "        \n",
    "Ejemplo:"
   ]
  },
  {
   "cell_type": "code",
   "execution_count": 2,
   "id": "19fa7895",
   "metadata": {},
   "outputs": [],
   "source": [
    "# Leemos los datos de una muestra aleatoria\n",
    "\n",
    "sample = load_data(\"ejemplo_estadisticas.csv\")"
   ]
  },
  {
   "cell_type": "code",
   "execution_count": 3,
   "id": "75a53aff",
   "metadata": {
    "scrolled": true
   },
   "outputs": [
    {
     "name": "stdout",
     "output_type": "stream",
     "text": [
      "Realización de la muestra aleatoria.\n",
      "Tamaño de la muestra: 100.\n"
     ]
    },
    {
     "data": {
      "text/latex": [
       "$x_{1}$ = 4.49"
      ],
      "text/plain": [
       "<IPython.core.display.Latex object>"
      ]
     },
     "metadata": {},
     "output_type": "display_data"
    },
    {
     "data": {
      "text/latex": [
       "$x_{2}$ = -1.91"
      ],
      "text/plain": [
       "<IPython.core.display.Latex object>"
      ]
     },
     "metadata": {},
     "output_type": "display_data"
    },
    {
     "data": {
      "text/latex": [
       "$x_{3}$ = 8.77"
      ],
      "text/plain": [
       "<IPython.core.display.Latex object>"
      ]
     },
     "metadata": {},
     "output_type": "display_data"
    },
    {
     "data": {
      "text/latex": [
       "$x_{4}$ = -8.64"
      ],
      "text/plain": [
       "<IPython.core.display.Latex object>"
      ]
     },
     "metadata": {},
     "output_type": "display_data"
    },
    {
     "data": {
      "text/latex": [
       "$x_{5}$ = 0.39"
      ],
      "text/plain": [
       "<IPython.core.display.Latex object>"
      ]
     },
     "metadata": {},
     "output_type": "display_data"
    },
    {
     "data": {
      "text/latex": [
       "$x_{6}$ = 3.98"
      ],
      "text/plain": [
       "<IPython.core.display.Latex object>"
      ]
     },
     "metadata": {},
     "output_type": "display_data"
    },
    {
     "data": {
      "text/latex": [
       "$x_{7}$ = -1.22"
      ],
      "text/plain": [
       "<IPython.core.display.Latex object>"
      ]
     },
     "metadata": {},
     "output_type": "display_data"
    },
    {
     "data": {
      "text/latex": [
       "$x_{8}$ = 2.57"
      ],
      "text/plain": [
       "<IPython.core.display.Latex object>"
      ]
     },
     "metadata": {},
     "output_type": "display_data"
    },
    {
     "data": {
      "text/latex": [
       "$x_{9}$ = 3.61"
      ],
      "text/plain": [
       "<IPython.core.display.Latex object>"
      ]
     },
     "metadata": {},
     "output_type": "display_data"
    },
    {
     "data": {
      "text/latex": [
       "$x_{10}$ = 5.04"
      ],
      "text/plain": [
       "<IPython.core.display.Latex object>"
      ]
     },
     "metadata": {},
     "output_type": "display_data"
    },
    {
     "data": {
      "text/latex": [
       "$x_{11}$ = -0.09"
      ],
      "text/plain": [
       "<IPython.core.display.Latex object>"
      ]
     },
     "metadata": {},
     "output_type": "display_data"
    },
    {
     "data": {
      "text/latex": [
       "$x_{12}$ = -6.31"
      ],
      "text/plain": [
       "<IPython.core.display.Latex object>"
      ]
     },
     "metadata": {},
     "output_type": "display_data"
    },
    {
     "data": {
      "text/latex": [
       "$x_{13}$ = -7.22"
      ],
      "text/plain": [
       "<IPython.core.display.Latex object>"
      ]
     },
     "metadata": {},
     "output_type": "display_data"
    },
    {
     "data": {
      "text/latex": [
       "$x_{14}$ = 6.99"
      ],
      "text/plain": [
       "<IPython.core.display.Latex object>"
      ]
     },
     "metadata": {},
     "output_type": "display_data"
    },
    {
     "data": {
      "text/latex": [
       "$x_{15}$ = -0.28"
      ],
      "text/plain": [
       "<IPython.core.display.Latex object>"
      ]
     },
     "metadata": {},
     "output_type": "display_data"
    },
    {
     "data": {
      "text/latex": [
       "$x_{16}$ = -2.73"
      ],
      "text/plain": [
       "<IPython.core.display.Latex object>"
      ]
     },
     "metadata": {},
     "output_type": "display_data"
    },
    {
     "data": {
      "text/latex": [
       "$x_{17}$ = 1.72"
      ],
      "text/plain": [
       "<IPython.core.display.Latex object>"
      ]
     },
     "metadata": {},
     "output_type": "display_data"
    },
    {
     "data": {
      "text/latex": [
       "$x_{18}$ = -4.9"
      ],
      "text/plain": [
       "<IPython.core.display.Latex object>"
      ]
     },
     "metadata": {},
     "output_type": "display_data"
    },
    {
     "data": {
      "text/latex": [
       "$x_{19}$ = -3.88"
      ],
      "text/plain": [
       "<IPython.core.display.Latex object>"
      ]
     },
     "metadata": {},
     "output_type": "display_data"
    },
    {
     "data": {
      "text/latex": [
       "$x_{20}$ = -2.61"
      ],
      "text/plain": [
       "<IPython.core.display.Latex object>"
      ]
     },
     "metadata": {},
     "output_type": "display_data"
    },
    {
     "data": {
      "text/latex": [
       "$x_{21}$ = 3.58"
      ],
      "text/plain": [
       "<IPython.core.display.Latex object>"
      ]
     },
     "metadata": {},
     "output_type": "display_data"
    },
    {
     "data": {
      "text/latex": [
       "$x_{22}$ = -0.52"
      ],
      "text/plain": [
       "<IPython.core.display.Latex object>"
      ]
     },
     "metadata": {},
     "output_type": "display_data"
    },
    {
     "data": {
      "text/latex": [
       "$x_{23}$ = 4.63"
      ],
      "text/plain": [
       "<IPython.core.display.Latex object>"
      ]
     },
     "metadata": {},
     "output_type": "display_data"
    },
    {
     "data": {
      "text/latex": [
       "$x_{24}$ = 0.26"
      ],
      "text/plain": [
       "<IPython.core.display.Latex object>"
      ]
     },
     "metadata": {},
     "output_type": "display_data"
    },
    {
     "data": {
      "text/latex": [
       "$x_{25}$ = 3.92"
      ],
      "text/plain": [
       "<IPython.core.display.Latex object>"
      ]
     },
     "metadata": {},
     "output_type": "display_data"
    },
    {
     "data": {
      "text/latex": [
       "$x_{26}$ = 1.98"
      ],
      "text/plain": [
       "<IPython.core.display.Latex object>"
      ]
     },
     "metadata": {},
     "output_type": "display_data"
    },
    {
     "data": {
      "text/latex": [
       "$x_{27}$ = 0.31"
      ],
      "text/plain": [
       "<IPython.core.display.Latex object>"
      ]
     },
     "metadata": {},
     "output_type": "display_data"
    },
    {
     "data": {
      "text/latex": [
       "$x_{28}$ = -2.34"
      ],
      "text/plain": [
       "<IPython.core.display.Latex object>"
      ]
     },
     "metadata": {},
     "output_type": "display_data"
    },
    {
     "data": {
      "text/latex": [
       "$x_{29}$ = -3.46"
      ],
      "text/plain": [
       "<IPython.core.display.Latex object>"
      ]
     },
     "metadata": {},
     "output_type": "display_data"
    },
    {
     "data": {
      "text/latex": [
       "$x_{30}$ = -2.55"
      ],
      "text/plain": [
       "<IPython.core.display.Latex object>"
      ]
     },
     "metadata": {},
     "output_type": "display_data"
    },
    {
     "data": {
      "text/latex": [
       "$x_{31}$ = 1.72"
      ],
      "text/plain": [
       "<IPython.core.display.Latex object>"
      ]
     },
     "metadata": {},
     "output_type": "display_data"
    },
    {
     "data": {
      "text/latex": [
       "$x_{32}$ = 0.38"
      ],
      "text/plain": [
       "<IPython.core.display.Latex object>"
      ]
     },
     "metadata": {},
     "output_type": "display_data"
    },
    {
     "data": {
      "text/latex": [
       "$x_{33}$ = 1.02"
      ],
      "text/plain": [
       "<IPython.core.display.Latex object>"
      ]
     },
     "metadata": {},
     "output_type": "display_data"
    },
    {
     "data": {
      "text/latex": [
       "$x_{34}$ = -5.27"
      ],
      "text/plain": [
       "<IPython.core.display.Latex object>"
      ]
     },
     "metadata": {},
     "output_type": "display_data"
    },
    {
     "data": {
      "text/latex": [
       "$x_{35}$ = -2.78"
      ],
      "text/plain": [
       "<IPython.core.display.Latex object>"
      ]
     },
     "metadata": {},
     "output_type": "display_data"
    },
    {
     "data": {
      "text/latex": [
       "$x_{36}$ = 0.74"
      ],
      "text/plain": [
       "<IPython.core.display.Latex object>"
      ]
     },
     "metadata": {},
     "output_type": "display_data"
    },
    {
     "data": {
      "text/latex": [
       "$x_{37}$ = -6.11"
      ],
      "text/plain": [
       "<IPython.core.display.Latex object>"
      ]
     },
     "metadata": {},
     "output_type": "display_data"
    },
    {
     "data": {
      "text/latex": [
       "$x_{38}$ = 0.03"
      ],
      "text/plain": [
       "<IPython.core.display.Latex object>"
      ]
     },
     "metadata": {},
     "output_type": "display_data"
    },
    {
     "data": {
      "text/latex": [
       "$x_{39}$ = 2.11"
      ],
      "text/plain": [
       "<IPython.core.display.Latex object>"
      ]
     },
     "metadata": {},
     "output_type": "display_data"
    },
    {
     "data": {
      "text/latex": [
       "$x_{40}$ = -7.86"
      ],
      "text/plain": [
       "<IPython.core.display.Latex object>"
      ]
     },
     "metadata": {},
     "output_type": "display_data"
    },
    {
     "data": {
      "text/latex": [
       "$x_{41}$ = 3.86"
      ],
      "text/plain": [
       "<IPython.core.display.Latex object>"
      ]
     },
     "metadata": {},
     "output_type": "display_data"
    },
    {
     "data": {
      "text/latex": [
       "$x_{42}$ = 1.16"
      ],
      "text/plain": [
       "<IPython.core.display.Latex object>"
      ]
     },
     "metadata": {},
     "output_type": "display_data"
    },
    {
     "data": {
      "text/latex": [
       "$x_{43}$ = 4.43"
      ],
      "text/plain": [
       "<IPython.core.display.Latex object>"
      ]
     },
     "metadata": {},
     "output_type": "display_data"
    },
    {
     "data": {
      "text/latex": [
       "$x_{44}$ = 0.68"
      ],
      "text/plain": [
       "<IPython.core.display.Latex object>"
      ]
     },
     "metadata": {},
     "output_type": "display_data"
    },
    {
     "data": {
      "text/latex": [
       "$x_{45}$ = -1.6"
      ],
      "text/plain": [
       "<IPython.core.display.Latex object>"
      ]
     },
     "metadata": {},
     "output_type": "display_data"
    },
    {
     "data": {
      "text/latex": [
       "$x_{46}$ = 5.75"
      ],
      "text/plain": [
       "<IPython.core.display.Latex object>"
      ]
     },
     "metadata": {},
     "output_type": "display_data"
    },
    {
     "data": {
      "text/latex": [
       "$x_{47}$ = 2.25"
      ],
      "text/plain": [
       "<IPython.core.display.Latex object>"
      ]
     },
     "metadata": {},
     "output_type": "display_data"
    },
    {
     "data": {
      "text/latex": [
       "$x_{48}$ = 5.45"
      ],
      "text/plain": [
       "<IPython.core.display.Latex object>"
      ]
     },
     "metadata": {},
     "output_type": "display_data"
    },
    {
     "data": {
      "text/latex": [
       "$x_{49}$ = 2.02"
      ],
      "text/plain": [
       "<IPython.core.display.Latex object>"
      ]
     },
     "metadata": {},
     "output_type": "display_data"
    },
    {
     "data": {
      "text/latex": [
       "$x_{50}$ = 3.01"
      ],
      "text/plain": [
       "<IPython.core.display.Latex object>"
      ]
     },
     "metadata": {},
     "output_type": "display_data"
    },
    {
     "data": {
      "text/latex": [
       "$x_{51}$ = -0.64"
      ],
      "text/plain": [
       "<IPython.core.display.Latex object>"
      ]
     },
     "metadata": {},
     "output_type": "display_data"
    },
    {
     "data": {
      "text/latex": [
       "$x_{52}$ = -8.74"
      ],
      "text/plain": [
       "<IPython.core.display.Latex object>"
      ]
     },
     "metadata": {},
     "output_type": "display_data"
    },
    {
     "data": {
      "text/latex": [
       "$x_{53}$ = 1.82"
      ],
      "text/plain": [
       "<IPython.core.display.Latex object>"
      ]
     },
     "metadata": {},
     "output_type": "display_data"
    },
    {
     "data": {
      "text/latex": [
       "$x_{54}$ = -0.6"
      ],
      "text/plain": [
       "<IPython.core.display.Latex object>"
      ]
     },
     "metadata": {},
     "output_type": "display_data"
    },
    {
     "data": {
      "text/latex": [
       "$x_{55}$ = 0.83"
      ],
      "text/plain": [
       "<IPython.core.display.Latex object>"
      ]
     },
     "metadata": {},
     "output_type": "display_data"
    },
    {
     "data": {
      "text/latex": [
       "$x_{56}$ = -4.36"
      ],
      "text/plain": [
       "<IPython.core.display.Latex object>"
      ]
     },
     "metadata": {},
     "output_type": "display_data"
    },
    {
     "data": {
      "text/latex": [
       "$x_{57}$ = -0.3"
      ],
      "text/plain": [
       "<IPython.core.display.Latex object>"
      ]
     },
     "metadata": {},
     "output_type": "display_data"
    },
    {
     "data": {
      "text/latex": [
       "$x_{58}$ = 7.03"
      ],
      "text/plain": [
       "<IPython.core.display.Latex object>"
      ]
     },
     "metadata": {},
     "output_type": "display_data"
    },
    {
     "data": {
      "text/latex": [
       "$x_{59}$ = 3.18"
      ],
      "text/plain": [
       "<IPython.core.display.Latex object>"
      ]
     },
     "metadata": {},
     "output_type": "display_data"
    },
    {
     "data": {
      "text/latex": [
       "$x_{60}$ = -5.1"
      ],
      "text/plain": [
       "<IPython.core.display.Latex object>"
      ]
     },
     "metadata": {},
     "output_type": "display_data"
    },
    {
     "data": {
      "text/latex": [
       "$x_{61}$ = -2.14"
      ],
      "text/plain": [
       "<IPython.core.display.Latex object>"
      ]
     },
     "metadata": {},
     "output_type": "display_data"
    },
    {
     "data": {
      "text/latex": [
       "$x_{62}$ = -2.97"
      ],
      "text/plain": [
       "<IPython.core.display.Latex object>"
      ]
     },
     "metadata": {},
     "output_type": "display_data"
    },
    {
     "data": {
      "text/latex": [
       "$x_{63}$ = -0.04"
      ],
      "text/plain": [
       "<IPython.core.display.Latex object>"
      ]
     },
     "metadata": {},
     "output_type": "display_data"
    },
    {
     "data": {
      "text/latex": [
       "$x_{64}$ = 2.25"
      ],
      "text/plain": [
       "<IPython.core.display.Latex object>"
      ]
     },
     "metadata": {},
     "output_type": "display_data"
    },
    {
     "data": {
      "text/latex": [
       "$x_{65}$ = -6.44"
      ],
      "text/plain": [
       "<IPython.core.display.Latex object>"
      ]
     },
     "metadata": {},
     "output_type": "display_data"
    },
    {
     "data": {
      "text/latex": [
       "$x_{66}$ = -0.35"
      ],
      "text/plain": [
       "<IPython.core.display.Latex object>"
      ]
     },
     "metadata": {},
     "output_type": "display_data"
    },
    {
     "data": {
      "text/latex": [
       "$x_{67}$ = -1.43"
      ],
      "text/plain": [
       "<IPython.core.display.Latex object>"
      ]
     },
     "metadata": {},
     "output_type": "display_data"
    },
    {
     "data": {
      "text/latex": [
       "$x_{68}$ = 4.15"
      ],
      "text/plain": [
       "<IPython.core.display.Latex object>"
      ]
     },
     "metadata": {},
     "output_type": "display_data"
    },
    {
     "data": {
      "text/latex": [
       "$x_{69}$ = 7.21"
      ],
      "text/plain": [
       "<IPython.core.display.Latex object>"
      ]
     },
     "metadata": {},
     "output_type": "display_data"
    },
    {
     "data": {
      "text/latex": [
       "$x_{70}$ = 0.5"
      ],
      "text/plain": [
       "<IPython.core.display.Latex object>"
      ]
     },
     "metadata": {},
     "output_type": "display_data"
    },
    {
     "data": {
      "text/latex": [
       "$x_{71}$ = 2.21"
      ],
      "text/plain": [
       "<IPython.core.display.Latex object>"
      ]
     },
     "metadata": {},
     "output_type": "display_data"
    },
    {
     "data": {
      "text/latex": [
       "$x_{72}$ = -3.06"
      ],
      "text/plain": [
       "<IPython.core.display.Latex object>"
      ]
     },
     "metadata": {},
     "output_type": "display_data"
    },
    {
     "data": {
      "text/latex": [
       "$x_{73}$ = -1.35"
      ],
      "text/plain": [
       "<IPython.core.display.Latex object>"
      ]
     },
     "metadata": {},
     "output_type": "display_data"
    },
    {
     "data": {
      "text/latex": [
       "$x_{74}$ = -5.78"
      ],
      "text/plain": [
       "<IPython.core.display.Latex object>"
      ]
     },
     "metadata": {},
     "output_type": "display_data"
    },
    {
     "data": {
      "text/latex": [
       "$x_{75}$ = -3.95"
      ],
      "text/plain": [
       "<IPython.core.display.Latex object>"
      ]
     },
     "metadata": {},
     "output_type": "display_data"
    },
    {
     "data": {
      "text/latex": [
       "$x_{76}$ = 3.89"
      ],
      "text/plain": [
       "<IPython.core.display.Latex object>"
      ]
     },
     "metadata": {},
     "output_type": "display_data"
    },
    {
     "data": {
      "text/latex": [
       "$x_{77}$ = -5.69"
      ],
      "text/plain": [
       "<IPython.core.display.Latex object>"
      ]
     },
     "metadata": {},
     "output_type": "display_data"
    },
    {
     "data": {
      "text/latex": [
       "$x_{78}$ = 6.4"
      ],
      "text/plain": [
       "<IPython.core.display.Latex object>"
      ]
     },
     "metadata": {},
     "output_type": "display_data"
    },
    {
     "data": {
      "text/latex": [
       "$x_{79}$ = 0.14"
      ],
      "text/plain": [
       "<IPython.core.display.Latex object>"
      ]
     },
     "metadata": {},
     "output_type": "display_data"
    },
    {
     "data": {
      "text/latex": [
       "$x_{80}$ = 12.19"
      ],
      "text/plain": [
       "<IPython.core.display.Latex object>"
      ]
     },
     "metadata": {},
     "output_type": "display_data"
    },
    {
     "data": {
      "text/latex": [
       "$x_{81}$ = 0.17"
      ],
      "text/plain": [
       "<IPython.core.display.Latex object>"
      ]
     },
     "metadata": {},
     "output_type": "display_data"
    },
    {
     "data": {
      "text/latex": [
       "$x_{82}$ = 8.47"
      ],
      "text/plain": [
       "<IPython.core.display.Latex object>"
      ]
     },
     "metadata": {},
     "output_type": "display_data"
    },
    {
     "data": {
      "text/latex": [
       "$x_{83}$ = 2.94"
      ],
      "text/plain": [
       "<IPython.core.display.Latex object>"
      ]
     },
     "metadata": {},
     "output_type": "display_data"
    },
    {
     "data": {
      "text/latex": [
       "$x_{84}$ = 4.01"
      ],
      "text/plain": [
       "<IPython.core.display.Latex object>"
      ]
     },
     "metadata": {},
     "output_type": "display_data"
    },
    {
     "data": {
      "text/latex": [
       "$x_{85}$ = -2.01"
      ],
      "text/plain": [
       "<IPython.core.display.Latex object>"
      ]
     },
     "metadata": {},
     "output_type": "display_data"
    },
    {
     "data": {
      "text/latex": [
       "$x_{86}$ = -0.87"
      ],
      "text/plain": [
       "<IPython.core.display.Latex object>"
      ]
     },
     "metadata": {},
     "output_type": "display_data"
    },
    {
     "data": {
      "text/latex": [
       "$x_{87}$ = 9.91"
      ],
      "text/plain": [
       "<IPython.core.display.Latex object>"
      ]
     },
     "metadata": {},
     "output_type": "display_data"
    },
    {
     "data": {
      "text/latex": [
       "$x_{88}$ = 1.58"
      ],
      "text/plain": [
       "<IPython.core.display.Latex object>"
      ]
     },
     "metadata": {},
     "output_type": "display_data"
    },
    {
     "data": {
      "text/latex": [
       "$x_{89}$ = 8.18"
      ],
      "text/plain": [
       "<IPython.core.display.Latex object>"
      ]
     },
     "metadata": {},
     "output_type": "display_data"
    },
    {
     "data": {
      "text/latex": [
       "$x_{90}$ = 0.72"
      ],
      "text/plain": [
       "<IPython.core.display.Latex object>"
      ]
     },
     "metadata": {},
     "output_type": "display_data"
    },
    {
     "data": {
      "text/latex": [
       "$x_{91}$ = 0.09"
      ],
      "text/plain": [
       "<IPython.core.display.Latex object>"
      ]
     },
     "metadata": {},
     "output_type": "display_data"
    },
    {
     "data": {
      "text/latex": [
       "$x_{92}$ = 9.44"
      ],
      "text/plain": [
       "<IPython.core.display.Latex object>"
      ]
     },
     "metadata": {},
     "output_type": "display_data"
    },
    {
     "data": {
      "text/latex": [
       "$x_{93}$ = -0.66"
      ],
      "text/plain": [
       "<IPython.core.display.Latex object>"
      ]
     },
     "metadata": {},
     "output_type": "display_data"
    },
    {
     "data": {
      "text/latex": [
       "$x_{94}$ = 6.13"
      ],
      "text/plain": [
       "<IPython.core.display.Latex object>"
      ]
     },
     "metadata": {},
     "output_type": "display_data"
    },
    {
     "data": {
      "text/latex": [
       "$x_{95}$ = 0.63"
      ],
      "text/plain": [
       "<IPython.core.display.Latex object>"
      ]
     },
     "metadata": {},
     "output_type": "display_data"
    },
    {
     "data": {
      "text/latex": [
       "$x_{96}$ = 0.07"
      ],
      "text/plain": [
       "<IPython.core.display.Latex object>"
      ]
     },
     "metadata": {},
     "output_type": "display_data"
    },
    {
     "data": {
      "text/latex": [
       "$x_{97}$ = 1.8"
      ],
      "text/plain": [
       "<IPython.core.display.Latex object>"
      ]
     },
     "metadata": {},
     "output_type": "display_data"
    },
    {
     "data": {
      "text/latex": [
       "$x_{98}$ = -0.45"
      ],
      "text/plain": [
       "<IPython.core.display.Latex object>"
      ]
     },
     "metadata": {},
     "output_type": "display_data"
    },
    {
     "data": {
      "text/latex": [
       "$x_{99}$ = -9.2"
      ],
      "text/plain": [
       "<IPython.core.display.Latex object>"
      ]
     },
     "metadata": {},
     "output_type": "display_data"
    },
    {
     "data": {
      "text/latex": [
       "$x_{100}$ = -0.13"
      ],
      "text/plain": [
       "<IPython.core.display.Latex object>"
      ]
     },
     "metadata": {},
     "output_type": "display_data"
    }
   ],
   "source": [
    "print_pretty_sample(sample)"
   ]
  },
  {
   "cell_type": "code",
   "execution_count": null,
   "id": "550a50d4",
   "metadata": {},
   "outputs": [],
   "source": []
  },
  {
   "cell_type": "code",
   "execution_count": 4,
   "id": "caa1504b",
   "metadata": {},
   "outputs": [],
   "source": [
    "def T_1(X):\n",
    "        \"\"\" Calcula la media muestral de una muestra aleatoria X=(X_1,...X_n)\n",
    "        :param X: X es un arreglo de Numpy.\n",
    "        :return: La media aritmética de las entradas del vector X.\n",
    "        \"\"\"\n",
    "\n",
    "        return around2(X.mean())\n",
    "    \n",
    "def T_2(X):\n",
    "        \"\"\" Calcula la media muestral y la estadística S^2.\n",
    "        :param X: X es un arreglo de Numpy.\n",
    "        :return: (media, s^2)\n",
    "        \"\"\"\n",
    "\n",
    "        t_1 = X.mean()\n",
    "        coef = 1 / (X.size - 1)\n",
    "        t_2 = coef * ((X - X.mean()) ** 2).sum()\n",
    "        \n",
    "        return around2(t_1), around2(t_2)"
   ]
  },
  {
   "cell_type": "code",
   "execution_count": 5,
   "id": "963b2cc1",
   "metadata": {},
   "outputs": [
    {
     "name": "stdout",
     "output_type": "stream",
     "text": [
      "0.54\n"
     ]
    }
   ],
   "source": [
    "print(T_1(sample))"
   ]
  },
  {
   "cell_type": "code",
   "execution_count": 6,
   "id": "1cb9144c",
   "metadata": {},
   "outputs": [
    {
     "data": {
      "text/plain": [
       "(0.54, 18.7)"
      ]
     },
     "execution_count": 6,
     "metadata": {},
     "output_type": "execute_result"
    }
   ],
   "source": [
    "T_2(sample)"
   ]
  },
  {
   "cell_type": "markdown",
   "id": "8a435739",
   "metadata": {},
   "source": [
    "## Sobre el proceso de generación de muestras\n",
    "\n",
    "Durante el curso siempre suponemos que tenemos (al menos) una muestra aleatoria, es decir, un conjunto de $n$ variables aleatorias independientes e idénticamente distribuidas\n",
    "$$\n",
    "    X_1, \\dots X_n \\sim F_{\\vec{\\theta}}\n",
    "$$\n",
    "donde $F_{\\vec{\\theta}}$ es un modelo de probabilidad paramétrico. Note que las $X_{i}$'s son variables aleatorias, pero en la práctica realmente tenemos realizaciones de estas variables aleatorias $x_1, \\dots x_n$. A lo largo de este Notebook trabajaremos con las realizaciones de variables aleatorias (es decir, con números reales) pero hay que recordar que existe un modelo de probabilidad subyacente.\n",
    "\n",
    "\n",
    "Recordemos que en probabilidad partimos de un modelo de probabilidad, $F$, conocido, y de este podemos obtener números que sigan esta distribución o ley de probabilidad. En estadística es al revés: inicialmente tenemos un conjunto de datos, por ejemplo\n",
    "\n",
    "$$\n",
    "   C = \\{ -2.82, 1.90, 1.20, -1.22, 0.04, 0.07, 3.78, -6.46, -3.78,  1.07 \\}\n",
    "$$\n",
    "\n",
    "y suponemos que existe un modelo de probabilidad paramétrico, $F_{\\vec{\\theta}}$. La elección del modelo se hace, en parte, haciendo un análisis exploratorio de datos (EDA) o por algún otro conocimiento previo del experimento que dio origen a los datos. En este caso, podemos suponer que el conjunto de datos $C$ proviene (o fue muestreado) de una población $F_{\\mu,\\sigma^{2}} = \\mathcal{N}(\\mu, \\sigma ^{2})$. Note que los valores de la media y la varianza son, en principio, desconocidos; el objetivo de la estimación puntual es estimar puntualmente (es decir, con un único número) cada uno de esos parámetros usando la información contenida en la muestra $C$.\n",
    "\n",
    "En lo sucesivo, partiremos de un conjunto de datos, $C$, que leeremos desde un archivo _.csv_, y diremos de qué modelo de probabilidad paramétrico fue muestreado, sin decir el valor de los parámetros (aunque estos son conocidos, de otra forma no se habrían podido simular computacionalmente).\n"
   ]
  },
  {
   "cell_type": "code",
   "execution_count": null,
   "id": "ea654ae7",
   "metadata": {},
   "outputs": [],
   "source": []
  },
  {
   "cell_type": "code",
   "execution_count": null,
   "id": "7fb9ac61",
   "metadata": {},
   "outputs": [],
   "source": []
  }
 ],
 "metadata": {
  "kernelspec": {
   "display_name": "Python 3 (ipykernel)",
   "language": "python",
   "name": "python3"
  },
  "language_info": {
   "codemirror_mode": {
    "name": "ipython",
    "version": 3
   },
   "file_extension": ".py",
   "mimetype": "text/x-python",
   "name": "python",
   "nbconvert_exporter": "python",
   "pygments_lexer": "ipython3",
   "version": "3.10.6"
  }
 },
 "nbformat": 4,
 "nbformat_minor": 5
}
