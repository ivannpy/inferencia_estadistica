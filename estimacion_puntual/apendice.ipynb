{
 "cells": [
  {
   "cell_type": "markdown",
   "id": "45727564",
   "metadata": {},
   "source": [
    "## Sobre cómo implementar las estadísticas\n",
    "\n",
    "Por definición, una estadística es una función medible que solo depende de la muestra aleatoria $X_1, \\dots X_n$ y no de parámetros desconocidos. Usaremos las funciones de Python para implementar las estadísticas.\n",
    "\n",
    "Por ejemplo, la implementación de la estadística\n",
    "$$\n",
    " T_1(X_1, \\dots, X_n) = \\frac{1}{n} \\sum _{i=1}^{n} X_i\n",
    "$$\n",
    "es\n",
    "\n",
    "    def T_1(X):\n",
    "        \"\"\" Calcula la media muestral de una muestra aleatoria X=(X_1,...X_n)\n",
    "        :param X: X es un arreglo de Numpy.\n",
    "        :return: La media aritmética de las entradas del vector X.\n",
    "        \"\"\"\n",
    "        n = X.size\n",
    "        sum_ = X.sum()\n",
    "        \n",
    "        return sum_ / n\n",
    "\n",
    "o de manera más compacta,\n",
    "\n",
    "    def T_1(X):\n",
    "        \"\"\" Calcula la media muestral de una muestra aleatoria X=(X_1,...X_n)\n",
    "        :param X: X es un arreglo de Numpy.\n",
    "        :return: La media aritmética de las entradas del vector X.\n",
    "        \"\"\"\n",
    "        return X.mean()\n",
    "        \n",
    "La implementación de la estadística\n",
    "$$\n",
    " T_2(X_1, \\dots, X_n) = \\bigg( \\frac{1}{n} \\sum _{i=1}^{n} X_i, \\frac{1}{n-1} \\sum_{i=1}^{n}(X_i - \\bar{X}) \\bigg)\n",
    "$$\n",
    "es\n",
    "\n",
    "    def T_2(X):\n",
    "        \"\"\" Calcula la media muestral y la estadística S^2.\n",
    "        :param X: X es un arreglo de Numpy.\n",
    "        :return: (media, s^2)\n",
    "        \"\"\"\n",
    "        t_1 = X.mean()\n",
    "        coef = 1 / (X.size - 1)\n",
    "        t_2 = coef * ((X - X.mean()) ** 2).sum()\n",
    "        \n",
    "        return t_1, t_2\n",
    "        \n",
    "Ejemplo:"
   ]
  },
  {
   "cell_type": "code",
   "execution_count": null,
   "id": "0cbad935",
   "metadata": {},
   "outputs": [],
   "source": [
    "# Leemos los datos de una muestra aleatoria\n",
    "\n",
    "sample = load_data(\"ejemplo_estadisticas.csv\")"
   ]
  },
  {
   "cell_type": "code",
   "execution_count": null,
   "id": "ca71cffc",
   "metadata": {},
   "outputs": [],
   "source": [
    "print_pretty_sample(sample)"
   ]
  },
  {
   "cell_type": "code",
   "execution_count": null,
   "id": "2a4435d0",
   "metadata": {},
   "outputs": [],
   "source": [
    "def T_1(X):\n",
    "        \"\"\" Calcula la media muestral de una muestra aleatoria X=(X_1,...X_n)\n",
    "        :param X: X es un arreglo de Numpy.\n",
    "        :return: La media aritmética de las entradas del vector X.\n",
    "        \"\"\"\n",
    "\n",
    "        return around2(X.mean())\n",
    "    \n",
    "def T_2(X):\n",
    "        \"\"\" Calcula la media muestral y la estadística S^2.\n",
    "        :param X: X es un arreglo de Numpy.\n",
    "        :return: (media, s^2)\n",
    "        \"\"\"\n",
    "\n",
    "        t_1 = X.mean()\n",
    "        coef = 1 / (X.size - 1)\n",
    "        t_2 = coef * ((X - X.mean()) ** 2).sum()\n",
    "        \n",
    "        return around2(t_1), around2(t_2)"
   ]
  },
  {
   "cell_type": "code",
   "execution_count": null,
   "id": "4bc21cd7",
   "metadata": {},
   "outputs": [],
   "source": [
    "print(T_1(sample))"
   ]
  },
  {
   "cell_type": "code",
   "execution_count": null,
   "id": "ca43f9a5",
   "metadata": {},
   "outputs": [],
   "source": [
    "T_2(sample)"
   ]
  },
  {
   "cell_type": "markdown",
   "id": "8f55e2fa",
   "metadata": {},
   "source": [
    "## Sobre el proceso de generación de muestras\n",
    "\n",
    "Durante el curso siempre suponemos que tenemos (al menos) una muestra aleatoria, es decir, un conjunto de $n$ variables aleatorias independientes e idénticamente distribuidas\n",
    "$$\n",
    "    X_1, \\dots X_n \\sim F_{\\vec{\\theta}}\n",
    "$$\n",
    "donde $F_{\\vec{\\theta}}$ es un modelo de probabilidad paramétrico. Note que las $X_{i}$'s son variables aleatorias, pero en la práctica realmente tenemos realizaciones de estas variables aleatorias $x_1, \\dots x_n$. A lo largo de este Notebook trabajaremos con las realizaciones de variables aleatorias (es decir, con números reales) pero hay que recordar que existe un modelo de probabilidad subyacente.\n",
    "\n",
    "\n",
    "Recordemos que en probabilidad partimos de un modelo de probabilidad, $F$, conocido, y de este podemos obtener números que sigan esta distribución o ley de probabilidad. En estadística es al revés: inicialmente tenemos un conjunto de datos, por ejemplo\n",
    "\n",
    "$$\n",
    "   C = \\{ -2.82, 1.90, 1.20, -1.22, 0.04, 0.07, 3.78, -6.46, -3.78,  1.07 \\}\n",
    "$$\n",
    "\n",
    "y suponemos que existe un modelo de probabilidad paramétrico, $F_{\\vec{\\theta}}$. La elección del modelo se hace, en parte, haciendo un análisis exploratorio de datos (EDA) o por algún otro conocimiento previo del experimento que dio origen a los datos. En este caso, podemos suponer que el conjunto de datos $C$ proviene (o fue muestreado) de una población $F_{\\mu,\\sigma^{2}} = \\mathcal{N}(\\mu, \\sigma ^{2})$. Note que los valores de la media y la varianza son, en principio, desconocidos; el objetivo de la estimación puntual es estimar puntualmente (es decir, con un único número) cada uno de esos parámetros usando la información contenida en la muestra $C$.\n",
    "\n",
    "En lo sucesivo, partiremos de un conjunto de datos, $C$, que leeremos desde un archivo _.csv_, y diremos de qué modelo de probabilidad paramétrico fue muestreado, sin decir el valor de los parámetros (aunque estos son conocidos, de otra forma no se habrían podido simular computacionalmente).\n"
   ]
  },
  {
   "cell_type": "code",
   "execution_count": null,
   "id": "d516a3f5",
   "metadata": {},
   "outputs": [],
   "source": []
  }
 ],
 "metadata": {
  "kernelspec": {
   "display_name": "Python 3 (ipykernel)",
   "language": "python",
   "name": "python3"
  },
  "language_info": {
   "codemirror_mode": {
    "name": "ipython",
    "version": 3
   },
   "file_extension": ".py",
   "mimetype": "text/x-python",
   "name": "python",
   "nbconvert_exporter": "python",
   "pygments_lexer": "ipython3",
   "version": "3.10.6"
  }
 },
 "nbformat": 4,
 "nbformat_minor": 5
}
